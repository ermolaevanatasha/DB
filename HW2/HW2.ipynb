{
 "cells": [
  {
   "cell_type": "markdown",
   "metadata": {
    "collapsed": true
   },
   "source": [
    "### ДЗ2"
   ]
  },
  {
   "cell_type": "markdown",
   "metadata": {},
   "source": [
    "Хранение расписания тренировок с детализацией упражнений по каждой тренировке по каждому участнику."
   ]
  },
  {
   "cell_type": "markdown",
   "metadata": {},
   "source": [
    "### Подготовка данных для создания БД"
   ]
  },
  {
   "cell_type": "markdown",
   "metadata": {},
   "source": [
    "**Участники тренировок**"
   ]
  },
  {
   "cell_type": "code",
   "execution_count": 1,
   "metadata": {},
   "outputs": [],
   "source": [
    "import pandas as pd\n",
    "import random\n",
    "from random import sample"
   ]
  },
  {
   "cell_type": "code",
   "execution_count": 2,
   "metadata": {},
   "outputs": [],
   "source": [
    "russian_names = pd.read_csv('russian_names.csv', sep=';')"
   ]
  },
  {
   "cell_type": "code",
   "execution_count": 3,
   "metadata": {
    "collapsed": true
   },
   "outputs": [],
   "source": [
    "random_names = russian_names.Name.sample(n=5)"
   ]
  },
  {
   "cell_type": "code",
   "execution_count": 4,
   "metadata": {},
   "outputs": [],
   "source": [
    "names = random_names.tolist()"
   ]
  },
  {
   "cell_type": "code",
   "execution_count": 5,
   "metadata": {},
   "outputs": [
    {
     "data": {
      "text/plain": [
       "['Фарадиса', 'Домиан', 'Хадира', 'Агонета', 'Кушан']"
      ]
     },
     "execution_count": 5,
     "metadata": {},
     "output_type": "execute_result"
    }
   ],
   "source": [
    "names"
   ]
  },
  {
   "cell_type": "markdown",
   "metadata": {},
   "source": [
    "**Дни недели**"
   ]
  },
  {
   "cell_type": "code",
   "execution_count": 6,
   "metadata": {
    "collapsed": true
   },
   "outputs": [],
   "source": [
    "days = ['Понедельник', 'Вторник', 'Среда', 'Четверг', 'Пятница', 'Суббота', 'Воскресенье']"
   ]
  },
  {
   "cell_type": "markdown",
   "metadata": {},
   "source": [
    "**Пусть каждый участник посещает как минимум 1 (но не больше 3-х) тренировок в неделю**"
   ]
  },
  {
   "cell_type": "code",
   "execution_count": 7,
   "metadata": {
    "collapsed": true
   },
   "outputs": [],
   "source": [
    "import copy"
   ]
  },
  {
   "cell_type": "code",
   "execution_count": 8,
   "metadata": {
    "collapsed": true
   },
   "outputs": [],
   "source": [
    "sportsmen_list = copy.copy(names)"
   ]
  },
  {
   "cell_type": "code",
   "execution_count": 9,
   "metadata": {},
   "outputs": [],
   "source": [
    "sportsmen_list += ([i for i in names] * 2)"
   ]
  },
  {
   "cell_type": "code",
   "execution_count": 10,
   "metadata": {},
   "outputs": [],
   "source": [
    "workout_days = []\n",
    "for i in range(len(sportsmen_list)):\n",
    "    workout_days.append(random.choice(days))"
   ]
  },
  {
   "cell_type": "code",
   "execution_count": 11,
   "metadata": {},
   "outputs": [],
   "source": [
    "workout_days = list(set(tuple(zip(sportsmen_list, workout_days))))"
   ]
  },
  {
   "cell_type": "code",
   "execution_count": 12,
   "metadata": {},
   "outputs": [
    {
     "data": {
      "text/plain": [
       "[('Агонета', 'Вторник'),\n",
       " ('Кушан', 'Суббота'),\n",
       " ('Кушан', 'Пятница'),\n",
       " ('Хадира', 'Суббота'),\n",
       " ('Домиан', 'Пятница'),\n",
       " ('Фарадиса', 'Четверг'),\n",
       " ('Фарадиса', 'Суббота'),\n",
       " ('Домиан', 'Понедельник'),\n",
       " ('Кушан', 'Среда'),\n",
       " ('Хадира', 'Вторник')]"
      ]
     },
     "execution_count": 12,
     "metadata": {},
     "output_type": "execute_result"
    }
   ],
   "source": [
    "workout_days[:10]"
   ]
  },
  {
   "cell_type": "markdown",
   "metadata": {},
   "source": [
    "**Тренеры**"
   ]
  },
  {
   "cell_type": "code",
   "execution_count": 13,
   "metadata": {
    "collapsed": true
   },
   "outputs": [],
   "source": [
    "trainers = random.sample(list(set(russian_names.Name.tolist()) - set(names)), len(sportsmen_list))"
   ]
  },
  {
   "cell_type": "code",
   "execution_count": 14,
   "metadata": {},
   "outputs": [
    {
     "data": {
      "text/plain": [
       "['Гранида', 'Лолитта', 'Фархат', 'Асмиральда', 'Нела']"
      ]
     },
     "execution_count": 14,
     "metadata": {},
     "output_type": "execute_result"
    }
   ],
   "source": [
    "trainers[:5]"
   ]
  },
  {
   "cell_type": "markdown",
   "metadata": {},
   "source": [
    "**Тренировки**"
   ]
  },
  {
   "cell_type": "code",
   "execution_count": 15,
   "metadata": {},
   "outputs": [],
   "source": [
    "with open('workout.txt', 'r', encoding='utf-8') as f:\n",
    "    workouts = f.read().split('\\n')"
   ]
  },
  {
   "cell_type": "code",
   "execution_count": 16,
   "metadata": {},
   "outputs": [
    {
     "data": {
      "text/plain": [
       "['Баттерфляй',\n",
       " 'Бег',\n",
       " 'Боковые выпады',\n",
       " 'Боковые скручивания',\n",
       " 'Брасс',\n",
       " 'Жим гантелей лежа',\n",
       " 'Махи ногой',\n",
       " 'Отжимания',\n",
       " 'Планка',\n",
       " 'Подтягивание на перекладине']"
      ]
     },
     "execution_count": 16,
     "metadata": {},
     "output_type": "execute_result"
    }
   ],
   "source": [
    "workouts"
   ]
  },
  {
   "cell_type": "markdown",
   "metadata": {},
   "source": [
    "### Создание БД"
   ]
  },
  {
   "cell_type": "code",
   "execution_count": 17,
   "metadata": {},
   "outputs": [],
   "source": [
    "import psycopg2"
   ]
  },
  {
   "cell_type": "code",
   "execution_count": 18,
   "metadata": {
    "collapsed": true
   },
   "outputs": [],
   "source": [
    "conn = psycopg2.connect(dbname='bg3nkuldzalayon',\n",
    "                       user='uu6gphexkx3fzzeb66mn',\n",
    "                       host='bg3nkuldzalayon-postgresql.services.clever-cloud.com',\n",
    "                       password='UOz4hO5b1ah86rNyqP48')\n",
    "\n",
    "cur = conn.cursor()"
   ]
  },
  {
   "cell_type": "markdown",
   "metadata": {},
   "source": [
    "**Создание таблиц**"
   ]
  },
  {
   "cell_type": "code",
   "execution_count": 19,
   "metadata": {},
   "outputs": [],
   "source": [
    "# cur.execute('DROP TABLE sportsmen, trainers, workouts, days, schedule')"
   ]
  },
  {
   "cell_type": "code",
   "execution_count": 20,
   "metadata": {},
   "outputs": [],
   "source": [
    "cur.execute('CREATE TABLE sportsmen (Name TEXT);')\n",
    "cur.execute('CREATE TABLE trainers (Name TEXT);')\n",
    "cur.execute('CREATE TABLE workouts (Workout TEXT);')\n",
    "cur.execute('CREATE TABLE days (Day TEXT);')\n",
    "cur.execute('CREATE TABLE schedule (Name TEXT, Workout TEXT, Day TEXT, Trainer TEXT);')"
   ]
  },
  {
   "cell_type": "markdown",
   "metadata": {},
   "source": [
    "**Заполнение таблиц**"
   ]
  },
  {
   "cell_type": "code",
   "execution_count": 21,
   "metadata": {},
   "outputs": [],
   "source": [
    "for element in names:\n",
    "    cur.execute('INSERT INTO sportsmen VALUES (%s)', [element])\n",
    "    \n",
    "for element in trainers:\n",
    "    cur.execute('INSERT INTO trainers VALUES (%s)', [element])\n",
    "    \n",
    "for element in workouts:\n",
    "    cur.execute('INSERT INTO workouts VALUES (%s)', [element])\n",
    "    \n",
    "for element in days:\n",
    "    cur.execute('INSERT INTO days VALUES (%s)', [element])"
   ]
  },
  {
   "cell_type": "markdown",
   "metadata": {},
   "source": [
    "**Пусть тренировка каждого участника состоит из 3-х случайных упражнений**"
   ]
  },
  {
   "cell_type": "code",
   "execution_count": 22,
   "metadata": {},
   "outputs": [],
   "source": [
    "workout = []\n",
    "for i in range(len(sportsmen_list)):\n",
    "    workout.append(', '.join(sample(workouts, 3)))"
   ]
  },
  {
   "cell_type": "code",
   "execution_count": 23,
   "metadata": {},
   "outputs": [
    {
     "data": {
      "text/plain": [
       "'Отжимания, Боковые выпады, Бег'"
      ]
     },
     "execution_count": 23,
     "metadata": {},
     "output_type": "execute_result"
    }
   ],
   "source": [
    "workout[0]"
   ]
  },
  {
   "cell_type": "code",
   "execution_count": 24,
   "metadata": {},
   "outputs": [],
   "source": [
    "for element, w, tr in zip(workout_days, workout, trainers):\n",
    "    cur.execute('INSERT INTO schedule VALUES (%s, %s, %s, %s);', [element[0], w, element[1], tr])"
   ]
  },
  {
   "cell_type": "markdown",
   "metadata": {},
   "source": [
    "**Tables overview**"
   ]
  },
  {
   "cell_type": "code",
   "execution_count": 25,
   "metadata": {
    "collapsed": true
   },
   "outputs": [],
   "source": [
    "tables = ['sportsmen', 'trainers', 'workouts', 'days', 'schedule']"
   ]
  },
  {
   "cell_type": "code",
   "execution_count": 26,
   "metadata": {},
   "outputs": [],
   "source": [
    "def show(tables):\n",
    "    for table in tables:\n",
    "        cur.execute('SELECT * FROM %s' % table)\n",
    "        print(table.upper())\n",
    "        for data in cur.fetchall()[:5]:\n",
    "            print(data)"
   ]
  },
  {
   "cell_type": "code",
   "execution_count": 27,
   "metadata": {},
   "outputs": [
    {
     "name": "stdout",
     "output_type": "stream",
     "text": [
      "SPORTSMEN\n",
      "('Фарадиса',)\n",
      "('Домиан',)\n",
      "('Хадира',)\n",
      "('Агонета',)\n",
      "('Кушан',)\n",
      "TRAINERS\n",
      "('Гранида',)\n",
      "('Лолитта',)\n",
      "('Фархат',)\n",
      "('Асмиральда',)\n",
      "('Нела',)\n",
      "WORKOUTS\n",
      "('Баттерфляй',)\n",
      "('Бег',)\n",
      "('Боковые выпады',)\n",
      "('Боковые скручивания',)\n",
      "('Брасс',)\n",
      "DAYS\n",
      "('Понедельник',)\n",
      "('Вторник',)\n",
      "('Среда',)\n",
      "('Четверг',)\n",
      "('Пятница',)\n",
      "SCHEDULE\n",
      "('Агонета', 'Отжимания, Боковые выпады, Бег', 'Вторник', 'Гранида')\n",
      "('Кушан', 'Махи ногой, Подтягивание на перекладине, Боковые выпады', 'Суббота', 'Лолитта')\n",
      "('Кушан', 'Подтягивание на перекладине, Жим гантелей лежа, Махи ногой', 'Пятница', 'Фархат')\n",
      "('Хадира', 'Планка, Боковые выпады, Брасс', 'Суббота', 'Асмиральда')\n",
      "('Домиан', 'Подтягивание на перекладине, Планка, Махи ногой', 'Пятница', 'Нела')\n"
     ]
    }
   ],
   "source": [
    "show(tables)"
   ]
  },
  {
   "cell_type": "markdown",
   "metadata": {},
   "source": [
    "**Посмотрим на расписание тренировок какого-либо спортсмена**"
   ]
  },
  {
   "cell_type": "code",
   "execution_count": 28,
   "metadata": {
    "collapsed": true
   },
   "outputs": [],
   "source": [
    "def show_schedule(name):\n",
    "    if name not in names:\n",
    "        print('Такого имени нет в базе данных.')\n",
    "        return None\n",
    "\n",
    "    query = \"SELECT * FROM schedule WHERE Name LIKE '%s'\" % (name)\n",
    "    cur.execute(query)\n",
    "    sportsman = cur.fetchall()\n",
    "    \n",
    "    print(sportsman)"
   ]
  },
  {
   "cell_type": "code",
   "execution_count": 29,
   "metadata": {},
   "outputs": [
    {
     "name": "stdout",
     "output_type": "stream",
     "text": [
      "ДОМИАН\n",
      "[('Домиан', 'Подтягивание на перекладине, Планка, Махи ногой', 'Пятница', 'Нела'), ('Домиан', 'Баттерфляй, Боковые выпады, Брасс', 'Понедельник', 'Эржибетта'), ('Домиан', 'Отжимания, Брасс, Жим гантелей лежа', 'Среда', 'Алетий')]\n"
     ]
    }
   ],
   "source": [
    "rand = random.choice(names)\n",
    "print(rand.upper())\n",
    "show_schedule(random.choice(names))"
   ]
  },
  {
   "cell_type": "code",
   "execution_count": 30,
   "metadata": {},
   "outputs": [
    {
     "name": "stdout",
     "output_type": "stream",
     "text": [
      "Такого имени нет в базе данных.\n"
     ]
    }
   ],
   "source": [
    "show_schedule('Имиромиваромвы')"
   ]
  },
  {
   "cell_type": "code",
   "execution_count": 31,
   "metadata": {
    "collapsed": true
   },
   "outputs": [],
   "source": [
    "def show_trainer_schedule(name):\n",
    "    if name not in trainers:\n",
    "        print('Такого имени нет в базе данных.')\n",
    "        return None\n",
    "\n",
    "    cur.execute(\"SELECT * FROM schedule WHERE schedule.Trainer LIKE '%s'\" % (name))\n",
    "    trainer = cur.fetchall()\n",
    "        \n",
    "    print(trainer)"
   ]
  },
  {
   "cell_type": "code",
   "execution_count": 32,
   "metadata": {},
   "outputs": [
    {
     "name": "stdout",
     "output_type": "stream",
     "text": [
      "НЕЛА\n",
      "[('Домиан', 'Подтягивание на перекладине, Планка, Махи ногой', 'Пятница', 'Нела')]\n"
     ]
    }
   ],
   "source": [
    "rand = random.choice(trainers)\n",
    "print(rand.upper())\n",
    "show_trainer_schedule(rand)"
   ]
  },
  {
   "cell_type": "markdown",
   "metadata": {},
   "source": [
    "**DELETE**"
   ]
  },
  {
   "cell_type": "code",
   "execution_count": 33,
   "metadata": {
    "collapsed": true
   },
   "outputs": [],
   "source": [
    "def check(table, j):\n",
    "    cur.execute('SELECT * FROM %s' % table)\n",
    "    rows = cur.fetchall()\n",
    "    check_rows = []\n",
    "    for i in range(len(rows)):\n",
    "        check_rows.append(rows[i][j].lower())\n",
    "    \n",
    "    return check_rows"
   ]
  },
  {
   "cell_type": "code",
   "execution_count": 34,
   "metadata": {},
   "outputs": [],
   "source": [
    "def delete_sportsman(name):\n",
    "    if name.lower() not in check('sportsmen', j=0):\n",
    "        print('Такого имени нет в базе данных.')\n",
    "        \n",
    "    else:\n",
    "        cur.execute(\"DELETE FROM sportsmen WHERE Name = '%s'\" % name)\n",
    "        cur.execute(\"DELETE FROM schedule WHERE Name IN (SELECT Name FROM schedule WHERE Name = '%s')\" % name)\n",
    "        conn.commit()\n",
    "        names.remove(name)\n",
    "        print(name + ' was deleted.')"
   ]
  },
  {
   "cell_type": "code",
   "execution_count": 35,
   "metadata": {},
   "outputs": [
    {
     "name": "stdout",
     "output_type": "stream",
     "text": [
      "Такого имени нет в базе данных.\n"
     ]
    }
   ],
   "source": [
    "delete_sportsman('Fnjkfnf')"
   ]
  },
  {
   "cell_type": "code",
   "execution_count": 36,
   "metadata": {},
   "outputs": [
    {
     "name": "stdout",
     "output_type": "stream",
     "text": [
      "Фарадиса was deleted.\n"
     ]
    }
   ],
   "source": [
    "delete_sportsman(random.choice(names))"
   ]
  },
  {
   "cell_type": "code",
   "execution_count": 37,
   "metadata": {},
   "outputs": [],
   "source": [
    "def delete_trainer(name):\n",
    "    if name.lower() not in check('trainers', j=0):\n",
    "        print('Такого имени нет в базе данных.')\n",
    "    \n",
    "    else:\n",
    "        cur.execute(\"DELETE FROM trainers WHERE Name = '%s'\" % name)\n",
    "        # Чтобы участники тренировок и другие данные остались в таблице\n",
    "        cur.execute(\"UPDATE schedule SET Trainer = (%s) WHERE Trainer IN \\\n",
    "                    (SELECT Trainer FROM schedule WHERE Trainer = '%s')\" % ('null', name))\n",
    "        conn.commit()\n",
    "        trainers.remove(name)\n",
    "        print(name + ' was deleted.')"
   ]
  },
  {
   "cell_type": "code",
   "execution_count": 38,
   "metadata": {},
   "outputs": [
    {
     "name": "stdout",
     "output_type": "stream",
     "text": [
      "Такого имени нет в базе данных.\n"
     ]
    }
   ],
   "source": [
    "delete_trainer('BFHbhjfbfjf')"
   ]
  },
  {
   "cell_type": "code",
   "execution_count": 39,
   "metadata": {},
   "outputs": [
    {
     "name": "stdout",
     "output_type": "stream",
     "text": [
      "Резеда was deleted.\n"
     ]
    }
   ],
   "source": [
    "delete_trainer(random.choice(trainers))"
   ]
  },
  {
   "cell_type": "markdown",
   "metadata": {},
   "source": [
    "**INSERT**"
   ]
  },
  {
   "cell_type": "code",
   "execution_count": 40,
   "metadata": {
    "collapsed": true
   },
   "outputs": [],
   "source": [
    "def new_sportsman(name):\n",
    "    if name.lower() in check('sportsmen', j=0):\n",
    "        print('Такой участник уже есть в базе данных.')\n",
    "        \n",
    "    else:\n",
    "        cur.execute('INSERT INTO sportsmen VALUES (%s)', [name])\n",
    "        conn.commit()\n",
    "        names.append(name)\n",
    "        print(name + ' was added.')"
   ]
  },
  {
   "cell_type": "code",
   "execution_count": 41,
   "metadata": {},
   "outputs": [
    {
     "name": "stdout",
     "output_type": "stream",
     "text": [
      "Катя was added.\n"
     ]
    }
   ],
   "source": [
    "new_sportsman('Катя')"
   ]
  },
  {
   "cell_type": "code",
   "execution_count": 43,
   "metadata": {
    "collapsed": true
   },
   "outputs": [],
   "source": [
    "def new_trainer(name):\n",
    "    if name.lower() in check('trainers', j=0):\n",
    "        print('Такой тренер уже есть в базе данных.')\n",
    "    \n",
    "    else:\n",
    "        cur.execute('INSERT INTO trainers VALUES (%s)', [name])\n",
    "        conn.commit()\n",
    "        trainers.append(name)\n",
    "        print(name + ' was added.')"
   ]
  },
  {
   "cell_type": "code",
   "execution_count": 44,
   "metadata": {},
   "outputs": [
    {
     "name": "stdout",
     "output_type": "stream",
     "text": [
      "Владимир was added.\n"
     ]
    }
   ],
   "source": [
    "new_trainer('Владимир')"
   ]
  },
  {
   "cell_type": "code",
   "execution_count": 45,
   "metadata": {},
   "outputs": [],
   "source": [
    "def new_exercise(name):\n",
    "    if name.lower() in check('workouts', j=0):\n",
    "        print('Такое упражнение уже есть в базе данных.')\n",
    "    \n",
    "    else:\n",
    "        cur.execute('INSERT INTO workouts VALUES (%s)', [name])\n",
    "        conn.commit()\n",
    "        workouts.append(name)\n",
    "        print(name + ' was added.')"
   ]
  },
  {
   "cell_type": "code",
   "execution_count": 46,
   "metadata": {},
   "outputs": [
    {
     "name": "stdout",
     "output_type": "stream",
     "text": [
      "Растяжка was added.\n"
     ]
    }
   ],
   "source": [
    "new_exercise('Растяжка')"
   ]
  },
  {
   "cell_type": "code",
   "execution_count": 47,
   "metadata": {
    "collapsed": true
   },
   "outputs": [],
   "source": [
    "def new_data(name, workout, day, trainer):\n",
    "    cur.execute('INSERT INTO schedule VALUES (%s, %s, %s, %s)', (name, workout, day, trainer))\n",
    "    conn.commit()\n",
    "    print(name + ', ' + workout + ', ' + day + ', ' + trainer + ' were added.')"
   ]
  },
  {
   "cell_type": "code",
   "execution_count": 48,
   "metadata": {},
   "outputs": [
    {
     "name": "stdout",
     "output_type": "stream",
     "text": [
      "Оля, Прыжки, танцы, отжимания, Понедельник, Андрей were added.\n"
     ]
    }
   ],
   "source": [
    "new_data('Оля', 'Прыжки, танцы, отжимания', 'Понедельник', 'Андрей')"
   ]
  },
  {
   "cell_type": "markdown",
   "metadata": {},
   "source": [
    "**UPDATE**"
   ]
  },
  {
   "cell_type": "code",
   "execution_count": 49,
   "metadata": {},
   "outputs": [],
   "source": [
    "def update_sportsman(name1, name2):\n",
    "    if name1.lower() not in check('sportsmen', j=0) and name1.lower() not in check('schedule', j=0):\n",
    "        print('Такого участника нет в базе данных.')\n",
    "    \n",
    "    else:\n",
    "        cur.execute(\"UPDATE sportsmen SET Name = %s WHERE Name = %s\", (name2, name1))\n",
    "        cur.execute(\"UPDATE schedule SET Name = %s WHERE Name = %s\", (name2, name1))\n",
    "        conn.commit()\n",
    "        names[names.index(name1)] = name2\n",
    "        print(name1 + ' was changed to ' + name2 + '.')"
   ]
  },
  {
   "cell_type": "code",
   "execution_count": 50,
   "metadata": {},
   "outputs": [
    {
     "name": "stdout",
     "output_type": "stream",
     "text": [
      "Катя was changed to Оля.\n"
     ]
    }
   ],
   "source": [
    "update_sportsman('Катя', 'Оля')"
   ]
  },
  {
   "cell_type": "code",
   "execution_count": 51,
   "metadata": {
    "collapsed": true
   },
   "outputs": [],
   "source": [
    "def update_trainer(name1, name2):\n",
    "    if name1.lower() not in check('trainers', j=0):\n",
    "        print('Такого участника нет в базе данных.')\n",
    "    \n",
    "    else:\n",
    "        cur.execute(\"UPDATE trainers SET Name = %s WHERE Name = %s\", (name2, name1))\n",
    "        cur.execute(\"UPDATE schedule SET Trainer = %s WHERE Trainer = %s\", (name2, name1))\n",
    "        conn.commit()\n",
    "        trainers[trainers.index(name1)] = name2\n",
    "        print(name1 + ' was changed to ' + name2 + '.')"
   ]
  },
  {
   "cell_type": "code",
   "execution_count": 52,
   "metadata": {},
   "outputs": [
    {
     "name": "stdout",
     "output_type": "stream",
     "text": [
      "Такого участника нет в базе данных.\n"
     ]
    }
   ],
   "source": [
    "update_trainer('Тедбир', 'Игорь')"
   ]
  },
  {
   "cell_type": "code",
   "execution_count": 53,
   "metadata": {},
   "outputs": [],
   "source": [
    "def update_day(name, day):\n",
    "    cur.execute(\"UPDATE schedule SET Day = %s WHERE Name = %s\", (day, name))\n",
    "    conn.commit()\n",
    "    print('Day for ' + name + ' was changed to ' + day + '.')"
   ]
  },
  {
   "cell_type": "code",
   "execution_count": 54,
   "metadata": {},
   "outputs": [
    {
     "name": "stdout",
     "output_type": "stream",
     "text": [
      "Day for Игорь was changed to Вторник.\n"
     ]
    }
   ],
   "source": [
    "update_day('Игорь', 'Вторник')"
   ]
  },
  {
   "cell_type": "markdown",
   "metadata": {},
   "source": [
    "**JOIN**"
   ]
  },
  {
   "cell_type": "markdown",
   "metadata": {},
   "source": [
    "Добавим еще несколько строчек в таблицу <code>schedule</code>, чтобы с помощью <code>JOIN</code> проверить, например, какие участники тренировок есть в <code>schedule</code>, но отсутствуют в <code>sportsmen</code>."
   ]
  },
  {
   "cell_type": "code",
   "execution_count": 55,
   "metadata": {},
   "outputs": [
    {
     "name": "stdout",
     "output_type": "stream",
     "text": [
      "Галя, Фигурное катание, танцы, бег, Понедельник, Кристина were added.\n"
     ]
    }
   ],
   "source": [
    "new_data('Галя', 'Фигурное катание, танцы, бег', 'Понедельник', 'Кристина')"
   ]
  },
  {
   "cell_type": "code",
   "execution_count": 56,
   "metadata": {},
   "outputs": [
    {
     "name": "stdout",
     "output_type": "stream",
     "text": [
      "Юля, Лыжи, растяжка, бег, Вторник, Игорь were added.\n"
     ]
    }
   ],
   "source": [
    "new_data('Юля', 'Лыжи, растяжка, бег', 'Вторник', 'Игорь')"
   ]
  },
  {
   "cell_type": "code",
   "execution_count": 57,
   "metadata": {},
   "outputs": [
    {
     "name": "stdout",
     "output_type": "stream",
     "text": [
      "Сергей, Йога, гимнастика, бег, Среда, Александр were added.\n"
     ]
    }
   ],
   "source": [
    "new_data('Сергей', 'Йога, гимнастика, бег', 'Среда', 'Александр')"
   ]
  },
  {
   "cell_type": "code",
   "execution_count": 58,
   "metadata": {},
   "outputs": [
    {
     "name": "stdout",
     "output_type": "stream",
     "text": [
      "Елена, Йога, гимнастика, бег, Среда, Александр were added.\n"
     ]
    }
   ],
   "source": [
    "new_data('Елена', 'Йога, гимнастика, бег', 'Среда', 'Александр')"
   ]
  },
  {
   "cell_type": "code",
   "execution_count": 59,
   "metadata": {
    "collapsed": true
   },
   "outputs": [],
   "source": [
    "def sportsman_trainer():\n",
    "    cur.execute(\"SELECT * FROM schedule FULL OUTER JOIN sportsmen USING (Name) WHERE sportsmen.Name IS NULL\")\n",
    "    rows = cur.fetchall()\n",
    "\n",
    "    if rows != []:\n",
    "        headers = ['Name', 'Workout', 'Day', 'Trainer']\n",
    "        print('{:<10s} {:<30s} {:<15s} {:<10s}'.format(*headers))\n",
    "        for list_ in rows:\n",
    "            print('{:<10s} {:<30s} {:<15s} {:<10s}'.format(*list_))\n",
    "    \n",
    "    else:\n",
    "        print('Все участники тренировок содержатся в обеих таблицах.')"
   ]
  },
  {
   "cell_type": "code",
   "execution_count": 60,
   "metadata": {},
   "outputs": [
    {
     "name": "stdout",
     "output_type": "stream",
     "text": [
      "Name       Workout                        Day             Trainer   \n",
      "Сергей     Йога, гимнастика, бег          Среда           Александр \n",
      "Елена      Йога, гимнастика, бег          Среда           Александр \n",
      "Галя       Фигурное катание, танцы, бег   Понедельник     Кристина  \n",
      "Юля        Лыжи, растяжка, бег            Вторник         Игорь     \n"
     ]
    }
   ],
   "source": [
    "sportsman_trainer()"
   ]
  },
  {
   "cell_type": "markdown",
   "metadata": {},
   "source": [
    "Добавим то, что нашлось, в таблицу <code>sportsmen</code>."
   ]
  },
  {
   "cell_type": "code",
   "execution_count": 61,
   "metadata": {},
   "outputs": [],
   "source": [
    "# cur.execute(\"SELECT * FROM schedule FULL OUTER JOIN sportsmen USING (Name) WHERE sportsmen.Name IS NULL\")\n",
    "# for i in cur.fetchall():\n",
    "#     new_sportsman(i[0])"
   ]
  },
  {
   "cell_type": "markdown",
   "metadata": {},
   "source": [
    "**Реализация некоторых запросов пользователя**"
   ]
  },
  {
   "cell_type": "code",
   "execution_count": 62,
   "metadata": {},
   "outputs": [],
   "source": [
    "def user_input():\n",
    "    # Список таблиц БД\n",
    "    user = input('Чтобы узнать, какие таблицы есть в базе данных, введите 1:' + '\\n')\n",
    "    \n",
    "    if user == '' or user != '1':\n",
    "        user = input('Похоже, что вы ввели пустой или неверный запрос. Попробуйте еще раз!' + '\\n')\n",
    "    \n",
    "    if user == '1':\n",
    "        print('\\n' + 'Названия таблиц, содержащихся в базе данных: ')\n",
    "        cur.execute(\"SELECT * FROM pg_catalog.pg_tables WHERE schemaname != 'pg_catalog' \\\n",
    "                    AND schemaname != 'information_schema'\")\n",
    "        \n",
    "        for i in cur.fetchall():\n",
    "            print(i[1])\n",
    "    \n",
    "    # Содержимое таблиц\n",
    "    user = input('Чтобы узнать, какие данные содержат имеющиеся таблицы, введите 2:' + '\\n')\n",
    "    \n",
    "    if user == '' or user != '2':\n",
    "        user = input('Похоже, что вы ввели пустой или неверный запрос. Попробуйте еще раз:' + '\\n')\n",
    "\n",
    "    if user == '2':\n",
    "        print('\\n' + 'Данные, содержащиеся в таблицах: ')\n",
    "        show(tables)\n",
    "        \n",
    "    # Расписание тренировок конкретного спорсмена\n",
    "    user = input('Чтобы узнать, какие тренировки посещает спортсмен, введите 3:' + '\\n')\n",
    "    \n",
    "    if user == '' or user != '3':\n",
    "        user = input('Похоже, что вы ввели пустой или неверный запрос. Попробуйте еще раз:' + '\\n')\n",
    "        \n",
    "    if user == '3':\n",
    "        print('\\n' + 'Список доступных имен: ' + ', '.join(names))\n",
    "        user = input('\\n' + 'Введите имя спортсмена:' + '\\n')\n",
    "    \n",
    "        if user.title() in names:\n",
    "            print('\\n' + 'Расписание тренировок для спортсмена %s: ' % user.title())\n",
    "            show_schedule(user.title())\n",
    "\n",
    "        else:\n",
    "            user = input('К сожалению, такого спортсмена нет в базе данных. ' + \n",
    "                         'Чтобы добавить спортсмена в базу данных, введите 0 или попробуйте другой запрос:' + '\\n')\n",
    "            \n",
    "            if user != '0':\n",
    "                if user.title() in names:\n",
    "                    print('\\n' + 'Расписание тренировок для спортсмена %s: ' % user.title())\n",
    "                    show_schedule(user.title())\n",
    "                    \n",
    "            if user == '0':\n",
    "                user = input('\\n' + 'Введите имя спортсмена, которого хотели бы добавить в базу данных:' + '\\n')\n",
    "                new_sportsman(user.title())\n",
    "                \n",
    "                user = input('\\n' + 'Чтобы добавить тренировки, день занятий и тренера для спортсмена, введите 5:' + '\\n')\n",
    "                \n",
    "                if user == '' or user != '5':\n",
    "                    user = input('Похоже, что вы ввели пустой или неверный запрос. Попробуйте еще раз:' + '\\n')\n",
    "                    \n",
    "                if user == '5':\n",
    "                    name = input('\\n' + 'Введите имя спортсмена:' + '\\n')\n",
    "                    workout = input('\\n' + 'Введите список упражнений:' + '\\n')\n",
    "                    day = input('\\n' + 'Введите день недели:' + '\\n')\n",
    "                    trainer = input('\\n' + 'Введите имя тренера:' + '\\n')\n",
    "                    new_data(name, workout, day, trainer)\n",
    "                     \n",
    "    # Расписание занятий конкретного тренера\n",
    "    user = input('Чтобы узнать, какие занятия проводит тренер, введите 4:' + '\\n')\n",
    "    \n",
    "    if user == '' or user != '4':\n",
    "        user = input('Похоже, что вы ввели пустой или неверный запрос. Попробуйте еще раз:' + '\\n')\n",
    "    \n",
    "    if user == '4':\n",
    "        print('\\n' + 'Список доступных имен: ' + ', '.join(trainers))\n",
    "        user = input('\\n' + 'Выберите тренера из списка и введите его имя:' + '\\n')\n",
    "    \n",
    "        if user.title() in trainers:\n",
    "            print('\\n' + 'Расписание занятий для тренера %s: ' % user.title())\n",
    "            show_trainer_schedule(user.title())\n",
    "\n",
    "        else:\n",
    "            user = input('К сожалению, такого тренера нет в базе данных. ' + \n",
    "                         'Чтобы добавить тренера в базу данных, введите 9 или попробуйте другой запрос:' + '\\n')\n",
    "            \n",
    "            if user != '9':\n",
    "                if user.title() in trainers:\n",
    "                    print('\\n' + 'Расписание занятий для тренера %s: ' % user.title())\n",
    "                    show_trainer_schedule(user.title())\n",
    "                    \n",
    "            if user == '9':\n",
    "                user = input('\\n' + 'Введите имя тренера, которого хотели бы добавить в базу данных:' + '\\n')\n",
    "                new_trainer(user.title())\n",
    "    \n",
    "    # Удалить спортсмена и все данные о нем из базы данных\n",
    "    user = input('Чтобы удалить конкретного спортсмена из базы данных, введите 6:' + '\\n')\n",
    "    \n",
    "    if user == '' or user != '6':\n",
    "        user = input('Похоже, что вы ввели пустой или неверный запрос. Попробуйте еще раз:' + '\\n')\n",
    "    \n",
    "    if user == '6':\n",
    "        print('\\n' + 'Список доступных имен: ' + ', '.join(names))\n",
    "        user = input('\\n' + 'Выберите спортсмена из списка и введите его имя, чтобы удалить:' + '\\n')\n",
    "    \n",
    "        if user.title() in names:\n",
    "            delete_sportsman(user.title())\n",
    "            conn.commit()\n",
    "\n",
    "        else:\n",
    "            user = input('К сожалению, такого спортсмена нет в базе данных. Попробуйте еще раз:' + '\\n')\n",
    "            \n",
    "            if user.title() in names:\n",
    "                delete_sportsman(user.title())\n",
    "                \n",
    "    # Проверить, какие участники тренировок есть в schedule, но отсутствуют в sportsmen\n",
    "    user = input('Чтобы сравнить данные в таблицах SCHEDULE и SPORTSMEN, введите 7:' + '\\n')\n",
    "    \n",
    "    if user == '' or user != '7':\n",
    "        user = input('Похоже, что вы ввели пустой или неверный запрос. Попробуйте еще раз:' + '\\n')\n",
    "    \n",
    "    if user == '7':\n",
    "        print('\\n' + 'Информация о данных спортсменах содержится в таблице SCHEDULE, но отсутствует в таблице SPORTSMEN:' \n",
    "              + '\\n')\n",
    "        sportsman_trainer()\n",
    "        \n",
    "        user = input('Чтобы добавить найденных спорстменов в таблицу SPORTSMEN, введите 10. '\n",
    "                    + 'Для выхода введите q:' + '\\n')\n",
    "        \n",
    "        if user == '10':\n",
    "            cur.execute(\"SELECT * FROM schedule FULL OUTER JOIN sportsmen USING (Name) WHERE sportsmen.Name IS NULL\")\n",
    "            for i in cur.fetchall():\n",
    "                new_sportsman(i[0])\n",
    "                names.append(i[0])\n",
    "        \n",
    "        if user != '10':\n",
    "            pass"
   ]
  },
  {
   "cell_type": "code",
   "execution_count": 64,
   "metadata": {},
   "outputs": [
    {
     "name": "stdout",
     "output_type": "stream",
     "text": [
      "Чтобы узнать, какие таблицы есть в базе данных, введите 1:\n",
      "1\n",
      "\n",
      "Названия таблиц, содержащихся в базе данных: \n",
      "sportsmen\n",
      "trainers\n",
      "workouts\n",
      "days\n",
      "schedule\n",
      "Чтобы узнать, какие данные содержат имеющиеся таблицы, введите 2:\n",
      "2\n",
      "\n",
      "Данные, содержащиеся в таблицах: \n",
      "SPORTSMEN\n",
      "('Домиан',)\n",
      "('Хадира',)\n",
      "('Агонета',)\n",
      "('Кушан',)\n",
      "('Светлана',)\n",
      "TRAINERS\n",
      "('Гранида',)\n",
      "('Лолитта',)\n",
      "('Фархат',)\n",
      "('Асмиральда',)\n",
      "('Нела',)\n",
      "WORKOUTS\n",
      "('Баттерфляй',)\n",
      "('Бег',)\n",
      "('Боковые выпады',)\n",
      "('Боковые скручивания',)\n",
      "('Брасс',)\n",
      "DAYS\n",
      "('Понедельник',)\n",
      "('Вторник',)\n",
      "('Среда',)\n",
      "('Четверг',)\n",
      "('Пятница',)\n",
      "SCHEDULE\n",
      "('Агонета', 'Отжимания, Боковые выпады, Бег', 'Вторник', 'Гранида')\n",
      "('Кушан', 'Махи ногой, Подтягивание на перекладине, Боковые выпады', 'Суббота', 'Лолитта')\n",
      "('Кушан', 'Подтягивание на перекладине, Жим гантелей лежа, Махи ногой', 'Пятница', 'Фархат')\n",
      "('Хадира', 'Планка, Боковые выпады, Брасс', 'Суббота', 'Асмиральда')\n",
      "('Домиан', 'Подтягивание на перекладине, Планка, Махи ногой', 'Пятница', 'Нела')\n",
      "Чтобы узнать, какие тренировки посещает спортсмен, введите 3:\n",
      "3\n",
      "\n",
      "Список доступных имен: Домиан, Хадира, Агонета, Кушан, Оля, Светлана\n",
      "\n",
      "Введите имя спортсмена:\n",
      "Домиан\n",
      "\n",
      "Расписание тренировок для спортсмена Домиан: \n",
      "[('Домиан', 'Подтягивание на перекладине, Планка, Махи ногой', 'Пятница', 'Нела'), ('Домиан', 'Баттерфляй, Боковые выпады, Брасс', 'Понедельник', 'Эржибетта'), ('Домиан', 'Отжимания, Брасс, Жим гантелей лежа', 'Среда', 'Алетий')]\n",
      "Чтобы узнать, какие занятия проводит тренер, введите 4:\n",
      "4\n",
      "\n",
      "Список доступных имен: Гранида, Лолитта, Фархат, Асмиральда, Нела, Арнада, Иклим, Эржибетта, Силь, Ксенофантий, Масуд, Тинкс, Дибай, Алетий, Владимир\n",
      "\n",
      "Выберите тренера из списка и введите его имя:\n",
      "Фархат\n",
      "\n",
      "Расписание занятий для тренера Фархат: \n",
      "[('Кушан', 'Подтягивание на перекладине, Жим гантелей лежа, Махи ногой', 'Пятница', 'Фархат')]\n",
      "Чтобы удалить конкретного спортсмена из базы данных, введите 6:\n",
      "6\n",
      "\n",
      "Список доступных имен: Домиан, Хадира, Агонета, Кушан, Оля, Светлана\n",
      "\n",
      "Выберите спортсмена из списка и введите его имя, чтобы удалить:\n",
      "Светлана\n",
      "Светлана was deleted.\n",
      "Чтобы сравнить данные в таблицах SCHEDULE и SPORTSMEN, введите 7:\n",
      "7\n",
      "\n",
      "Информация о данных спортсменах содержится в таблице SCHEDULE, но отсутствует в таблице SPORTSMEN:\n",
      "\n",
      "Name       Workout                        Day             Trainer   \n",
      "Сергей     Йога, гимнастика, бег          Среда           Александр \n",
      "Елена      Йога, гимнастика, бег          Среда           Александр \n",
      "Галя       Фигурное катание, танцы, бег   Понедельник     Кристина  \n",
      "Юля        Лыжи, растяжка, бег            Вторник         Игорь     \n",
      "Чтобы добавить найденных спорстменов в таблицу SPORTSMEN, введите 10.Для выхода введите q:\n",
      "10\n",
      "Сергей was added.\n",
      "Елена was added.\n",
      "Галя was added.\n",
      "Юля was added.\n"
     ]
    }
   ],
   "source": [
    "user_input()"
   ]
  },
  {
   "cell_type": "code",
   "execution_count": null,
   "metadata": {
    "collapsed": true
   },
   "outputs": [],
   "source": []
  }
 ],
 "metadata": {
  "kernelspec": {
   "display_name": "Python 3",
   "language": "python",
   "name": "python3"
  },
  "language_info": {
   "codemirror_mode": {
    "name": "ipython",
    "version": 3
   },
   "file_extension": ".py",
   "mimetype": "text/x-python",
   "name": "python",
   "nbconvert_exporter": "python",
   "pygments_lexer": "ipython3",
   "version": "3.6.3"
  }
 },
 "nbformat": 4,
 "nbformat_minor": 2
}
