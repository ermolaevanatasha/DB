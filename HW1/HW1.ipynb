{
 "cells": [
  {
   "cell_type": "markdown",
   "metadata": {},
   "source": [
    "### ДЗ 1"
   ]
  },
  {
   "cell_type": "markdown",
   "metadata": {},
   "source": [
    "Мы -- продуктовый магазин. Необходимо хранить ассортимент и продажи."
   ]
  },
  {
   "cell_type": "code",
   "execution_count": 1,
   "metadata": {
    "collapsed": true
   },
   "outputs": [],
   "source": [
    "import sqlite3\n",
    "import os\n",
    "import random"
   ]
  },
  {
   "cell_type": "code",
   "execution_count": 2,
   "metadata": {
    "collapsed": true
   },
   "outputs": [],
   "source": [
    "with open('assortment.txt', 'r', encoding='utf-8') as f:\n",
    "    assortment_arr = f.read().replace('\"', '').split('\\n')"
   ]
  },
  {
   "cell_type": "code",
   "execution_count": 3,
   "metadata": {
    "collapsed": true
   },
   "outputs": [],
   "source": [
    "sales_arr = [random.randint(0,100000) for _ in range(len(assortment_arr))]"
   ]
  },
  {
   "cell_type": "markdown",
   "metadata": {},
   "source": [
    "**Создаем базу данных**"
   ]
  },
  {
   "cell_type": "code",
   "execution_count": 4,
   "metadata": {
    "collapsed": true
   },
   "outputs": [],
   "source": [
    "conn = sqlite3.connect('store.db')\n",
    "cur = conn.cursor()"
   ]
  },
  {
   "cell_type": "code",
   "execution_count": 5,
   "metadata": {},
   "outputs": [
    {
     "data": {
      "text/plain": [
       "<sqlite3.Cursor at 0x112ff2f10>"
      ]
     },
     "execution_count": 5,
     "metadata": {},
     "output_type": "execute_result"
    }
   ],
   "source": [
    "cur.execute('CREATE TABLE if not exists grocery (assortment text, sales int)')"
   ]
  },
  {
   "cell_type": "code",
   "execution_count": 6,
   "metadata": {
    "collapsed": true
   },
   "outputs": [],
   "source": [
    "for product, quantity in zip(assortment_arr, sales_arr):\n",
    "    cur.execute('INSERT INTO grocery VALUES(?, ?)', [product, quantity])\n",
    "\n",
    "conn.commit()"
   ]
  },
  {
   "cell_type": "markdown",
   "metadata": {},
   "source": [
    "### Добавление данных, введенных пользователем:"
   ]
  },
  {
   "cell_type": "code",
   "execution_count": 7,
   "metadata": {
    "collapsed": true
   },
   "outputs": [],
   "source": [
    "def input_data():\n",
    "    user_input = input('Enter the information in the following format: ProductName, SalesQuantity. Then press Enter.\\n')\n",
    "    \n",
    "    if ''.join(user_input.split()) == '':\n",
    "        user_input = input('It seems like you have entered an empty search query. Please, try again:\\n')\n",
    "    \n",
    "    try:   \n",
    "        user_input = user_input.split(',')\n",
    "        product_name = user_input[0]\n",
    "        sales_quantity = int(user_input[1].strip(' '))\n",
    "\n",
    "    except IndexError as e:\n",
    "        user_input = input('Please, check your query!' + \\\n",
    "                           '\\nEnter the information in the following format: ProductName, SalesQuantity.\\n')\n",
    "        user_input = user_input.split(',')\n",
    "        product_name = user_input[0]\n",
    "        sales_quantity = int(user_input[1].strip(' '))\n",
    "    \n",
    "    return product_name, sales_quantity"
   ]
  },
  {
   "cell_type": "code",
   "execution_count": 8,
   "metadata": {
    "collapsed": true
   },
   "outputs": [],
   "source": [
    "def add_values(product_name, sales_quantity):\n",
    "    cur.execute('SELECT * FROM grocery')\n",
    "    rows = cur.fetchall()\n",
    "    check_rows = []\n",
    "    for i in range(len(rows)):\n",
    "        check_rows.append(rows[i][0].lower())\n",
    "\n",
    "    rows_dict = dict(rows)\n",
    "    \n",
    "    if product_name.lower() in check_rows:\n",
    "        print('\\nThis product already exists in \"store.db\"\\nSalesQuantity will be added to the current value.')\n",
    "        quantity = rows_dict[product_name.title()]\n",
    "        new_value = int(quantity + sales_quantity)\n",
    "        for key, value in rows_dict.items():\n",
    "            rows_dict[product_name.title()] = new_value\n",
    "        cur.execute('UPDATE grocery SET sales = (?) WHERE assortment = (?)', [new_value, product_name.title()])\n",
    "        print('Previous values: %s, %d' % (product_name.title(), quantity))\n",
    "        print('Updated values: %s, %d (+ %d PC)' % (product_name.title(), new_value, sales_quantity))\n",
    "        \n",
    "    else:\n",
    "        cur.execute('INSERT INTO grocery VALUES (?, ?)', [product_name.title(), sales_quantity])\n",
    "        print('\\nNew record: \"%s, %d\". Added to \"store.db\"' % (product_name.title(), sales_quantity))\n",
    "    \n",
    "    conn.commit()"
   ]
  },
  {
   "cell_type": "markdown",
   "metadata": {},
   "source": [
    "### Поиск по базе по запросу пользователя"
   ]
  },
  {
   "cell_type": "code",
   "execution_count": 9,
   "metadata": {
    "collapsed": true
   },
   "outputs": [],
   "source": [
    "def search_input():\n",
    "    user_input = input('Enter a product name or quantity to search. Then press Enter.\\n')\n",
    "    \n",
    "    if ''.join(user_input.split()) == '':\n",
    "        user_input = input('It seems like you have entered an empty search query. Please, try again:\\n')\n",
    "    \n",
    "    return user_input"
   ]
  },
  {
   "cell_type": "code",
   "execution_count": 10,
   "metadata": {
    "collapsed": true
   },
   "outputs": [],
   "source": [
    "def num_there(s):\n",
    "    return any(i.isdigit() for i in s)"
   ]
  },
  {
   "cell_type": "code",
   "execution_count": 11,
   "metadata": {},
   "outputs": [],
   "source": [
    "def search_values(user_input):\n",
    "    cur.execute('SELECT * FROM grocery')\n",
    "    rows = cur.fetchall()\n",
    "    check_rows = []\n",
    "    for i in range(len(rows)):\n",
    "        check_rows.append(rows[i][0].lower())\n",
    "\n",
    "    rows_dict = dict(rows)\n",
    "    \n",
    "    if not num_there(user_input):\n",
    "        if user_input.lower() in check_rows:\n",
    "            cur.execute('SELECT * FROM grocery WHERE assortment=?', [user_input.title()])\n",
    "            result = cur.fetchall()\n",
    "            for res in result:\n",
    "                print('\\nSearch result for your query:\\nProduct name: %s\\nQuantity: %d' % (res[0], res[1]))\n",
    "                \n",
    "        else:\n",
    "            new_input = input('It seems like there is nothing in \"store.db\" that suits your request.' + \\\n",
    "                           '\\nIf you want to try another request, please, enter a new one.' + \\\n",
    "                           '\\nIf you want to add the query that you have entered into \"store.db\", then enter add:\\n')\n",
    "            \n",
    "            if new_input.lower() in check_rows:\n",
    "                cur.execute('SELECT * FROM grocery WHERE assortment=?', [new_input.title()])\n",
    "                result = cur.fetchall()\n",
    "                for res in result:\n",
    "                    print('\\nSearch result for your query:\\nProduct name: %s\\nQuantity: %d' % (res[0], res[1]))\n",
    "            \n",
    "            if new_input == 'add':\n",
    "                product_name = user_input\n",
    "                sales_quantity = int(input('Please, enter the quantity value:\\n'))\n",
    "                add_values(product_name, sales_quantity)\n",
    "                \n",
    "    elif num_there(user_input):\n",
    "        cur.execute('SELECT * FROM grocery WHERE sales=?', [int(user_input)])\n",
    "        result = cur.fetchall()\n",
    "        \n",
    "        if result == []:\n",
    "            new_input = input('It seems like there is nothing in \"store.db\" that suits your request.' + \\\n",
    "                           '\\nIf you want to try another request, please, enter a new one.' + \\\n",
    "                           '\\nIf you want to add the query that you have entered into \"store.db\", then enter add:\\n')\n",
    "            \n",
    "            if new_input.lower() in check_rows:\n",
    "                cur.execute('SELECT * FROM grocery WHERE assortment=?', [new_input.title()])\n",
    "                result = cur.fetchall()\n",
    "                for res in result:\n",
    "                    print('\\nSearch result for your query:\\nProduct name: %s\\nQuantity: %d' % (res[0], res[1]))\n",
    "            \n",
    "            if new_input == 'add':\n",
    "                sales_quantity = int(user_input)\n",
    "                product_name = input('Please, enter product name:\\n')\n",
    "                add_values(product_name, sales_quantity)\n",
    "        \n",
    "        else:\n",
    "            for res in result:\n",
    "                print('\\nSearch result for your query:\\nProduct name: %s\\nQuantity: %d' % (res[0], res[1]))\n",
    "        \n",
    "    conn.commit()"
   ]
  },
  {
   "cell_type": "code",
   "execution_count": 12,
   "metadata": {
    "collapsed": true
   },
   "outputs": [],
   "source": [
    "def main():\n",
    "    while True:\n",
    "        db_options = input('If you want to add new values to \"store.db\", enter \"add\",\\n' +\n",
    "                           'If you want to find a value in \"store.db\", enter \"search\":\\n')\n",
    "        \n",
    "        if db_options == 'add':\n",
    "            product_name, sales_quantity = input_data()\n",
    "            add_values(product_name, sales_quantity)\n",
    "            break\n",
    "\n",
    "        elif db_options == 'search':\n",
    "            user_input = search_input()\n",
    "            search_values(user_input)\n",
    "            break"
   ]
  },
  {
   "cell_type": "markdown",
   "metadata": {},
   "source": [
    "#### Примеры"
   ]
  },
  {
   "cell_type": "markdown",
   "metadata": {},
   "source": [
    "**Добавление нового элемента**"
   ]
  },
  {
   "cell_type": "code",
   "execution_count": 13,
   "metadata": {},
   "outputs": [
    {
     "name": "stdout",
     "output_type": "stream",
     "text": [
      "If you want to add new values to \"store.db\", enter \"add\",\n",
      "If you want to find a value in \"store.db\", enter \"search\":\n",
      "add\n",
      "Enter the information in the following format: ProductName, SalesQuantity. Then press Enter.\n",
      "молоко, 150\n",
      "\n",
      "New record: \"Молоко, 150\". Added to \"store.db\"\n"
     ]
    }
   ],
   "source": [
    "main()"
   ]
  },
  {
   "cell_type": "markdown",
   "metadata": {},
   "source": [
    "**Добавление существующего элемента**"
   ]
  },
  {
   "cell_type": "code",
   "execution_count": 14,
   "metadata": {},
   "outputs": [
    {
     "name": "stdout",
     "output_type": "stream",
     "text": [
      "If you want to add new values to \"store.db\", enter \"add\",\n",
      "If you want to find a value in \"store.db\", enter \"search\":\n",
      "add\n",
      "Enter the information in the following format: ProductName, SalesQuantity. Then press Enter.\n",
      "твикс, 351\n",
      "\n",
      "This product already exists in \"store.db\"\n",
      "SalesQuantity will be added to the current value.\n",
      "Previous values: Твикс, 50067\n",
      "Updated values: Твикс, 50418 (+ 351 PC)\n"
     ]
    }
   ],
   "source": [
    "main()"
   ]
  },
  {
   "cell_type": "markdown",
   "metadata": {},
   "source": [
    "**Поиск элемента**"
   ]
  },
  {
   "cell_type": "code",
   "execution_count": 15,
   "metadata": {},
   "outputs": [
    {
     "name": "stdout",
     "output_type": "stream",
     "text": [
      "If you want to add new values to \"store.db\", enter \"add\",\n",
      "If you want to find a value in \"store.db\", enter \"search\":\n",
      "search\n",
      "Enter a product name or quantity to search. Then press Enter.\n",
      "рис\n",
      "\n",
      "Search result for your query:\n",
      "Product name: Рис\n",
      "Quantity: 16746\n"
     ]
    }
   ],
   "source": [
    "main()"
   ]
  },
  {
   "cell_type": "markdown",
   "metadata": {},
   "source": [
    "**Поиск по колонке sales (кол-во продаж)**"
   ]
  },
  {
   "cell_type": "code",
   "execution_count": 18,
   "metadata": {},
   "outputs": [
    {
     "name": "stdout",
     "output_type": "stream",
     "text": [
      "If you want to add new values to \"store.db\", enter \"add\",\n",
      "If you want to find a value in \"store.db\", enter \"search\":\n",
      "search\n",
      "Enter a product name or quantity to search. Then press Enter.\n",
      "21567\n",
      "\n",
      "Search result for your query:\n",
      "Product name: Вафли\n",
      "Quantity: 21567\n"
     ]
    }
   ],
   "source": [
    "main()"
   ]
  },
  {
   "cell_type": "markdown",
   "metadata": {},
   "source": [
    "**Поиск несуществующего элемента**"
   ]
  },
  {
   "cell_type": "code",
   "execution_count": 19,
   "metadata": {},
   "outputs": [
    {
     "name": "stdout",
     "output_type": "stream",
     "text": [
      "If you want to add new values to \"store.db\", enter \"add\",\n",
      "If you want to find a value in \"store.db\", enter \"search\":\n",
      "search\n",
      "Enter a product name or quantity to search. Then press Enter.\n",
      "пирожное\n",
      "It seems like there is nothing in \"store.db\" that suits your request.\n",
      "If you want to try another request, please, enter a new one.\n",
      "If you want to add the query that you have entered into \"store.db\", then enter add:\n",
      "add\n",
      "Please, enter the quantity value:\n",
      "567\n",
      "\n",
      "New record: \"Пирожное, 567\". Added to \"store.db\"\n"
     ]
    }
   ],
   "source": [
    "main()"
   ]
  }
 ],
 "metadata": {
  "kernelspec": {
   "display_name": "Python 3",
   "language": "python",
   "name": "python3"
  },
  "language_info": {
   "codemirror_mode": {
    "name": "ipython",
    "version": 3
   },
   "file_extension": ".py",
   "mimetype": "text/x-python",
   "name": "python",
   "nbconvert_exporter": "python",
   "pygments_lexer": "ipython3",
   "version": "3.6.3"
  }
 },
 "nbformat": 4,
 "nbformat_minor": 2
}
