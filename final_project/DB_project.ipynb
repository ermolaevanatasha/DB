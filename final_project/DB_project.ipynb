{
 "cells": [
  {
   "cell_type": "code",
   "execution_count": 2,
   "metadata": {},
   "outputs": [
    {
     "name": "stdout",
     "output_type": "stream",
     "text": [
      "Collecting dask\n",
      "\u001b[?25l  Downloading https://files.pythonhosted.org/packages/b4/e5/6407c2349622699eab0881e6bc6e978b8da67872a105e5e20b72ff190c65/dask-1.0.0-py2.py3-none-any.whl (685kB)\n",
      "\u001b[K    100% |████████████████████████████████| 686kB 5.4MB/s ta 0:00:011\n",
      "\u001b[31mdistributed 1.19.1 requires msgpack-python, which is not installed.\u001b[0m\n",
      "\u001b[?25hInstalling collected packages: dask\n",
      "  Found existing installation: dask 0.15.3\n",
      "    Uninstalling dask-0.15.3:\n",
      "      Successfully uninstalled dask-0.15.3\n",
      "Successfully installed dask-1.0.0\n"
     ]
    }
   ],
   "source": [
    "!pip install dask --upgrade"
   ]
  },
  {
   "cell_type": "code",
   "execution_count": 21,
   "metadata": {},
   "outputs": [
    {
     "name": "stdout",
     "output_type": "stream",
     "text": [
      "Requirement already satisfied: rupo in /Users/nata/anaconda3/lib/python3.6/site-packages (0.2.6.2)\n",
      "Requirement already satisfied: dicttoxml>=1.7.4 in /Users/nata/anaconda3/lib/python3.6/site-packages (from rupo) (1.7.4)\n",
      "Requirement already satisfied: pygtrie>=2.2 in /Users/nata/anaconda3/lib/python3.6/site-packages (from rupo) (2.3)\n",
      "Requirement already satisfied: numpy>=1.11.3 in /Users/nata/anaconda3/lib/python3.6/site-packages (from rupo) (1.15.4)\n",
      "Requirement already satisfied: scipy>=0.18.1 in /Users/nata/anaconda3/lib/python3.6/site-packages (from rupo) (1.1.0)\n",
      "Requirement already satisfied: scikit-learn>=0.18.1 in /Users/nata/anaconda3/lib/python3.6/site-packages (from rupo) (0.19.1)\n",
      "Requirement already satisfied: jsonpickle>=0.9.4 in /Users/nata/anaconda3/lib/python3.6/site-packages (from rupo) (1.0)\n",
      "Requirement already satisfied: tensorflow>=1.1.0 in /Users/nata/anaconda3/lib/python3.6/site-packages (from rupo) (1.12.0)\n",
      "Requirement already satisfied: keras==2.0.5 in /Users/nata/anaconda3/lib/python3.6/site-packages (from rupo) (2.0.5)\n",
      "Requirement already satisfied: pymorphy2>=0.8 in /Users/nata/anaconda3/lib/python3.6/site-packages (from rupo) (0.8)\n",
      "Requirement already satisfied: h5py>=2.7.0 in /Users/nata/anaconda3/lib/python3.6/site-packages (from rupo) (2.7.0)\n",
      "Requirement already satisfied: russian-tagsets==0.6 in /Users/nata/anaconda3/lib/python3.6/site-packages (from rupo) (0.6)\n",
      "Requirement already satisfied: tqdm>=4.14.0 in /Users/nata/anaconda3/lib/python3.6/site-packages (from rupo) (4.28.1)\n",
      "Requirement already satisfied: astor>=0.6.0 in /Users/nata/anaconda3/lib/python3.6/site-packages (from tensorflow>=1.1.0->rupo) (0.7.1)\n",
      "Requirement already satisfied: grpcio>=1.8.6 in /Users/nata/anaconda3/lib/python3.6/site-packages (from tensorflow>=1.1.0->rupo) (1.17.1)\n",
      "Requirement already satisfied: keras-applications>=1.0.6 in /Users/nata/anaconda3/lib/python3.6/site-packages (from tensorflow>=1.1.0->rupo) (1.0.6)\n",
      "Requirement already satisfied: keras-preprocessing>=1.0.5 in /Users/nata/anaconda3/lib/python3.6/site-packages (from tensorflow>=1.1.0->rupo) (1.0.5)\n",
      "Requirement already satisfied: termcolor>=1.1.0 in /Users/nata/anaconda3/lib/python3.6/site-packages (from tensorflow>=1.1.0->rupo) (1.1.0)\n",
      "Requirement already satisfied: absl-py>=0.1.6 in /Users/nata/anaconda3/lib/python3.6/site-packages (from tensorflow>=1.1.0->rupo) (0.6.1)\n",
      "Requirement already satisfied: tensorboard<1.13.0,>=1.12.0 in /Users/nata/anaconda3/lib/python3.6/site-packages (from tensorflow>=1.1.0->rupo) (1.12.1)\n",
      "Requirement already satisfied: protobuf>=3.6.1 in /Users/nata/anaconda3/lib/python3.6/site-packages (from tensorflow>=1.1.0->rupo) (3.6.1)\n",
      "Requirement already satisfied: wheel>=0.26 in /Users/nata/anaconda3/lib/python3.6/site-packages (from tensorflow>=1.1.0->rupo) (0.32.3)\n",
      "Requirement already satisfied: gast>=0.2.0 in /Users/nata/anaconda3/lib/python3.6/site-packages (from tensorflow>=1.1.0->rupo) (0.2.0)\n",
      "Requirement already satisfied: six>=1.10.0 in /Users/nata/anaconda3/lib/python3.6/site-packages (from tensorflow>=1.1.0->rupo) (1.11.0)\n",
      "Requirement already satisfied: theano in /Users/nata/anaconda3/lib/python3.6/site-packages (from keras==2.0.5->rupo) (1.0.3)\n",
      "Requirement already satisfied: pyyaml in /Users/nata/anaconda3/lib/python3.6/site-packages (from keras==2.0.5->rupo) (3.12)\n",
      "Requirement already satisfied: dawg-python>=0.7 in /Users/nata/anaconda3/lib/python3.6/site-packages (from pymorphy2>=0.8->rupo) (0.7.2)\n",
      "Requirement already satisfied: docopt>=0.6 in /Users/nata/anaconda3/lib/python3.6/site-packages (from pymorphy2>=0.8->rupo) (0.6.2)\n",
      "Requirement already satisfied: pymorphy2-dicts<3.0,>=2.4 in /Users/nata/anaconda3/lib/python3.6/site-packages (from pymorphy2>=0.8->rupo) (2.4.393442.3710985)\n",
      "Requirement already satisfied: werkzeug>=0.11.10 in /Users/nata/anaconda3/lib/python3.6/site-packages (from tensorboard<1.13.0,>=1.12.0->tensorflow>=1.1.0->rupo) (0.12.2)\n",
      "Requirement already satisfied: markdown>=2.6.8 in /Users/nata/anaconda3/lib/python3.6/site-packages (from tensorboard<1.13.0,>=1.12.0->tensorflow>=1.1.0->rupo) (3.0.1)\n",
      "Requirement already satisfied: setuptools in /Users/nata/anaconda3/lib/python3.6/site-packages (from protobuf>=3.6.1->tensorflow>=1.1.0->rupo) (36.5.0.post20170921)\n"
     ]
    }
   ],
   "source": [
    "!pip install rupo"
   ]
  },
  {
   "cell_type": "code",
   "execution_count": 22,
   "metadata": {},
   "outputs": [],
   "source": [
    "from rupo.api import Engine"
   ]
  },
  {
   "cell_type": "code",
   "execution_count": 23,
   "metadata": {
    "collapsed": true
   },
   "outputs": [],
   "source": [
    "engine = Engine(language=\"ru\")"
   ]
  },
  {
   "cell_type": "code",
   "execution_count": 24,
   "metadata": {},
   "outputs": [
    {
     "data": {
      "text/plain": [
       "['ко', 'ро', 'ва']"
      ]
     },
     "execution_count": 24,
     "metadata": {},
     "output_type": "execute_result"
    }
   ],
   "source": [
    "engine.get_word_syllables(\"корова\")"
   ]
  },
  {
   "cell_type": "code",
   "execution_count": null,
   "metadata": {},
   "outputs": [
    {
     "name": "stdout",
     "output_type": "stream",
     "text": [
      "Password:"
     ]
    }
   ],
   "source": [
    "!sudo mkdir /Users/nata/anaconda3/lib/python3.6/site-packages/rupo/data/dict"
   ]
  },
  {
   "cell_type": "code",
   "execution_count": null,
   "metadata": {
    "collapsed": true
   },
   "outputs": [],
   "source": []
  },
  {
   "cell_type": "code",
   "execution_count": null,
   "metadata": {
    "collapsed": true
   },
   "outputs": [],
   "source": []
  },
  {
   "cell_type": "code",
   "execution_count": 27,
   "metadata": {},
   "outputs": [
    {
     "ename": "FileNotFoundError",
     "evalue": "[Errno 2] No such file or directory: '/Users/nata/anaconda3/lib/python3.6/site-packages/rupo/data/dict/ru_grapheme_stress.txt'",
     "output_type": "error",
     "traceback": [
      "\u001b[0;31m---------------------------------------------------------------------------\u001b[0m",
      "\u001b[0;31mFileNotFoundError\u001b[0m                         Traceback (most recent call last)",
      "\u001b[0;32m<ipython-input-27-df40bfa16e87>\u001b[0m in \u001b[0;36m<module>\u001b[0;34m()\u001b[0m\n\u001b[0;32m----> 1\u001b[0;31m \u001b[0mengine\u001b[0m\u001b[0;34m.\u001b[0m\u001b[0mload\u001b[0m\u001b[0;34m(\u001b[0m\u001b[0;34m'stress_ru_LSTM64_dropout0.2_acc99_wer8.h5'\u001b[0m\u001b[0;34m,\u001b[0m \u001b[0;34m'/Users/nata/Desktop/dict/zaliznyak.txt'\u001b[0m\u001b[0;34m)\u001b[0m\u001b[0;34m\u001b[0m\u001b[0m\n\u001b[0m",
      "\u001b[0;32m~/anaconda3/lib/python3.6/site-packages/rupo/api.py\u001b[0m in \u001b[0;36mload\u001b[0;34m(self, stress_model_path, zalyzniak_dict, raw_stress_dict_path, stress_trie_path)\u001b[0m\n\u001b[1;32m     36\u001b[0m         \u001b[0mself\u001b[0m\u001b[0;34m.\u001b[0m\u001b[0mstress_predictors\u001b[0m \u001b[0;34m=\u001b[0m \u001b[0mdict\u001b[0m\u001b[0;34m(\u001b[0m\u001b[0;34m)\u001b[0m\u001b[0;34m\u001b[0m\u001b[0m\n\u001b[1;32m     37\u001b[0m         self.get_stress_predictor(self.language, stress_model_path, raw_stress_dict_path,\n\u001b[0;32m---> 38\u001b[0;31m                                   stress_trie_path, zalyzniak_dict)\n\u001b[0m\u001b[1;32m     39\u001b[0m \u001b[0;34m\u001b[0m\u001b[0m\n\u001b[1;32m     40\u001b[0m     \u001b[0;32mdef\u001b[0m \u001b[0mget_vocabulary\u001b[0m\u001b[0;34m(\u001b[0m\u001b[0mself\u001b[0m\u001b[0;34m,\u001b[0m \u001b[0mdump_path\u001b[0m\u001b[0;34m:\u001b[0m \u001b[0mstr\u001b[0m\u001b[0;34m,\u001b[0m \u001b[0mmarkup_path\u001b[0m\u001b[0;34m:\u001b[0m \u001b[0mstr\u001b[0m\u001b[0;34m)\u001b[0m \u001b[0;34m->\u001b[0m \u001b[0mStressVocabulary\u001b[0m\u001b[0;34m:\u001b[0m\u001b[0;34m\u001b[0m\u001b[0m\n",
      "\u001b[0;32m~/anaconda3/lib/python3.6/site-packages/rupo/api.py\u001b[0m in \u001b[0;36mget_stress_predictor\u001b[0;34m(self, language, stress_model_path, raw_stress_dict_path, stress_trie_path, zalyzniak_dict, cmu_dict)\u001b[0m\n\u001b[1;32m     72\u001b[0m             self.stress_predictors[language] = CombinedStressPredictor(language, stress_model_path,\n\u001b[1;32m     73\u001b[0m                                                                        \u001b[0mraw_stress_dict_path\u001b[0m\u001b[0;34m,\u001b[0m \u001b[0mstress_trie_path\u001b[0m\u001b[0;34m,\u001b[0m\u001b[0;34m\u001b[0m\u001b[0m\n\u001b[0;32m---> 74\u001b[0;31m                                                                        zalyzniak_dict, cmu_dict)\n\u001b[0m\u001b[1;32m     75\u001b[0m         \u001b[0;32mreturn\u001b[0m \u001b[0mself\u001b[0m\u001b[0;34m.\u001b[0m\u001b[0mstress_predictors\u001b[0m\u001b[0;34m[\u001b[0m\u001b[0mlanguage\u001b[0m\u001b[0;34m]\u001b[0m\u001b[0;34m\u001b[0m\u001b[0m\n\u001b[1;32m     76\u001b[0m \u001b[0;34m\u001b[0m\u001b[0m\n",
      "\u001b[0;32m~/anaconda3/lib/python3.6/site-packages/rupo/stress/predictor.py\u001b[0m in \u001b[0;36m__init__\u001b[0;34m(self, language, stress_model_path, raw_stress_dict_path, stress_trie_path, zalyzniak_dict, cmu_dict)\u001b[0m\n\u001b[1;32m    149\u001b[0m                  stress_trie_path=None, zalyzniak_dict=ZALYZNYAK_DICT, cmu_dict=CMU_DICT):\n\u001b[1;32m    150\u001b[0m         \u001b[0mself\u001b[0m\u001b[0;34m.\u001b[0m\u001b[0mrnn\u001b[0m \u001b[0;34m=\u001b[0m \u001b[0mRNNGraphemeStressPredictor\u001b[0m\u001b[0;34m(\u001b[0m\u001b[0mlanguage\u001b[0m\u001b[0;34m,\u001b[0m \u001b[0mstress_model_path\u001b[0m\u001b[0;34m)\u001b[0m\u001b[0;34m\u001b[0m\u001b[0m\n\u001b[0;32m--> 151\u001b[0;31m         \u001b[0mself\u001b[0m\u001b[0;34m.\u001b[0m\u001b[0mdict\u001b[0m \u001b[0;34m=\u001b[0m \u001b[0mDictStressPredictor\u001b[0m\u001b[0;34m(\u001b[0m\u001b[0mlanguage\u001b[0m\u001b[0;34m,\u001b[0m \u001b[0mraw_stress_dict_path\u001b[0m\u001b[0;34m,\u001b[0m \u001b[0mstress_trie_path\u001b[0m\u001b[0;34m,\u001b[0m \u001b[0mzalyzniak_dict\u001b[0m\u001b[0;34m,\u001b[0m \u001b[0mcmu_dict\u001b[0m\u001b[0;34m)\u001b[0m\u001b[0;34m\u001b[0m\u001b[0m\n\u001b[0m\u001b[1;32m    152\u001b[0m \u001b[0;34m\u001b[0m\u001b[0m\n\u001b[1;32m    153\u001b[0m     \u001b[0;32mdef\u001b[0m \u001b[0mpredict\u001b[0m\u001b[0;34m(\u001b[0m\u001b[0mself\u001b[0m\u001b[0;34m,\u001b[0m \u001b[0mword\u001b[0m\u001b[0;34m:\u001b[0m \u001b[0mstr\u001b[0m\u001b[0;34m)\u001b[0m \u001b[0;34m->\u001b[0m \u001b[0mList\u001b[0m\u001b[0;34m[\u001b[0m\u001b[0mint\u001b[0m\u001b[0;34m]\u001b[0m\u001b[0;34m:\u001b[0m\u001b[0;34m\u001b[0m\u001b[0m\n",
      "\u001b[0;32m~/anaconda3/lib/python3.6/site-packages/rupo/stress/predictor.py\u001b[0m in \u001b[0;36m__init__\u001b[0;34m(self, language, raw_dict_path, trie_path, zalyzniak_dict, cmu_dict)\u001b[0m\n\u001b[1;32m    101\u001b[0m                  zalyzniak_dict=ZALYZNYAK_DICT, cmu_dict=CMU_DICT):\n\u001b[1;32m    102\u001b[0m         self.stress_dict = StressDict(language, raw_dict_path=raw_dict_path, trie_path=trie_path,\n\u001b[0;32m--> 103\u001b[0;31m                                       zalyzniak_dict=zalyzniak_dict, cmu_dict=cmu_dict)\n\u001b[0m\u001b[1;32m    104\u001b[0m \u001b[0;34m\u001b[0m\u001b[0m\n\u001b[1;32m    105\u001b[0m     \u001b[0;32mdef\u001b[0m \u001b[0mpredict\u001b[0m\u001b[0;34m(\u001b[0m\u001b[0mself\u001b[0m\u001b[0;34m,\u001b[0m \u001b[0mword\u001b[0m\u001b[0;34m:\u001b[0m \u001b[0mstr\u001b[0m\u001b[0;34m)\u001b[0m \u001b[0;34m->\u001b[0m \u001b[0mList\u001b[0m\u001b[0;34m[\u001b[0m\u001b[0mint\u001b[0m\u001b[0;34m]\u001b[0m\u001b[0;34m:\u001b[0m\u001b[0;34m\u001b[0m\u001b[0m\n",
      "\u001b[0;32m~/anaconda3/lib/python3.6/site-packages/rupo/stress/dict.py\u001b[0m in \u001b[0;36m__init__\u001b[0;34m(self, language, mode, raw_dict_path, trie_path, zalyzniak_dict, cmu_dict)\u001b[0m\n\u001b[1;32m     33\u001b[0m             \u001b[0;32mif\u001b[0m \u001b[0;32mnot\u001b[0m \u001b[0mos\u001b[0m\u001b[0;34m.\u001b[0m\u001b[0mpath\u001b[0m\u001b[0;34m.\u001b[0m\u001b[0mexists\u001b[0m\u001b[0;34m(\u001b[0m\u001b[0mself\u001b[0m\u001b[0;34m.\u001b[0m\u001b[0mraw_dict_path\u001b[0m\u001b[0;34m)\u001b[0m\u001b[0;34m:\u001b[0m\u001b[0;34m\u001b[0m\u001b[0m\n\u001b[1;32m     34\u001b[0m                 \u001b[0;32mfrom\u001b[0m \u001b[0mrupo\u001b[0m\u001b[0;34m.\u001b[0m\u001b[0mdict\u001b[0m\u001b[0;34m.\u001b[0m\u001b[0mzaliznyak\u001b[0m \u001b[0;32mimport\u001b[0m \u001b[0mZalyzniakDict\u001b[0m\u001b[0;34m\u001b[0m\u001b[0m\n\u001b[0;32m---> 35\u001b[0;31m                 \u001b[0mZalyzniakDict\u001b[0m\u001b[0;34m.\u001b[0m\u001b[0mconvert_to_accent_only\u001b[0m\u001b[0;34m(\u001b[0m\u001b[0mzalyzniak_dict\u001b[0m\u001b[0;34m,\u001b[0m \u001b[0mself\u001b[0m\u001b[0;34m.\u001b[0m\u001b[0mraw_dict_path\u001b[0m\u001b[0;34m)\u001b[0m\u001b[0;34m\u001b[0m\u001b[0m\n\u001b[0m\u001b[1;32m     36\u001b[0m         \u001b[0;32melif\u001b[0m \u001b[0mmode\u001b[0m \u001b[0;34m==\u001b[0m \u001b[0mself\u001b[0m\u001b[0;34m.\u001b[0m\u001b[0mMode\u001b[0m\u001b[0;34m.\u001b[0m\u001b[0mPHONEMES\u001b[0m \u001b[0;32mand\u001b[0m \u001b[0mlanguage\u001b[0m \u001b[0;34m==\u001b[0m \u001b[0;34m\"en\"\u001b[0m\u001b[0;34m:\u001b[0m\u001b[0;34m\u001b[0m\u001b[0m\n\u001b[1;32m     37\u001b[0m             \u001b[0mself\u001b[0m\u001b[0;34m.\u001b[0m\u001b[0m__init_defaults\u001b[0m\u001b[0;34m(\u001b[0m\u001b[0mEN_PHONEME_STRESS_PATH\u001b[0m\u001b[0;34m,\u001b[0m \u001b[0mEN_PHONEME_STRESS_TRIE_PATH\u001b[0m\u001b[0;34m)\u001b[0m\u001b[0;34m\u001b[0m\u001b[0m\n",
      "\u001b[0;32m~/anaconda3/lib/python3.6/site-packages/rupo/dict/zaliznyak.py\u001b[0m in \u001b[0;36mconvert_to_accent_only\u001b[0;34m(dict_file, accent_file)\u001b[0m\n\u001b[1;32m      8\u001b[0m         \u001b[0;32mwith\u001b[0m \u001b[0mopen\u001b[0m\u001b[0;34m(\u001b[0m\u001b[0mdict_file\u001b[0m\u001b[0;34m,\u001b[0m \u001b[0;34m'r'\u001b[0m\u001b[0;34m,\u001b[0m \u001b[0mencoding\u001b[0m\u001b[0;34m=\u001b[0m\u001b[0;34m'utf-8'\u001b[0m\u001b[0;34m)\u001b[0m \u001b[0;32mas\u001b[0m \u001b[0mr\u001b[0m\u001b[0;34m:\u001b[0m\u001b[0;34m\u001b[0m\u001b[0m\n\u001b[1;32m      9\u001b[0m             \u001b[0mlines\u001b[0m \u001b[0;34m=\u001b[0m \u001b[0mr\u001b[0m\u001b[0;34m.\u001b[0m\u001b[0mreadlines\u001b[0m\u001b[0;34m(\u001b[0m\u001b[0;34m)\u001b[0m\u001b[0;34m\u001b[0m\u001b[0m\n\u001b[0;32m---> 10\u001b[0;31m         \u001b[0;32mwith\u001b[0m \u001b[0mopen\u001b[0m\u001b[0;34m(\u001b[0m\u001b[0maccent_file\u001b[0m\u001b[0;34m,\u001b[0m \u001b[0;34m'w'\u001b[0m\u001b[0;34m,\u001b[0m \u001b[0mencoding\u001b[0m\u001b[0;34m=\u001b[0m\u001b[0;34m'utf-8'\u001b[0m\u001b[0;34m)\u001b[0m \u001b[0;32mas\u001b[0m \u001b[0mw\u001b[0m\u001b[0;34m:\u001b[0m\u001b[0;34m\u001b[0m\u001b[0m\n\u001b[0m\u001b[1;32m     11\u001b[0m             \u001b[0;32mfor\u001b[0m \u001b[0mline\u001b[0m \u001b[0;32min\u001b[0m \u001b[0mlines\u001b[0m\u001b[0;34m:\u001b[0m\u001b[0;34m\u001b[0m\u001b[0m\n\u001b[1;32m     12\u001b[0m                 \u001b[0;32mfor\u001b[0m \u001b[0mword\u001b[0m \u001b[0;32min\u001b[0m \u001b[0mline\u001b[0m\u001b[0;34m.\u001b[0m\u001b[0msplit\u001b[0m\u001b[0;34m(\u001b[0m\u001b[0;34m\"#\"\u001b[0m\u001b[0;34m)\u001b[0m\u001b[0;34m[\u001b[0m\u001b[0;36m1\u001b[0m\u001b[0;34m]\u001b[0m\u001b[0;34m.\u001b[0m\u001b[0msplit\u001b[0m\u001b[0;34m(\u001b[0m\u001b[0;34m\",\"\u001b[0m\u001b[0;34m)\u001b[0m\u001b[0;34m:\u001b[0m\u001b[0;34m\u001b[0m\u001b[0m\n",
      "\u001b[0;31mFileNotFoundError\u001b[0m: [Errno 2] No such file or directory: '/Users/nata/anaconda3/lib/python3.6/site-packages/rupo/data/dict/ru_grapheme_stress.txt'"
     ]
    }
   ],
   "source": [
    "engine.load('stress_ru_LSTM64_dropout0.2_acc99_wer8.h5', '/Users/nata/Desktop/dict/zaliznyak.txt')"
   ]
  },
  {
   "cell_type": "code",
   "execution_count": 6,
   "metadata": {},
   "outputs": [
    {
     "ename": "RuntimeError",
     "evalue": "No stress model available (or wrong path)",
     "output_type": "error",
     "traceback": [
      "\u001b[0;31m---------------------------------------------------------------------------\u001b[0m",
      "\u001b[0;31mRuntimeError\u001b[0m                              Traceback (most recent call last)",
      "\u001b[0;32m<ipython-input-6-9b30378c3825>\u001b[0m in \u001b[0;36m<module>\u001b[0;34m()\u001b[0m\n\u001b[0;32m----> 1\u001b[0;31m \u001b[0mengine\u001b[0m\u001b[0;34m.\u001b[0m\u001b[0mget_stresses\u001b[0m\u001b[0;34m(\u001b[0m\u001b[0;34m\"корова\"\u001b[0m\u001b[0;34m)\u001b[0m\u001b[0;34m\u001b[0m\u001b[0m\n\u001b[0m",
      "\u001b[0;32m~/anaconda3/lib/python3.6/site-packages/rupo/api.py\u001b[0m in \u001b[0;36mget_stresses\u001b[0;34m(self, word, language)\u001b[0m\n\u001b[1;32m     93\u001b[0m         \u001b[0;34m:\u001b[0m\u001b[0;32mreturn\u001b[0m\u001b[0;34m:\u001b[0m \u001b[0mударения\u001b[0m \u001b[0mслова\u001b[0m\u001b[0;34m.\u001b[0m\u001b[0;34m\u001b[0m\u001b[0m\n\u001b[1;32m     94\u001b[0m         \"\"\"\n\u001b[0;32m---> 95\u001b[0;31m         \u001b[0;32mreturn\u001b[0m \u001b[0mself\u001b[0m\u001b[0;34m.\u001b[0m\u001b[0mget_stress_predictor\u001b[0m\u001b[0;34m(\u001b[0m\u001b[0mlanguage\u001b[0m\u001b[0;34m)\u001b[0m\u001b[0;34m.\u001b[0m\u001b[0mpredict\u001b[0m\u001b[0;34m(\u001b[0m\u001b[0mword\u001b[0m\u001b[0;34m)\u001b[0m\u001b[0;34m\u001b[0m\u001b[0m\n\u001b[0m\u001b[1;32m     96\u001b[0m \u001b[0;34m\u001b[0m\u001b[0m\n\u001b[1;32m     97\u001b[0m     \u001b[0;34m@\u001b[0m\u001b[0mstaticmethod\u001b[0m\u001b[0;34m\u001b[0m\u001b[0m\n",
      "\u001b[0;32m~/anaconda3/lib/python3.6/site-packages/rupo/api.py\u001b[0m in \u001b[0;36mget_stress_predictor\u001b[0;34m(self, language, stress_model_path, raw_stress_dict_path, stress_trie_path, zalyzniak_dict, cmu_dict)\u001b[0m\n\u001b[1;32m     72\u001b[0m             self.stress_predictors[language] = CombinedStressPredictor(language, stress_model_path,\n\u001b[1;32m     73\u001b[0m                                                                        \u001b[0mraw_stress_dict_path\u001b[0m\u001b[0;34m,\u001b[0m \u001b[0mstress_trie_path\u001b[0m\u001b[0;34m,\u001b[0m\u001b[0;34m\u001b[0m\u001b[0m\n\u001b[0;32m---> 74\u001b[0;31m                                                                        zalyzniak_dict, cmu_dict)\n\u001b[0m\u001b[1;32m     75\u001b[0m         \u001b[0;32mreturn\u001b[0m \u001b[0mself\u001b[0m\u001b[0;34m.\u001b[0m\u001b[0mstress_predictors\u001b[0m\u001b[0;34m[\u001b[0m\u001b[0mlanguage\u001b[0m\u001b[0;34m]\u001b[0m\u001b[0;34m\u001b[0m\u001b[0m\n\u001b[1;32m     76\u001b[0m \u001b[0;34m\u001b[0m\u001b[0m\n",
      "\u001b[0;32m~/anaconda3/lib/python3.6/site-packages/rupo/stress/predictor.py\u001b[0m in \u001b[0;36m__init__\u001b[0;34m(self, language, stress_model_path, raw_stress_dict_path, stress_trie_path, zalyzniak_dict, cmu_dict)\u001b[0m\n\u001b[1;32m    148\u001b[0m     def __init__(self, language=\"ru\", stress_model_path: str=None, raw_stress_dict_path=None,\n\u001b[1;32m    149\u001b[0m                  stress_trie_path=None, zalyzniak_dict=ZALYZNYAK_DICT, cmu_dict=CMU_DICT):\n\u001b[0;32m--> 150\u001b[0;31m         \u001b[0mself\u001b[0m\u001b[0;34m.\u001b[0m\u001b[0mrnn\u001b[0m \u001b[0;34m=\u001b[0m \u001b[0mRNNGraphemeStressPredictor\u001b[0m\u001b[0;34m(\u001b[0m\u001b[0mlanguage\u001b[0m\u001b[0;34m,\u001b[0m \u001b[0mstress_model_path\u001b[0m\u001b[0;34m)\u001b[0m\u001b[0;34m\u001b[0m\u001b[0m\n\u001b[0m\u001b[1;32m    151\u001b[0m         \u001b[0mself\u001b[0m\u001b[0;34m.\u001b[0m\u001b[0mdict\u001b[0m \u001b[0;34m=\u001b[0m \u001b[0mDictStressPredictor\u001b[0m\u001b[0;34m(\u001b[0m\u001b[0mlanguage\u001b[0m\u001b[0;34m,\u001b[0m \u001b[0mraw_stress_dict_path\u001b[0m\u001b[0;34m,\u001b[0m \u001b[0mstress_trie_path\u001b[0m\u001b[0;34m,\u001b[0m \u001b[0mzalyzniak_dict\u001b[0m\u001b[0;34m,\u001b[0m \u001b[0mcmu_dict\u001b[0m\u001b[0;34m)\u001b[0m\u001b[0;34m\u001b[0m\u001b[0m\n\u001b[1;32m    152\u001b[0m \u001b[0;34m\u001b[0m\u001b[0m\n",
      "\u001b[0;32m~/anaconda3/lib/python3.6/site-packages/rupo/stress/predictor.py\u001b[0m in \u001b[0;36m__init__\u001b[0;34m(self, language, stress_model_path)\u001b[0m\n\u001b[1;32m     34\u001b[0m \u001b[0;34m\u001b[0m\u001b[0m\n\u001b[1;32m     35\u001b[0m         \u001b[0;32mif\u001b[0m \u001b[0;32mnot\u001b[0m \u001b[0mos\u001b[0m\u001b[0;34m.\u001b[0m\u001b[0mpath\u001b[0m\u001b[0;34m.\u001b[0m\u001b[0mexists\u001b[0m\u001b[0;34m(\u001b[0m\u001b[0mself\u001b[0m\u001b[0;34m.\u001b[0m\u001b[0mstress_model_path\u001b[0m\u001b[0;34m)\u001b[0m\u001b[0;34m:\u001b[0m\u001b[0;34m\u001b[0m\u001b[0m\n\u001b[0;32m---> 36\u001b[0;31m             \u001b[0;32mraise\u001b[0m \u001b[0mRuntimeError\u001b[0m\u001b[0;34m(\u001b[0m\u001b[0;34m\"No stress model available (or wrong path)\"\u001b[0m\u001b[0;34m)\u001b[0m\u001b[0;34m\u001b[0m\u001b[0m\n\u001b[0m\u001b[1;32m     37\u001b[0m \u001b[0;34m\u001b[0m\u001b[0m\n\u001b[1;32m     38\u001b[0m         \u001b[0mself\u001b[0m\u001b[0;34m.\u001b[0m\u001b[0mstress_model\u001b[0m \u001b[0;34m=\u001b[0m \u001b[0mRNNGraphemeStressModel\u001b[0m\u001b[0;34m(\u001b[0m\u001b[0mlanguage\u001b[0m\u001b[0;34m=\u001b[0m\u001b[0mlanguage\u001b[0m\u001b[0;34m)\u001b[0m\u001b[0;34m\u001b[0m\u001b[0m\n",
      "\u001b[0;31mRuntimeError\u001b[0m: No stress model available (or wrong path)"
     ]
    }
   ],
   "source": [
    "engine.get_stresses(\"корова\")"
   ]
  },
  {
   "cell_type": "code",
   "execution_count": null,
   "metadata": {
    "collapsed": true
   },
   "outputs": [],
   "source": []
  }
 ],
 "metadata": {
  "kernelspec": {
   "display_name": "Python 3",
   "language": "python",
   "name": "python3"
  },
  "language_info": {
   "codemirror_mode": {
    "name": "ipython",
    "version": 3
   },
   "file_extension": ".py",
   "mimetype": "text/x-python",
   "name": "python",
   "nbconvert_exporter": "python",
   "pygments_lexer": "ipython3",
   "version": "3.6.3"
  }
 },
 "nbformat": 4,
 "nbformat_minor": 2
}
