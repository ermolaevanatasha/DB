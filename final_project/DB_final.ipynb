{
 "cells": [
  {
   "cell_type": "code",
   "execution_count": 1,
   "metadata": {
    "collapsed": true
   },
   "outputs": [],
   "source": [
    "import warnings\n",
    "warnings.filterwarnings('ignore')"
   ]
  },
  {
   "cell_type": "markdown",
   "metadata": {},
   "source": [
    "**Python library for analysis and generation of poems in Russian**\n",
    "\n",
    "https://github.com/IlyaGusev/rupo"
   ]
  },
  {
   "cell_type": "code",
   "execution_count": 2,
   "metadata": {},
   "outputs": [
    {
     "name": "stderr",
     "output_type": "stream",
     "text": [
      "Using TensorFlow backend.\n"
     ]
    }
   ],
   "source": [
    "from rupo.api import Engine"
   ]
  },
  {
   "cell_type": "code",
   "execution_count": 3,
   "metadata": {
    "collapsed": true
   },
   "outputs": [],
   "source": [
    "engine = Engine(language='ru')"
   ]
  },
  {
   "cell_type": "code",
   "execution_count": 4,
   "metadata": {},
   "outputs": [
    {
     "name": "stdout",
     "output_type": "stream",
     "text": [
      "WARNING:tensorflow:From /Users/nata/anaconda3/lib/python3.6/site-packages/keras/backend/tensorflow_backend.py:1190: calling reduce_sum (from tensorflow.python.ops.math_ops) with keep_dims is deprecated and will be removed in a future version.\n",
      "Instructions for updating:\n",
      "keep_dims is deprecated, use keepdims instead\n",
      "WARNING:tensorflow:From /Users/nata/anaconda3/lib/python3.6/site-packages/keras/backend/tensorflow_backend.py:1297: calling reduce_mean (from tensorflow.python.ops.math_ops) with keep_dims is deprecated and will be removed in a future version.\n",
      "Instructions for updating:\n",
      "keep_dims is deprecated, use keepdims instead\n",
      "WARNING:tensorflow:From /Users/nata/anaconda3/lib/python3.6/site-packages/keras/backend/tensorflow_backend.py:1154: calling reduce_max (from tensorflow.python.ops.math_ops) with keep_dims is deprecated and will be removed in a future version.\n",
      "Instructions for updating:\n",
      "keep_dims is deprecated, use keepdims instead\n"
     ]
    }
   ],
   "source": [
    "engine.load('/Users/nata/Desktop/stress_ru_LSTM64_dropout0.2_acc99_wer8.h5', '/Users/nata/Desktop/dict/zaliznyak.txt')"
   ]
  },
  {
   "cell_type": "markdown",
   "metadata": {},
   "source": [
    "**Коллекция стихотворений**"
   ]
  },
  {
   "cell_type": "code",
   "execution_count": 5,
   "metadata": {
    "collapsed": true
   },
   "outputs": [],
   "source": [
    "import urllib.request\n",
    "import random\n",
    "import time\n",
    "from urllib.error import URLError, HTTPError\n",
    "from bs4 import BeautifulSoup\n",
    "from tqdm import tqdm_notebook as tqdm\n",
    "\n",
    "import re\n",
    "from pprint import pprint"
   ]
  },
  {
   "cell_type": "code",
   "execution_count": 6,
   "metadata": {
    "collapsed": true
   },
   "outputs": [],
   "source": [
    "t = random.randint(0, 3)"
   ]
  },
  {
   "cell_type": "code",
   "execution_count": 7,
   "metadata": {
    "collapsed": true
   },
   "outputs": [],
   "source": [
    "main_page = 'http://www.100bestpoems.ru/index.php'"
   ]
  },
  {
   "cell_type": "code",
   "execution_count": 8,
   "metadata": {
    "collapsed": true
   },
   "outputs": [],
   "source": [
    "def get_page_html(page_url):\n",
    "    '''Получение HTML-кода страницы'''\n",
    "    \n",
    "    try:\n",
    "        with urllib.request.urlopen(page_url) as response:\n",
    "            html = response.read().decode('utf-8')\n",
    "            soup = BeautifulSoup(html, 'html.parser')\n",
    "    \n",
    "    except HTTPError as e:\n",
    "        print('Error code: ', e.code)\n",
    "        pass\n",
    "    except URLError as e:\n",
    "        print('Reason: ', e.reason)\n",
    "        pass\n",
    "    \n",
    "    return soup"
   ]
  },
  {
   "cell_type": "code",
   "execution_count": 9,
   "metadata": {},
   "outputs": [],
   "source": [
    "def get_data(soups):\n",
    "    '''Извлечение метаинформации и текста стихотворений'''\n",
    "    \n",
    "    titles, authors, dates, labels, languages, texts = [], [], [], [], [], []\n",
    "    \n",
    "    for soup in soups:\n",
    "    \n",
    "        title = soup.find('h1', attrs={'itemprop':'name'})\n",
    "        if title:\n",
    "            p_title = title.text.strip()\n",
    "        else:\n",
    "            p_title = None\n",
    "\n",
    "        titles.append(p_title)\n",
    "\n",
    "        author = soup.find('span', attrs={'itemprop':'name'})\n",
    "        if author:\n",
    "            p_author = author.text.strip()\n",
    "        else:\n",
    "            p_author = None\n",
    "\n",
    "        authors.append(p_author)\n",
    "\n",
    "        date = soup.find('td', attrs={'itemprop':'datePublished'})\n",
    "        if date:\n",
    "            p_date = date.text.strip()\n",
    "        else:\n",
    "            p_date = None\n",
    "\n",
    "        dates.append(p_date)\n",
    "        \n",
    "        language = re.findall('<a href=\".*?\" title=\".*?\">(.*?)</a>', str(soup), re.DOTALL)\n",
    "        if language:\n",
    "            p_language = language[4]\n",
    "        else:\n",
    "            p_language = None\n",
    "\n",
    "        languages.append(p_language)\n",
    "\n",
    "        main_text = soup.find('span', attrs={'itemprop':'citation'})\n",
    "        if main_text:\n",
    "            p_text = main_text.text.strip().replace('\\r', '\\n').replace('\\t', '')\n",
    "        else:\n",
    "            p_text = None\n",
    "\n",
    "        texts.append(p_text)\n",
    "    \n",
    "    return titles, authors, dates, languages, texts"
   ]
  },
  {
   "cell_type": "code",
   "execution_count": 10,
   "metadata": {
    "collapsed": true
   },
   "outputs": [],
   "source": [
    "def item_info(href):\n",
    "    '''Извлечение id страницы стихотворения (/item_info.php?id=348)'''\n",
    "    \n",
    "    return href and re.compile('item_info').search(href)"
   ]
  },
  {
   "cell_type": "code",
   "execution_count": 11,
   "metadata": {},
   "outputs": [],
   "source": [
    "main_page_soup = get_page_html(main_page)\n",
    "ids = main_page_soup.find_all(href=item_info)"
   ]
  },
  {
   "cell_type": "code",
   "execution_count": 12,
   "metadata": {
    "collapsed": true
   },
   "outputs": [],
   "source": [
    "def get_ids(ids):\n",
    "    '''Извлечение id страницы стихотворения (/item_info.php?id=348)'''\n",
    "    \n",
    "    endings = []\n",
    "    \n",
    "    for element in ids:\n",
    "        endings.append(element.get('href'))\n",
    "    \n",
    "    return endings"
   ]
  },
  {
   "cell_type": "code",
   "execution_count": 13,
   "metadata": {
    "collapsed": true
   },
   "outputs": [],
   "source": [
    "def get_poems_pages(endings):\n",
    "    '''Получение HTML-кода страниц со стихотворениями'''\n",
    "    poem_htmls = []\n",
    "    \n",
    "    urls = ['http://www.100bestpoems.ru/' + end for end in endings]\n",
    "    time.sleep(t)\n",
    "\n",
    "    for url in urls:\n",
    "        poem_htmls.append(get_page_html(url))\n",
    "        \n",
    "    return poem_htmls, urls"
   ]
  },
  {
   "cell_type": "code",
   "execution_count": 14,
   "metadata": {},
   "outputs": [],
   "source": [
    "endings = get_ids(ids)"
   ]
  },
  {
   "cell_type": "code",
   "execution_count": 15,
   "metadata": {},
   "outputs": [],
   "source": [
    "poems_pages, urls = get_poems_pages(endings)"
   ]
  },
  {
   "cell_type": "code",
   "execution_count": 16,
   "metadata": {},
   "outputs": [],
   "source": [
    "titles, authors, dates, languages, texts = get_data(poems_pages)"
   ]
  },
  {
   "cell_type": "code",
   "execution_count": 17,
   "metadata": {},
   "outputs": [],
   "source": [
    "def write_file(filename, data):\n",
    "    with open(filename, 'w', encoding='utf-8') as f:\n",
    "        for item in data:\n",
    "            f.write(\"%s\\n\" % item)"
   ]
  },
  {
   "cell_type": "code",
   "execution_count": 18,
   "metadata": {
    "collapsed": true
   },
   "outputs": [],
   "source": [
    "write_file('/Users/nata/Desktop/titles.txt', titles)\n",
    "write_file('/Users/nata/Desktop/authors.txt', authors)\n",
    "write_file('/Users/nata/Desktop/dates.txt', dates)\n",
    "write_file('/Users/nata/Desktop/languages.txt', languages)\n",
    "write_file('/Users/nata/Desktop/texts.txt', texts)"
   ]
  },
  {
   "cell_type": "markdown",
   "metadata": {},
   "source": [
    "**Анализ стихотворений**"
   ]
  },
  {
   "cell_type": "code",
   "execution_count": 19,
   "metadata": {
    "collapsed": true
   },
   "outputs": [],
   "source": [
    "def get_poetic_feet(poems):\n",
    "    '''Определение стихотворного размера'''\n",
    "    \n",
    "    poetic_feet = []\n",
    "    \n",
    "    for poem in tqdm(poems):\n",
    "        poetic_feet.append(engine.classify_metre(poem))\n",
    "    \n",
    "    return poetic_feet"
   ]
  },
  {
   "cell_type": "code",
   "execution_count": 20,
   "metadata": {},
   "outputs": [
    {
     "data": {
      "application/vnd.jupyter.widget-view+json": {
       "model_id": "725c302465d64295abe1b618fe0387f2",
       "version_major": 2,
       "version_minor": 0
      },
      "text/plain": [
       "A Jupyter Widget"
      ]
     },
     "metadata": {},
     "output_type": "display_data"
    },
    {
     "name": "stdout",
     "output_type": "stream",
     "text": [
      "\n"
     ]
    }
   ],
   "source": [
    "feet = get_poetic_feet(texts)"
   ]
  },
  {
   "cell_type": "code",
   "execution_count": 21,
   "metadata": {
    "collapsed": true
   },
   "outputs": [],
   "source": [
    "import collections"
   ]
  },
  {
   "cell_type": "code",
   "execution_count": 22,
   "metadata": {},
   "outputs": [
    {
     "name": "stdout",
     "output_type": "stream",
     "text": [
      "Counter({'iambos': 45, 'choreios': 32, 'anapaistos': 19, 'dolnik3': 10, 'amphibrachys': 7, 'daktylos': 2})\n"
     ]
    }
   ],
   "source": [
    "counter = collections.Counter(feet)\n",
    "print(counter)"
   ]
  },
  {
   "cell_type": "code",
   "execution_count": 23,
   "metadata": {},
   "outputs": [],
   "source": [
    "write_file('/Users/nata/Desktop/feet.txt', feet)"
   ]
  },
  {
   "cell_type": "code",
   "execution_count": 24,
   "metadata": {
    "collapsed": true
   },
   "outputs": [],
   "source": [
    "import string\n",
    "exclude = set(string.punctuation)"
   ]
  },
  {
   "cell_type": "code",
   "execution_count": 25,
   "metadata": {
    "collapsed": true
   },
   "outputs": [],
   "source": [
    "def clean_texts(texts):\n",
    "    cleaned = []\n",
    "    \n",
    "    for text in texts:\n",
    "        cleaned.append(''.join(ch for ch in text if ch not in exclude))\n",
    "    \n",
    "    return cleaned"
   ]
  },
  {
   "cell_type": "code",
   "execution_count": 26,
   "metadata": {},
   "outputs": [],
   "source": [
    "cleaned = clean_texts(texts)"
   ]
  },
  {
   "cell_type": "code",
   "execution_count": 27,
   "metadata": {},
   "outputs": [],
   "source": [
    "strings = []\n",
    "for text in cleaned:\n",
    "    s = [s.lstrip().replace('x', 'х') for s in text.split('\\n')]\n",
    "    strings.append(s)"
   ]
  },
  {
   "cell_type": "code",
   "execution_count": 28,
   "metadata": {
    "collapsed": true
   },
   "outputs": [],
   "source": [
    "idxs = []\n",
    "i = 0\n",
    "for st in strings:\n",
    "    lst = [i] * len(st)\n",
    "    idxs.append(lst)\n",
    "    i += 1"
   ]
  },
  {
   "cell_type": "code",
   "execution_count": 29,
   "metadata": {
    "collapsed": true
   },
   "outputs": [],
   "source": [
    "def get_stress(texts):\n",
    "    '''Определение ударения'''\n",
    "    strings = []\n",
    "    stresses = []\n",
    "    \n",
    "    for text in texts:\n",
    "        s = [s.lstrip().replace('x', 'х') for s in text.split('\\n')]\n",
    "        strings.append(s)\n",
    "\n",
    "    for s in strings:\n",
    "        s_result = []\n",
    "        for i in s:\n",
    "            result = []\n",
    "            for word in i.split():\n",
    "                try:\n",
    "                    result.append(word[:engine.get_stresses(word)[0]].lower() + \\\n",
    "                                    word[engine.get_stresses(word)[0]:].capitalize())\n",
    "                except:\n",
    "                    result.append(word.lower())\n",
    "            \n",
    "            s_result.append(result)\n",
    "        \n",
    "        stresses.append([' '.join(s) for s in s_result])\n",
    "        \n",
    "    return stresses"
   ]
  },
  {
   "cell_type": "code",
   "execution_count": 30,
   "metadata": {},
   "outputs": [],
   "source": [
    "stresses = get_stress(cleaned)"
   ]
  },
  {
   "cell_type": "code",
   "execution_count": 31,
   "metadata": {
    "collapsed": true
   },
   "outputs": [],
   "source": [
    "def get_syllables(texts):\n",
    "    syllables = []\n",
    "    \n",
    "    for text in texts:\n",
    "        s_result = []\n",
    "        for t in text:\n",
    "            result = []\n",
    "            for word in t.split():\n",
    "                if engine.get_word_syllables(word) != []:\n",
    "                    result.append('-'.join(engine.get_word_syllables(word)))\n",
    "                else:\n",
    "                    result.append(word.lower())\n",
    "            \n",
    "            s_result.append(result)\n",
    "    \n",
    "        syllables.append([' '.join(s) for s in s_result])\n",
    "                \n",
    "    return syllables"
   ]
  },
  {
   "cell_type": "code",
   "execution_count": 32,
   "metadata": {},
   "outputs": [],
   "source": [
    "syllables = get_syllables(stresses)"
   ]
  },
  {
   "cell_type": "code",
   "execution_count": 33,
   "metadata": {
    "collapsed": true
   },
   "outputs": [],
   "source": [
    "psyllables = []\n",
    "\n",
    "for s in syllables:\n",
    "    psyllables.append('\\n'.join(s))"
   ]
  },
  {
   "cell_type": "code",
   "execution_count": 34,
   "metadata": {
    "collapsed": true
   },
   "outputs": [],
   "source": [
    "write_file('/Users/nata/Desktop/stresses.txt', stresses)\n",
    "write_file('/Users/nata/Desktop/syllables.txt', syllables)"
   ]
  },
  {
   "cell_type": "markdown",
   "metadata": {},
   "source": [
    "**База данных**"
   ]
  },
  {
   "cell_type": "code",
   "execution_count": 35,
   "metadata": {
    "collapsed": true
   },
   "outputs": [],
   "source": [
    "import psycopg2"
   ]
  },
  {
   "cell_type": "code",
   "execution_count": 37,
   "metadata": {},
   "outputs": [],
   "source": [
    "conn = psycopg2.connect(dbname='babj18bjqeymb5bro19a',\n",
    "                        user='usgtuwljjcyc3nhepmmb',\n",
    "                        host='babj18bjqeymb5bro19a-postgresql.services.clever-cloud.com',\n",
    "                        password='uRMYqQ8g5na5UTFWe55I')\n",
    "\n",
    "cur = conn.cursor()"
   ]
  },
  {
   "cell_type": "code",
   "execution_count": 38,
   "metadata": {},
   "outputs": [],
   "source": [
    "# cur.execute('DROP TABLE poems, full_analysis, string_analysis')"
   ]
  },
  {
   "cell_type": "markdown",
   "metadata": {},
   "source": [
    "**Создание таблиц**"
   ]
  },
  {
   "cell_type": "code",
   "execution_count": 39,
   "metadata": {},
   "outputs": [],
   "source": [
    "cur.execute('CREATE TABLE poems \\\n",
    "            (id serial PRIMARY KEY, poem text, author text, title text, original_language text, date text, foot text, url text \\\n",
    ");')"
   ]
  },
  {
   "cell_type": "code",
   "execution_count": 40,
   "metadata": {},
   "outputs": [],
   "source": [
    "cur.execute('CREATE TABLE full_analysis \\\n",
    "            (poem text, analysis text, feet text \\\n",
    ");')"
   ]
  },
  {
   "cell_type": "code",
   "execution_count": 41,
   "metadata": {},
   "outputs": [],
   "source": [
    "cur.execute('CREATE TABLE string_analysis \\\n",
    "            (id serial Not NULL, poem_string text, analysis_string text \\\n",
    ");')"
   ]
  },
  {
   "cell_type": "markdown",
   "metadata": {},
   "source": [
    "**Заполнение таблиц**"
   ]
  },
  {
   "cell_type": "code",
   "execution_count": 42,
   "metadata": {},
   "outputs": [],
   "source": [
    "for idx, text, author, title, language, date, foot, url in zip(range(len(texts)), texts, authors, titles, languages, dates, feet, urls):\n",
    "    cur.execute('INSERT INTO poems VALUES (%s, %s, %s, %s, %s, %s, %s, %s)',\n",
    "                [idx, text, author, title, language, date, foot, url])"
   ]
  },
  {
   "cell_type": "code",
   "execution_count": 43,
   "metadata": {},
   "outputs": [],
   "source": [
    "for poem_text, analysis_text, foot in zip(texts, psyllables, feet):\n",
    "    cur.execute('INSERT INTO full_analysis VALUES (%s, %s, %s)',\n",
    "                [poem_text, analysis_text, foot])"
   ]
  },
  {
   "cell_type": "code",
   "execution_count": 44,
   "metadata": {},
   "outputs": [],
   "source": [
    "for idx, poem_text, analysis_text in zip(idxs, strings, syllables):\n",
    "    for i, p, a in zip(idx, poem_text, analysis_text):\n",
    "        cur.execute('INSERT INTO string_analysis VALUES (%s, %s, %s)', [i, p, a])"
   ]
  },
  {
   "cell_type": "code",
   "execution_count": 45,
   "metadata": {
    "collapsed": true
   },
   "outputs": [],
   "source": [
    "conn.commit()"
   ]
  },
  {
   "cell_type": "markdown",
   "metadata": {},
   "source": [
    "**DELETE**"
   ]
  },
  {
   "cell_type": "code",
   "execution_count": 46,
   "metadata": {
    "collapsed": true
   },
   "outputs": [],
   "source": [
    "def check(table, j):\n",
    "    cur.execute('SELECT * FROM %s' % table)\n",
    "    rows = cur.fetchall()\n",
    "    check_rows = []\n",
    "    for i in range(len(rows)):\n",
    "        check_rows.append(rows[i][j].lower())\n",
    "    \n",
    "    return check_rows"
   ]
  },
  {
   "cell_type": "code",
   "execution_count": 47,
   "metadata": {
    "collapsed": true
   },
   "outputs": [],
   "source": [
    "def delete_poem(title):\n",
    "    if title.lower() not in check('poems', j=3):\n",
    "        print('Такого стихотворения нет в базе данных.')\n",
    "        \n",
    "    else:\n",
    "        cur.execute(\"DELETE FROM full_analysis WHERE poem IN (SELECT poem FROM poems WHERE title = '%s')\" % title)\n",
    "        cur.execute(\"DELETE FROM string_analysis WHERE id IN (SELECT id FROM poems WHERE title = '%s')\" % title)\n",
    "        cur.execute(\"DELETE FROM poems WHERE title = '%s'\" % title)\n",
    "        conn.commit()\n",
    "        titles.remove(title)\n",
    "        print(title + ' was deleted.')"
   ]
  },
  {
   "cell_type": "code",
   "execution_count": 48,
   "metadata": {},
   "outputs": [
    {
     "name": "stdout",
     "output_type": "stream",
     "text": [
      "Такого стихотворения нет в базе данных.\n"
     ]
    }
   ],
   "source": [
    "delete_poem('VJHbjhd')"
   ]
  },
  {
   "cell_type": "code",
   "execution_count": null,
   "metadata": {},
   "outputs": [],
   "source": [
    "delete_poem('Отговорила роща золотая')"
   ]
  },
  {
   "cell_type": "markdown",
   "metadata": {},
   "source": [
    "**SELECT**"
   ]
  },
  {
   "cell_type": "code",
   "execution_count": 49,
   "metadata": {},
   "outputs": [],
   "source": [
    "def show_poems_by_author(name):\n",
    "    '''Список стихотворений конкретного поэта'''\n",
    "    \n",
    "    if not any(name in t for t in authors):\n",
    "        print('Такого поэта нет в базе данных.')\n",
    "    \n",
    "    try:\n",
    "        names = [s for s in authors if name in s]\n",
    "\n",
    "        query = \"SELECT title FROM poems WHERE author = '%s'\" % (names[0])\n",
    "        cur.execute(query)\n",
    "        poems = cur.fetchall()\n",
    "\n",
    "        print(names[0] + ':\\n')\n",
    "        for poem in poems:\n",
    "            pprint(''.join(poem))\n",
    "    \n",
    "    except:\n",
    "        pass"
   ]
  },
  {
   "cell_type": "code",
   "execution_count": 50,
   "metadata": {},
   "outputs": [
    {
     "name": "stdout",
     "output_type": "stream",
     "text": [
      "Александр Блок:\n",
      "\n",
      "'Ночь, улица, фонарь, аптека...'\n",
      "'Незнакомка'\n",
      "'Девушка пела в церковном хоре'\n"
     ]
    }
   ],
   "source": [
    "show_poems_by_author('Блок')"
   ]
  },
  {
   "cell_type": "code",
   "execution_count": 51,
   "metadata": {
    "collapsed": true
   },
   "outputs": [],
   "source": [
    "def show_poems_by_foot(foot):\n",
    "    '''Список стихотворений конкретного строя'''\n",
    "    \n",
    "    if not any(foot in t for t in feet):\n",
    "        print('Стихотворений такого строя нет в базе данных.')\n",
    "    \n",
    "    else:\n",
    "        query = \"SELECT title FROM poems WHERE foot LIKE '%s'\" % (foot)\n",
    "        cur.execute(query)\n",
    "        poems = cur.fetchall()\n",
    "\n",
    "        print(foot + ':\\n')\n",
    "        for poem in poems:\n",
    "            pprint(''.join(poem))"
   ]
  },
  {
   "cell_type": "code",
   "execution_count": 52,
   "metadata": {},
   "outputs": [
    {
     "name": "stdout",
     "output_type": "stream",
     "text": [
      "anapaistos:\n",
      "\n",
      "'Мне осталась одна забава'\n",
      "'Пой же, пой. На проклятой гитаре'\n",
      "'Баллада о детстве'\n",
      "'Кони привередливые'\n",
      "'Он не вернулся из боя'\n",
      "'Баллада о борьбе'\n",
      "'Райские яблоки'\n",
      "'Охота на волков'\n",
      "'Вот и лето прошло'\n",
      "'Я убит подо Ржевом'\n",
      "'Да! Теперь решено. Без возврата...'\n",
      "'Сукин сын (Снова выплыли годы из мрака...)'\n",
      "'Ни о чем не жалейте'\n",
      "'Заметался пожар голубой'\n",
      "'Снова пьют здесь, дерутся и плачут...'\n",
      "'Подражание песне'\n",
      "'Моя жизнь'\n",
      "'Баллада о борьбе'\n",
      "'Память'\n"
     ]
    }
   ],
   "source": [
    "show_poems_by_foot('anapaistos')"
   ]
  },
  {
   "cell_type": "code",
   "execution_count": 53,
   "metadata": {
    "collapsed": true
   },
   "outputs": [],
   "source": [
    "def show_details(title):\n",
    "    '''Информация о стихотворении по его названию'''\n",
    "    \n",
    "    if not any(title in t for t in titles):\n",
    "        print('Такого стихотворения нет в базе данных.')\n",
    "    \n",
    "    try:\n",
    "        names = [s for s in titles if title in s]\n",
    "        query = \"SELECT author, title, original_language, date, foot, url FROM poems WHERE title = '%s'\" % (names[0])\n",
    "        cur.execute(query)\n",
    "        rows = cur.fetchall()\n",
    "\n",
    "        headers = ['Author', 'Title', 'Original language', 'Year', 'Foot', 'URL']\n",
    "        print('{:<20s} {:<30s} {:<20s} {:<10s} {:<15s} {:<10s}'.format(*headers))\n",
    "        for list_ in rows:\n",
    "            print('{:<20s} {:<30s} {:<20s} {:<10s} {:<15s} {:<10s}'.format(*list_))\n",
    "    \n",
    "    except:\n",
    "        pass"
   ]
  },
  {
   "cell_type": "code",
   "execution_count": 54,
   "metadata": {},
   "outputs": [
    {
     "name": "stdout",
     "output_type": "stream",
     "text": [
      "Author               Title                          Original language    Year       Foot            URL       \n",
      "Владимир Маяковский  Ешь ананасы, рябчиков жуй...   Русский              1917       daktylos        http://www.100bestpoems.ru/item_info.php?id=8094\n"
     ]
    }
   ],
   "source": [
    "show_details('Ешь ананасы, рябчиков жуй...')"
   ]
  },
  {
   "cell_type": "code",
   "execution_count": 55,
   "metadata": {},
   "outputs": [
    {
     "name": "stdout",
     "output_type": "stream",
     "text": [
      "Author               Title                          Original language    Year       Foot            URL       \n",
      "Фёдор Тютчев         Зима недаром злится…           Русский              1836       iambos          http://www.100bestpoems.ru/item_info.php?id=5463\n"
     ]
    }
   ],
   "source": [
    "show_details('Зима')"
   ]
  },
  {
   "cell_type": "code",
   "execution_count": 86,
   "metadata": {
    "collapsed": true
   },
   "outputs": [],
   "source": [
    "def show_analysis(title):\n",
    "    '''Данные анализа стихотворения по его названию'''\n",
    "    \n",
    "    if not any(title in t for t in titles):\n",
    "        print('Такого стихотворения нет в базе данных.')\n",
    "    \n",
    "    try:\n",
    "        names = [s for s in titles if title in s]\n",
    "        query = \"SELECT poem_string, analysis_string, poems.author, poems.date, poems.foot \\\n",
    "                    FROM string_analysis \\\n",
    "                    FULL OUTER JOIN poems ON poems.id = string_analysis.id \\\n",
    "                    WHERE poems.title = '%s'\" % (names[0])\n",
    "        \n",
    "        cur.execute(query)\n",
    "        rows = cur.fetchall()\n",
    "        print('Title: ' + title)\n",
    "        print('Author: ' + rows[0][2])\n",
    "        print('Year: ' + rows[0][3])\n",
    "        print('Foot: ' + rows[0][-1] + '\\n')\n",
    "\n",
    "        headers = ['Poem text', 'Poem analysis']\n",
    "        print('{:<60s} {:<60s}'.format(*headers))\n",
    "        for list_ in rows:\n",
    "            print('{:<60s} {:<60s}'.format(*list_))\n",
    "            \n",
    "    except:\n",
    "        pass"
   ]
  },
  {
   "cell_type": "code",
   "execution_count": 87,
   "metadata": {},
   "outputs": [
    {
     "name": "stdout",
     "output_type": "stream",
     "text": [
      "Title: Зима\n",
      "Author: Фёдор Тютчев\n",
      "Year: 1836\n",
      "Foot: iambos\n",
      "\n",
      "Poem text                                                    Poem analysis                                               \n",
      "И снегу захватя                                              И снЕ-гу за-хва-тЯ                                          \n",
      "И пуще лишь шумит                                            И пУ-ще лИшь шу-мИт                                         \n",
      "Взбесилась ведьма злая                                       взбе-сИ-лась вЕ-дьма злА-я                                  \n",
      "Зима недаром злится                                          зИ-ма не-дА-ром злИ-тся                                     \n",
      "Прошла её пора —                                             прО-шла е-Ё пО-ра —                                         \n",
      "Весна в окно стучится                                        ве-снА в о-кнО сту-чИ-тся                                   \n",
      "И гонит со двора                                             И гО-нит сО дво-рА                                          \n",
      "И всё засуетилось                                            И всЁ за-су-е-тИ-лось                                       \n",
      "Всё нудит Зиму вон —                                         всЁ нУ-дит зИ-му вОн —                                      \n",
      "И жаворонки в небе                                           И жА-во-рон-ки в нЕ-бе                                      \n",
      "Уж подняли трезвон                                           Уж пО-дня-ли тре-звОн                                       \n",
      "Зима еще хлопочет                                            зИ-ма е-ще хло-пО-чет                                       \n",
      "И на Весну ворчит                                            И нА ве-снУ вор-чИт                                         \n",
      "Та ей в глаза хохочет                                        тА Ей в глА-за хо-хО-чет                                    \n",
      "Пустила убегая                                               пу-стИ-ла у-бе-гА-я                                         \n",
      "В прекрасное дитя                                            в пре-крА-сно-е ди-тЯ                                       \n",
      "Весне и горя мало                                            ве-снЕ И гО-ря мА-ло                                        \n",
      "Умылася в снегу                                              у-мЫ-ла-ся в снЕ-гу                                         \n",
      "И лишь румяней стала                                         И лИшь ру-мЯ-ней стА-ла                                     \n",
      "Наперекор врагу                                              на-пе-ре-кОр вра-гУ                                         \n"
     ]
    }
   ],
   "source": [
    "show_analysis('Зима')"
   ]
  },
  {
   "cell_type": "code",
   "execution_count": 77,
   "metadata": {},
   "outputs": [
    {
     "name": "stdout",
     "output_type": "stream",
     "text": [
      "Новый год\n",
      "[('Новогодние игрушки, свечи и хлопушки', 'н', 'Имя Фамилия', 'Год', 'choreios')]\n",
      "Title: Новый год\n",
      "Author: Имя Фамилия\n",
      "Year: Год\n",
      "Foot: choreios\n",
      "\n",
      "Poem text                                                    Poem analysis                                               \n",
      "Новогодние игрушки, свечи и хлопушки                         н                                                           \n"
     ]
    }
   ],
   "source": [
    "show_analysis('Новый год')"
   ]
  },
  {
   "cell_type": "markdown",
   "metadata": {},
   "source": [
    "**INSERT**"
   ]
  },
  {
   "cell_type": "code",
   "execution_count": 58,
   "metadata": {
    "collapsed": true
   },
   "outputs": [],
   "source": [
    "def user_stresses(user_text):\n",
    "    stresses = []\n",
    "    for string in user_text.split('\\n'):\n",
    "        user_res = []\n",
    "        for word in string.split():\n",
    "            try:\n",
    "                user_res.append(word[:engine.get_stresses(word)[0]].lower() + \\\n",
    "                            word[engine.get_stresses(word)[0]:].capitalize())\n",
    "\n",
    "            except:\n",
    "                user_res.append(word.lower())\n",
    "\n",
    "        stresses.append(' '.join(user_res))\n",
    "\n",
    "    return stresses"
   ]
  },
  {
   "cell_type": "code",
   "execution_count": 59,
   "metadata": {
    "collapsed": true
   },
   "outputs": [],
   "source": [
    "def user_syllables(user_text):\n",
    "    syllables = []\n",
    "    for string in user_stresses(user_text):\n",
    "        user_res = []\n",
    "        for word in string.split():\n",
    "            if engine.get_word_syllables(word) != []:\n",
    "                user_res.append('-'.join(engine.get_word_syllables(word)))\n",
    "            else:\n",
    "                user_res.append(word.lower())\n",
    "\n",
    "        syllables.append(' '.join(user_res))\n",
    "        \n",
    "    \n",
    "    \n",
    "    return '\\n'.join(syllables)"
   ]
  },
  {
   "cell_type": "code",
   "execution_count": 83,
   "metadata": {
    "collapsed": true
   },
   "outputs": [],
   "source": [
    "def insert_data(poem, author, title, year, language):    \n",
    "    foot = engine.classify_metre(poem)\n",
    "    \n",
    "    texts.append(poem)\n",
    "    \n",
    "    cur.execute('INSERT INTO poems VALUES (%s, %s, %s, %s, %s, %s, %s)', \n",
    "                    (len(texts), poem, author, title, language, year, foot))\n",
    "    \n",
    "    lst = []\n",
    "    i = len(poem.split('\\n'))\n",
    "    lst = [len(texts)] * i\n",
    "    \n",
    "    for l, p in zip(lst, poem.split('\\n')):\n",
    "        cur.execute('INSERT INTO string_analysis VALUES (%s, %s, %s)', \n",
    "                            (l, p, user_syllables(poem)))\n",
    "    \n",
    "    cur.execute('INSERT INTO full_analysis VALUES (%s, %s, %s)', \n",
    "                            (poem, user_syllables(poem), foot))\n",
    "    \n",
    "    conn.commit()\n",
    "    \n",
    "    titles.append(title)\n",
    "    authors.append(authors)\n",
    "    dates.append(year)\n",
    "    languages.append(language)\n",
    "    feet.append(foot)\n",
    "    \n",
    "    print(poem + ', ' + author + ', ' + title + ', ' + language + ', ' + year + ', ' + foot + ' were added.')"
   ]
  },
  {
   "cell_type": "markdown",
   "metadata": {},
   "source": [
    "**Usage examples**"
   ]
  },
  {
   "cell_type": "code",
   "execution_count": 88,
   "metadata": {},
   "outputs": [],
   "source": [
    "def user_input():\n",
    "    # Извлечение различной информации\n",
    "    user = input('Чтобы узнать, какие стихотворения уже содержатся в базе данных, введите 1:' + '\\n')\n",
    "    \n",
    "    if user == '' or user != '1':\n",
    "        user = input('Похоже, что вы ввели пустой или неверный запрос. Попробуйте еще раз!' + '\\n')\n",
    "    \n",
    "    if user == '1':\n",
    "        print('\\n' + 'Названия стихотворений, содержащихся в базе данных: ')\n",
    "        cur.execute(\"SELECT title FROM poems\")\n",
    "        \n",
    "        for i in cur.fetchall():\n",
    "            print('\\n'.join(i))\n",
    "        \n",
    "    user = input('\\n' + 'Чтобы узнать, какие авторы уже содержатся в базе данных, введите 2:' + '\\n')\n",
    "    \n",
    "    if user == '' or user != '2':\n",
    "        user = input('Похоже, что вы ввели пустой или неверный запрос. Попробуйте еще раз!' + '\\n')\n",
    "    \n",
    "    if user == '2':\n",
    "        print('\\n' + 'Авторы, содержащиеся в базе данных: ')\n",
    "        cur.execute(\"SELECT author FROM poems\")\n",
    "        authors = cur.fetchall()\n",
    "        \n",
    "        for i in set(authors):\n",
    "            print('\\n'.join(i))\n",
    "    \n",
    "    user = input('\\n' + 'Чтобы узнать, какие стихотворения конкретного автора содержатся в базе данных, введите 3:' + '\\n')\n",
    "    \n",
    "    if user == '' or user != '3':\n",
    "        user = input('Похоже, что вы ввели пустой или неверный запрос. Попробуйте еще раз:' + '\\n')\n",
    "\n",
    "    if user == '3':\n",
    "        name = input('Введите автора:' + '\\n')\n",
    "        show_poems_by_author(name)\n",
    "    \n",
    "    user = input('\\n' + 'Чтобы узнать, какие стихотворные размеры содержатся в базе данных, введите 4:' + '\\n')\n",
    "    \n",
    "    if user == '' or user != '4':\n",
    "        user = input('Похоже, что вы ввели пустой или неверный запрос. Попробуйте еще раз:' + '\\n')\n",
    "\n",
    "    if user == '4':\n",
    "        print('\\n' + 'Стихотворные размеры, содержащиеся в базе данных: ')\n",
    "        cur.execute(\"SELECT foot FROM poems\")\n",
    "        feet = cur.fetchall()\n",
    "        \n",
    "        for i in set(feet):\n",
    "            print('\\n'.join(i))\n",
    "    \n",
    "    user = input('\\n' + 'Чтобы узнать, какие из имеющихся стихотворений относятся к тому или иному строю, введите 5:' + '\\n')\n",
    "    \n",
    "    if user == '' or user != '5':\n",
    "        user = input('Похоже, что вы ввели пустой или неверный запрос. Попробуйте еще раз:' + '\\n')\n",
    "\n",
    "    if user == '5':\n",
    "        foot = input('Введите название строя:' + '\\n')\n",
    "        show_poems_by_foot(foot)\n",
    "        \n",
    "    user = input('\\n' + 'Чтобы получить информацию о конкретном стихотворении, введите 6:' + '\\n')\n",
    "    \n",
    "    if user == '' or user != '6':\n",
    "        user = input('Похоже, что вы ввели пустой или неверный запрос. Попробуйте еще раз:' + '\\n')\n",
    "\n",
    "    if user == '6':\n",
    "        title = input('Введите название стихотворения:' + '\\n')\n",
    "        show_details(title)\n",
    "        \n",
    "    \n",
    "    user = input('\\n' + 'Чтобы получить информацию о полном разборе данного стихотворения, введите 7:' + '\\n')\n",
    "    \n",
    "    if user == '' or user != '7':\n",
    "        user = input('Похоже, что вы ввели пустой или неверный запрос. Попробуйте еще раз:' + '\\n')\n",
    "\n",
    "    if user == '7':\n",
    "        show_analysis(title)\n",
    "        \n",
    "        \n",
    "    # Выполнить анализ стихотворения и внести его в базу данных\n",
    "    user = input('Чтобы добавить новое стихотворение и его анализ в базу данных, введите 9:' + '\\n')\n",
    "    \n",
    "    if user == '' or user != '9':\n",
    "        user = input('Похоже, что вы ввели пустой или неверный запрос. Попробуйте еще раз:' + '\\n')\n",
    "    \n",
    "    if user == '9':\n",
    "        user = input('\\n' + 'Введите стихотворение или одну из его строчек:' + '\\n')\n",
    "        \n",
    "        cur.execute(\"SELECT poem_string FROM string_analysis\")\n",
    "        poem_strings = cur.fetchall()\n",
    "        \n",
    "        cleaned = []\n",
    "        cleaned.append(''.join(ch for ch in user if ch not in exclude))\n",
    "\n",
    "        for c in cleaned:\n",
    "            matching = [s for s in poem_strings if c in s]\n",
    "\n",
    "            if len(matching) > 0:\n",
    "                print('Такое стихотворение уже есть в базе данных' + '\\n')\n",
    "                query = \"SELECT full_analysis.poem, full_analysis.analysis, poems.title, poems.author, poems.date, poems.foot \\\n",
    "                    FROM string_analysis \\\n",
    "                    FULL OUTER JOIN poems ON poems.id = string_analysis.id \\\n",
    "                    FULL OUTER JOIN full_analysis ON poems.poem = full_analysis.poem \\\n",
    "                    WHERE poem_string = '%s'\" % (matching[0])\n",
    "        \n",
    "                cur.execute(query)\n",
    "                rows = cur.fetchall()\n",
    "                \n",
    "                print('Title: ' + rows[0][2])\n",
    "                print('Author: ' + rows[0][3])\n",
    "                print('Year: ' + rows[0][4])\n",
    "                print('Foot: ' + rows[0][-1] + '\\n')\n",
    "                print('Poem text: ' + rows[0][0] + '\\n')\n",
    "                print('Poem analysis: ' + rows[0][1])\n",
    "                    \n",
    "            else:\n",
    "                author = input('\\n' + 'Введите автора стихотворения:' + '\\n')\n",
    "                title = input('\\n' + 'Введите название стихотворения' + '\\n')\n",
    "                year = input('\\n' + 'Введите год публикации стихотворения' + '\\n')\n",
    "                language = input('\\n' + 'Введите язык оригинала стихотворения' + '\\n')\n",
    "                insert_data(user, author, title, year, language)\n",
    "                show_analysis(title)\n",
    "                \n",
    "                \n",
    "    # Удалить стихотворение и все данные о нем из базы данных\n",
    "    user = input('Чтобы удалить конкретное стихотворение из базы данных, введите 10:' + '\\n')\n",
    "    \n",
    "    if user == '' or user != '10':\n",
    "        user = input('Похоже, что вы ввели пустой или неверный запрос. Попробуйте еще раз:' + '\\n')\n",
    "    \n",
    "    if user == '10':\n",
    "        user = input('\\n' + 'Введите название стихотворения, чтобы удалить его:' + '\\n')\n",
    "    \n",
    "        if user in titles:\n",
    "            delete_poem(user)\n",
    "\n",
    "        else:\n",
    "            user = input('К сожалению, такого стихотворения нет в базе данных. Попробуйте еще раз:' + '\\n')\n",
    "            \n",
    "            if user in titles:\n",
    "                delete_poem(user)\n",
    "    conn.commit()"
   ]
  },
  {
   "cell_type": "code",
   "execution_count": 89,
   "metadata": {},
   "outputs": [
    {
     "name": "stdout",
     "output_type": "stream",
     "text": [
      "Чтобы узнать, какие стихотворения уже содержатся в базе данных, введите 1:\n",
      "1\n",
      "\n",
      "Названия стихотворений, содержащихся в базе данных: \n",
      "Не жалею, не зову, не плачу\n",
      "Письмо матери\n",
      "Отговорила роща золотая\n",
      "Мне осталась одна забава\n",
      "Чёрный человек\n",
      "Евгений Онегин\n",
      "Парус\n",
      "Пой же, пой. На проклятой гитаре\n",
      "Пускай ты выпита другим\n",
      "Анна Снегина\n",
      "До свиданья, друг мой, до свиданья\n",
      "Выткался на озере алый свет зари\n",
      "Я обманывать себя не стану\n",
      "Баллада о детстве\n",
      "Бородино\n",
      "Песнь о собаке\n",
      "Письмо к женщине\n",
      "Жизнь — обман с чарующей тоскою...\n",
      "Кони привередливые\n",
      "Я вас любил: любовь еще, быть может...\n",
      "Враги сожгли родную хату\n",
      "Священная война\n",
      "Исповедь хулигана\n",
      "Он не вернулся из боя\n",
      "К *** (Я помню чудное мгновенье)\n",
      "Серафимыч (Николаю Резанову посвящается)\n",
      "Зимнее утро\n",
      "Хотят ли русские войны?\n",
      "Смерть поэта\n",
      "Журавли\n",
      "Купола\n",
      "Клён ты мой опавший,клён заледенелый\n",
      "Широка страна моя родная\n",
      "Пророк\n",
      "Баллада о борьбе\n",
      "Зимняя дорога\n",
      "Стихи о советском паспорте\n",
      "Райские яблоки\n",
      "Ты меня не любишь не жалеешь\n",
      "Песнь о вещем Олеге\n",
      "Охота на волков\n",
      "Побег на рывок\n",
      "Зимний вечер\n",
      "Мы теперь уходим понемногу...\n",
      "Вот и лето прошло\n",
      "Мне грустно на тебя смотреть...\n",
      "Кому на Руси жить хорошо\n",
      "Уж сколько их упало в эту бездну...\n",
      "Выхожу один я на дорогу\n",
      "Я убит подо Ржевом\n",
      "Любовь и разлука\n",
      "Я пришел к тебе с приветом...\n",
      "Песня о Буревестнике\n",
      "Да! Теперь решено. Без возврата...\n",
      "Анчар\n",
      "Гой ты, Русь, моя родная...\n",
      "Мне нравится, что вы больны не мной\n",
      "Василий Теркин\n",
      "К Чаадаеву\n",
      "Я памятник себе воздвиг нерукотворный\n",
      "Узник\n",
      "Я не люблю\n",
      "На севере диком стоит одиноко\n",
      "Дай бог\n",
      "По улице моей который год...\n",
      "Ночь, улица, фонарь, аптека...\n",
      "Сукин сын (Снова выплыли годы из мрака...)\n",
      "Признание\n",
      "Каким ты был\n",
      "Незнакомка\n",
      "Ни о чем не жалейте\n",
      "Русь уходящая\n",
      "Из Гёте\n",
      "Что такое хорошо и что такое плохо\n",
      "Песня о Соколе\n",
      "Какая ночь, я не могу\n",
      "Никого не будет в доме\n",
      "Тихий ветер. Вечер сине-хмурый...\n",
      "Тёмная ночь\n",
      "Заметался пожар голубой\n",
      "Мцыри\n",
      "Береза\n",
      "О красном вечере задумалась дорога...\n",
      "Снова пьют здесь, дерутся и плачут...\n",
      "Спит ковыль. Равнина дорогая\n",
      "Грубым дается радость\n",
      "Подражание песне\n",
      "Моя жизнь\n",
      "Послание «евангелисту» Демьяну (Я не люблю религию раба)\n",
      "Мгновения\n",
      "Я иду долиной...\n",
      "Письмо в редакцию передачи \"Очевидное-невероятное\" из сумасшедшего дома\n",
      "Диалог у телевизора\n",
      "Одна научная загадка, или почему аборигены съели Кука\n",
      "Ешь ананасы, рябчиков жуй...\n",
      "Девушка пела в церковном хоре\n",
      "Жди меня, и я вернусь\n",
      "Гамлет\n",
      "Что шумишь, качаясь, Тонкая рябина...\n",
      "Баллада о борьбе\n",
      "Побег на рывок\n",
      "Купола\n",
      "Серафимыч (Николаю Резанову посвящается)\n",
      "Тихий ветер. Вечер сине-хмурый...\n",
      "Предопределение (Любовь, любовь - гласит преданье...)\n",
      "Природа — сфинкс. И тем она верней...\n",
      "О, как убийственно мы любим...\n",
      "Певучесть есть в морских волнах...\n",
      "Зима недаром злится…\n",
      "Выхожу один я на дорогу\n",
      "Жираф\n",
      "К кастрату раз пришел скрыпач\n",
      "Память\n",
      "Пьяная зима\n",
      "Август\n",
      "На смерть друга\n",
      "Уезжай\n",
      "Новый год\n",
      "\n",
      "Чтобы узнать, какие авторы уже содержатся в базе данных, введите 2:\n",
      "2\n",
      "\n",
      "Авторы, содержащиеся в базе данных: \n",
      "Владимир Агатов\n",
      "Александр Розенбаум\n",
      "Сергей Есенин\n",
      "Николай Некрасов\n",
      "Валерий Тихонов\n",
      "Александр Твардовский\n",
      "Владимир Высоцкий\n",
      "Алексей Борычев\n",
      "Расул Гамзатов\n",
      "Иосиф Бродский\n",
      "Владимир Маяковский\n",
      "Фёдор Тютчев\n",
      "Михаил Лермонтов\n",
      "Константин Симонов\n",
      "Александр Блок\n",
      "Имя Фамилия\n",
      "Борис Пастернак\n",
      "Николай Гумилёв\n",
      "Марина Цветаева\n",
      "Арсений Тарковский\n",
      "Максим Горький\n",
      "Василий Лебедев-Кумач\n",
      "Белла Ахмадулина\n",
      "Александр Пушкин\n",
      "Евгений Евтушенко\n",
      "Роберт Рождественский\n",
      "Михаил Исаковский\n",
      "Булат Окуджава\n",
      "Афанасий Фет\n",
      "Уильям Шекспир\n",
      "Андрей Дементьев\n",
      "Иван Суриков\n",
      "\n",
      "Чтобы узнать, какие стихотворения конкретного автора содержатся в базе данных, введите 3:\n",
      "3\n",
      "Введите автора:\n",
      "Блок\n",
      "Александр Блок:\n",
      "\n",
      "'Ночь, улица, фонарь, аптека...'\n",
      "'Незнакомка'\n",
      "'Девушка пела в церковном хоре'\n",
      "\n",
      "Чтобы узнать, какие стихотворные размеры содержатся в базе данных, введите 4:\n",
      "4\n",
      "\n",
      "Стихотворные размеры, содержащиеся в базе данных: \n",
      "dolnik3\n",
      "anapaistos\n",
      "amphibrachys\n",
      "choreios\n",
      "daktylos\n",
      "iambos\n",
      "\n",
      "Чтобы узнать, какие из имеющихся стихотворений относятся к тому или иному строю, введите 5:\n",
      "5\n",
      "Введите название строя:\n",
      "daktylos\n",
      "daktylos:\n",
      "\n",
      "'Ешь ананасы, рябчиков жуй...'\n",
      "\n",
      "Чтобы получить информацию о конкретном стихотворении, введите 6:\n",
      "6\n",
      "Введите название стихотворения:\n",
      "Ешь ананасы, рябчиков жуй...\n",
      "Author               Title                          Original language    Year       Foot            URL       \n",
      "Владимир Маяковский  Ешь ананасы, рябчиков жуй...   Русский              1917       daktylos        http://www.100bestpoems.ru/item_info.php?id=8094\n",
      "\n",
      "Чтобы получить информацию о полном разборе данного стихотворения, введите 7:\n",
      "7\n",
      "Title: Ешь ананасы, рябчиков жуй...\n",
      "Author: Владимир Маяковский\n",
      "Year: 1917\n",
      "Foot: daktylos\n",
      "\n",
      "Poem text                                                    Poem analysis                                               \n",
      "Ешь ананасы рябчиков жуй                                     Ешь а-на-нА-сы рЯ-бчи-ков жУй                               \n",
      "день твой последний приходит буржуй                          дЕнь твОй по-слЕ-дний при-хО-дит бур-жУй                    \n",
      "Чтобы добавить новое стихотворение и его анализ в базу данных, введите 9:\n",
      "9\n",
      "\n",
      "Введите стихотворение или одну из его строчек:\n",
      "В лесу родилась ёлочка, в лесу она росла\n",
      "\n",
      "Введите автора стихотворения:\n",
      "Имя Фамилия\n",
      "\n",
      "Введите название стихотворения\n",
      "Ёлочка\n",
      "\n",
      "Введите год публикации стихотворения\n",
      "Год\n",
      "\n",
      "Введите язык оригинала стихотворения\n",
      "Русский\n",
      "В лесу родилась ёлочка, в лесу она росла, Имя Фамилия, Ёлочка, Русский, Год, iambos were added.\n",
      "Title: Ёлочка\n",
      "Author: Имя Фамилия\n",
      "Year: Год\n",
      "Foot: iambos\n",
      "\n",
      "Poem text                                                    Poem analysis                                               \n",
      "В лесу родилась ёлочка, в лесу она росла                     в лЕ-су ро-ди-лАсь Ё-ло-чка, в лЕ-су о-нА рО-сла            \n",
      "Чтобы удалить конкретное стихотворение из базы данных, введите 10:\n",
      "10\n",
      "\n",
      "Введите название стихотворения, чтобы удалить его:\n",
      "Новый год\n",
      "Новый год was deleted.\n"
     ]
    }
   ],
   "source": [
    "user_input()"
   ]
  },
  {
   "cell_type": "code",
   "execution_count": null,
   "metadata": {
    "collapsed": true
   },
   "outputs": [],
   "source": []
  }
 ],
 "metadata": {
  "kernelspec": {
   "display_name": "Python 3",
   "language": "python",
   "name": "python3"
  },
  "language_info": {
   "codemirror_mode": {
    "name": "ipython",
    "version": 3
   },
   "file_extension": ".py",
   "mimetype": "text/x-python",
   "name": "python",
   "nbconvert_exporter": "python",
   "pygments_lexer": "ipython3",
   "version": "3.6.3"
  }
 },
 "nbformat": 4,
 "nbformat_minor": 2
}
