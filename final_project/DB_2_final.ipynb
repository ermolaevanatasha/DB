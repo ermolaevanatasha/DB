{
 "cells": [
  {
   "cell_type": "code",
   "execution_count": 1,
   "metadata": {},
   "outputs": [
    {
     "name": "stderr",
     "output_type": "stream",
     "text": [
      "Using TensorFlow backend.\n"
     ]
    }
   ],
   "source": [
    "import random\n",
    "import time\n",
    "import json\n",
    "import re\n",
    "import collections\n",
    "import string\n",
    "from pprint import pprint\n",
    "\n",
    "from bs4 import BeautifulSoup\n",
    "from tqdm import tqdm_notebook as tqdm\n",
    "\n",
    "import urllib.request\n",
    "from urllib.error import URLError, HTTPError\n",
    "\n",
    "from rupo.api import Engine\n",
    "from elasticsearch import Elasticsearch\n",
    "from elasticsearch_dsl import Search"
   ]
  },
  {
   "cell_type": "code",
   "execution_count": 2,
   "metadata": {},
   "outputs": [],
   "source": [
    "import warnings\n",
    "warnings.filterwarnings('ignore')"
   ]
  },
  {
   "cell_type": "markdown",
   "metadata": {},
   "source": [
    "**[Python library](https://github.com/IlyaGusev/rupo) for analysis and generation of poems in Russian**"
   ]
  },
  {
   "cell_type": "code",
   "execution_count": 3,
   "metadata": {},
   "outputs": [],
   "source": [
    "engine = Engine(language='ru')"
   ]
  },
  {
   "cell_type": "code",
   "execution_count": 4,
   "metadata": {},
   "outputs": [
    {
     "name": "stdout",
     "output_type": "stream",
     "text": [
      "WARNING:tensorflow:From /Library/Frameworks/Python.framework/Versions/3.7/lib/python3.7/site-packages/tensorflow/python/framework/op_def_library.py:263: colocate_with (from tensorflow.python.framework.ops) is deprecated and will be removed in a future version.\n",
      "Instructions for updating:\n",
      "Colocations handled automatically by placer.\n",
      "WARNING:tensorflow:From /Library/Frameworks/Python.framework/Versions/3.7/lib/python3.7/site-packages/keras/backend/tensorflow_backend.py:1190: calling reduce_sum_v1 (from tensorflow.python.ops.math_ops) with keep_dims is deprecated and will be removed in a future version.\n",
      "Instructions for updating:\n",
      "keep_dims is deprecated, use keepdims instead\n",
      "WARNING:tensorflow:From /Library/Frameworks/Python.framework/Versions/3.7/lib/python3.7/site-packages/keras/backend/tensorflow_backend.py:2880: calling dropout (from tensorflow.python.ops.nn_ops) with keep_prob is deprecated and will be removed in a future version.\n",
      "Instructions for updating:\n",
      "Please use `rate` instead of `keep_prob`. Rate should be set to `rate = 1 - keep_prob`.\n",
      "WARNING:tensorflow:From /Library/Frameworks/Python.framework/Versions/3.7/lib/python3.7/site-packages/keras/backend/tensorflow_backend.py:1154: calling reduce_max_v1 (from tensorflow.python.ops.math_ops) with keep_dims is deprecated and will be removed in a future version.\n",
      "Instructions for updating:\n",
      "keep_dims is deprecated, use keepdims instead\n",
      "WARNING:tensorflow:From /Library/Frameworks/Python.framework/Versions/3.7/lib/python3.7/site-packages/tensorflow/python/ops/math_ops.py:3066: to_int32 (from tensorflow.python.ops.math_ops) is deprecated and will be removed in a future version.\n",
      "Instructions for updating:\n",
      "Use tf.cast instead.\n"
     ]
    }
   ],
   "source": [
    "engine.load('stress_ru_LSTM64_dropout0.2_acc99_wer8.h5', 'dict/zaliznyak.txt')"
   ]
  },
  {
   "cell_type": "markdown",
   "metadata": {},
   "source": [
    "**Коллекция [стихотворений](http://www.100bestpoems.ru)**"
   ]
  },
  {
   "cell_type": "code",
   "execution_count": 5,
   "metadata": {},
   "outputs": [],
   "source": [
    "t = random.randint(0, 3)"
   ]
  },
  {
   "cell_type": "code",
   "execution_count": 6,
   "metadata": {},
   "outputs": [],
   "source": [
    "main_page = 'http://www.100bestpoems.ru/index.php'"
   ]
  },
  {
   "cell_type": "code",
   "execution_count": 7,
   "metadata": {},
   "outputs": [],
   "source": [
    "def get_page_html(page_url):\n",
    "    '''Получение HTML-кода страницы'''\n",
    "    \n",
    "    try:\n",
    "        with urllib.request.urlopen(page_url) as response:\n",
    "            html = response.read().decode('utf-8')\n",
    "            soup = BeautifulSoup(html, 'html.parser')\n",
    "    \n",
    "    except HTTPError as e:\n",
    "        print('Error code: ', e.code)\n",
    "        pass\n",
    "    except URLError as e:\n",
    "        print('Reason: ', e.reason)\n",
    "        pass\n",
    "    \n",
    "    return soup"
   ]
  },
  {
   "cell_type": "code",
   "execution_count": 8,
   "metadata": {},
   "outputs": [],
   "source": [
    "def get_data(soups):\n",
    "    '''Извлечение метаинформации и текста стихотворений'''\n",
    "    \n",
    "    titles, authors, dates, labels, languages, texts = [], [], [], [], [], []\n",
    "    \n",
    "    for soup in soups:\n",
    "    \n",
    "        title = soup.find('h1', attrs={'itemprop':'name'})\n",
    "        if title:\n",
    "            p_title = title.text.strip()\n",
    "        else:\n",
    "            p_title = None\n",
    "\n",
    "        titles.append(p_title)\n",
    "\n",
    "        author = soup.find('span', attrs={'itemprop':'name'})\n",
    "        if author:\n",
    "            p_author = author.text.strip()\n",
    "        else:\n",
    "            p_author = None\n",
    "\n",
    "        authors.append(p_author)\n",
    "\n",
    "        date = soup.find('td', attrs={'itemprop':'datePublished'})\n",
    "        if date:\n",
    "            p_date = date.text.strip().replace(' ', '').replace(',','-')\n",
    "        else:\n",
    "            p_date = None\n",
    "\n",
    "        dates.append(int(p_date[-4:]))\n",
    "        \n",
    "        language = re.findall('<a href=\".*?\" title=\".*?\">(.*?)</a>', str(soup), re.DOTALL)\n",
    "        if language:\n",
    "            p_language = language[4]\n",
    "        else:\n",
    "            p_language = None\n",
    "\n",
    "        languages.append(p_language)\n",
    "\n",
    "        main_text = soup.find('span', attrs={'itemprop':'citation'})\n",
    "        if main_text:\n",
    "            p_text = main_text.text.strip().replace('\\r', '\\n').replace('\\t', '')\n",
    "        else:\n",
    "            p_text = None\n",
    "\n",
    "        texts.append(p_text)\n",
    "    \n",
    "    return titles, authors, dates, languages, texts"
   ]
  },
  {
   "cell_type": "code",
   "execution_count": 9,
   "metadata": {},
   "outputs": [],
   "source": [
    "def get_stats(soups):\n",
    "    '''Извлечение статистики для стихотворений'''\n",
    "    \n",
    "    positions, voters_num, avg_scores, total_scores = [], [], [], []\n",
    "    \n",
    "    for soup in soups:\n",
    "        \n",
    "        spans = soup.find_all('span', attrs={'class':'t-dgray'})\n",
    "        if spans:\n",
    "            position = spans[0].find('b').text.strip()\n",
    "            total_score = spans[1].find('b').text.strip()\n",
    "        else:\n",
    "            position = None\n",
    "            total_score = None\n",
    "\n",
    "        positions.append(int(position))\n",
    "        total_scores.append(int(total_score))\n",
    "        \n",
    "        voters = soup.find('span', attrs={'itemprop':'ratingCount'})\n",
    "        if voters:\n",
    "            p_voters = voters.text.strip()\n",
    "        else:\n",
    "            p_voters = None\n",
    "\n",
    "        voters_num.append(int(p_voters))\n",
    "        \n",
    "        avg_score = soup.find('span', attrs={'itemprop':'ratingValue'})\n",
    "        if avg_score:\n",
    "            p_avg_score = avg_score.text.strip()\n",
    "        else:\n",
    "            p_avg_score = None\n",
    "        \n",
    "        avg_scores.append(float(p_avg_score))\n",
    "        \n",
    "    return positions, voters_num, avg_scores, total_scores"
   ]
  },
  {
   "cell_type": "code",
   "execution_count": 10,
   "metadata": {},
   "outputs": [],
   "source": [
    "def item_info(href):\n",
    "    '''Извлечение id страницы стихотворения (/item_info.php?id=348)'''\n",
    "    \n",
    "    return href and re.compile('item_info').search(href)"
   ]
  },
  {
   "cell_type": "code",
   "execution_count": 11,
   "metadata": {},
   "outputs": [],
   "source": [
    "main_page_soup = get_page_html(main_page)\n",
    "ids = main_page_soup.find_all(href=item_info)"
   ]
  },
  {
   "cell_type": "code",
   "execution_count": 12,
   "metadata": {},
   "outputs": [],
   "source": [
    "def get_ids(ids):\n",
    "    '''Извлечение id страницы стихотворения (/item_info.php?id=348)'''\n",
    "    \n",
    "    endings = []\n",
    "    \n",
    "    for element in ids:\n",
    "        endings.append(element.get('href'))\n",
    "    \n",
    "    return endings"
   ]
  },
  {
   "cell_type": "code",
   "execution_count": 13,
   "metadata": {},
   "outputs": [],
   "source": [
    "def get_poems_pages(endings):\n",
    "    '''Получение HTML-кода страниц со стихотворениями'''\n",
    "    poems_htmls = []\n",
    "    \n",
    "    urls = ['http://www.100bestpoems.ru/' + end for end in endings]\n",
    "    time.sleep(t)\n",
    "\n",
    "    for url in urls:\n",
    "        poems_htmls.append(get_page_html(url))\n",
    "        \n",
    "    return poems_htmls, urls"
   ]
  },
  {
   "cell_type": "code",
   "execution_count": 14,
   "metadata": {},
   "outputs": [],
   "source": [
    "endings = get_ids(ids[:100])"
   ]
  },
  {
   "cell_type": "code",
   "execution_count": 15,
   "metadata": {},
   "outputs": [],
   "source": [
    "poems_pages, urls = get_poems_pages(endings)"
   ]
  },
  {
   "cell_type": "code",
   "execution_count": 16,
   "metadata": {},
   "outputs": [],
   "source": [
    "titles, authors, dates, languages, texts = get_data(poems_pages)\n",
    "positions, voters_num, avg_scores, total_scores = get_stats(poems_pages)"
   ]
  },
  {
   "cell_type": "code",
   "execution_count": 18,
   "metadata": {},
   "outputs": [],
   "source": [
    "def write_file(filename, data):\n",
    "    with open(filename, 'w', encoding='utf-8') as f:\n",
    "        for item in data:\n",
    "            f.write(\"%s\\n\" % item)"
   ]
  },
  {
   "cell_type": "code",
   "execution_count": 19,
   "metadata": {},
   "outputs": [],
   "source": [
    "# meta\n",
    "write_file('titles.txt', titles)\n",
    "write_file('authors.txt', authors)\n",
    "write_file('dates.txt', dates)\n",
    "write_file('languages.txt', languages)\n",
    "write_file('texts.txt', texts)"
   ]
  },
  {
   "cell_type": "code",
   "execution_count": 20,
   "metadata": {},
   "outputs": [],
   "source": [
    "# stats\n",
    "write_file('positions.txt', positions)\n",
    "write_file('voters_num.txt', voters_num)\n",
    "write_file('avg_scores.txt', avg_scores)\n",
    "write_file('total_scores.txt', total_scores)"
   ]
  },
  {
   "cell_type": "markdown",
   "metadata": {},
   "source": [
    "**Анализ стихотворений**"
   ]
  },
  {
   "cell_type": "code",
   "execution_count": 21,
   "metadata": {},
   "outputs": [],
   "source": [
    "def get_poetic_feet(poems):\n",
    "    '''Определение стихотворного размера'''\n",
    "    \n",
    "    poetic_feet = []\n",
    "    \n",
    "    for poem in tqdm(poems):\n",
    "        poetic_feet.append(engine.classify_metre(poem))\n",
    "    \n",
    "    return poetic_feet"
   ]
  },
  {
   "cell_type": "code",
   "execution_count": 22,
   "metadata": {},
   "outputs": [
    {
     "data": {
      "application/vnd.jupyter.widget-view+json": {
       "model_id": "1a531849c50b4716b0b0421ef09f2ab5",
       "version_major": 2,
       "version_minor": 0
      },
      "text/plain": [
       "HBox(children=(IntProgress(value=0), HTML(value='')))"
      ]
     },
     "metadata": {},
     "output_type": "display_data"
    },
    {
     "name": "stdout",
     "output_type": "stream",
     "text": [
      "\n"
     ]
    }
   ],
   "source": [
    "feet = get_poetic_feet(texts)"
   ]
  },
  {
   "cell_type": "code",
   "execution_count": 23,
   "metadata": {},
   "outputs": [],
   "source": [
    "for idx, element in enumerate(feet):\n",
    "    if element == 'iambos':\n",
    "        feet[idx] = 'ямб'\n",
    "    if element == 'choreios':\n",
    "        feet[idx] = 'хорей'\n",
    "    if element == 'daktylos':\n",
    "        feet[idx] = 'дактиль'\n",
    "    if element == 'amphibrachys':\n",
    "        feet[idx] = 'амфибрахий'\n",
    "    if element == 'anapaistos':\n",
    "        feet[idx] = 'анапест'\n",
    "    if element == 'dolnik3':\n",
    "        feet[idx] = 'дольник3'\n",
    "    if element == 'dolnik2':\n",
    "        feet[idx] = 'дольник2'\n",
    "    if element == 'taktovik3':\n",
    "        feet[idx] = 'тактовик3'\n",
    "    if element == 'taktovik2':\n",
    "        feet[idx] = 'тактовик2'"
   ]
  },
  {
   "cell_type": "code",
   "execution_count": 24,
   "metadata": {},
   "outputs": [
    {
     "name": "stdout",
     "output_type": "stream",
     "text": [
      "Counter({'ямб': 37, 'хорей': 28, 'анапест': 19, 'дольник3': 9, 'амфибрахий': 5, 'дактиль': 2})\n"
     ]
    }
   ],
   "source": [
    "counter = collections.Counter(feet)\n",
    "print(counter)"
   ]
  },
  {
   "cell_type": "code",
   "execution_count": 25,
   "metadata": {},
   "outputs": [],
   "source": [
    "write_file('feet.txt', feet)"
   ]
  },
  {
   "cell_type": "code",
   "execution_count": 26,
   "metadata": {},
   "outputs": [],
   "source": [
    "exclude = set(string.punctuation)"
   ]
  },
  {
   "cell_type": "code",
   "execution_count": 27,
   "metadata": {},
   "outputs": [],
   "source": [
    "def clean_texts(texts):\n",
    "    cleaned = []\n",
    "    \n",
    "    for text in texts:\n",
    "        cleaned.append(''.join(ch for ch in text if ch not in exclude))\n",
    "    \n",
    "    return cleaned"
   ]
  },
  {
   "cell_type": "code",
   "execution_count": 28,
   "metadata": {},
   "outputs": [],
   "source": [
    "cleaned = clean_texts(texts)"
   ]
  },
  {
   "cell_type": "code",
   "execution_count": 29,
   "metadata": {},
   "outputs": [],
   "source": [
    "strings = []\n",
    "for text in cleaned:\n",
    "    s = [s.lstrip().replace('x', 'х') for s in text.split('\\n')]\n",
    "    strings.append(s)"
   ]
  },
  {
   "cell_type": "code",
   "execution_count": 30,
   "metadata": {},
   "outputs": [],
   "source": [
    "idxs = []\n",
    "i = 0\n",
    "for st in strings:\n",
    "    lst = [i] * len(st)\n",
    "    idxs.append(lst)\n",
    "    i += 1"
   ]
  },
  {
   "cell_type": "code",
   "execution_count": 31,
   "metadata": {},
   "outputs": [],
   "source": [
    "def get_stress(texts):\n",
    "    '''Определение ударения'''\n",
    "    strings = []\n",
    "    stresses = []\n",
    "    \n",
    "    for text in texts:\n",
    "        s = [s.lstrip().replace('x', 'х') for s in text.split('\\n')]\n",
    "        strings.append(s)\n",
    "\n",
    "    for s in strings:\n",
    "        s_result = []\n",
    "        for i in s:\n",
    "            result = []\n",
    "            for word in i.split():\n",
    "                try:\n",
    "                    result.append(word[:engine.get_stresses(word)[0]].lower() + \\\n",
    "                                    word[engine.get_stresses(word)[0]:].capitalize())\n",
    "                except:\n",
    "                    result.append(word.lower())\n",
    "            \n",
    "            s_result.append(result)\n",
    "        \n",
    "        stresses.append([' '.join(s) for s in s_result])\n",
    "        \n",
    "    return stresses"
   ]
  },
  {
   "cell_type": "code",
   "execution_count": 32,
   "metadata": {},
   "outputs": [],
   "source": [
    "stresses = get_stress(cleaned)"
   ]
  },
  {
   "cell_type": "code",
   "execution_count": 33,
   "metadata": {},
   "outputs": [],
   "source": [
    "def get_syllables(texts):\n",
    "    syllables = []\n",
    "    \n",
    "    for text in texts:\n",
    "        s_result = []\n",
    "        for t in text:\n",
    "            result = []\n",
    "            for word in t.split():\n",
    "                if engine.get_word_syllables(word) != []:\n",
    "                    result.append('-'.join(engine.get_word_syllables(word)))\n",
    "                else:\n",
    "                    result.append(word.lower())\n",
    "            \n",
    "            s_result.append(result)\n",
    "    \n",
    "        syllables.append([' '.join(s) for s in s_result])\n",
    "                \n",
    "    return syllables"
   ]
  },
  {
   "cell_type": "code",
   "execution_count": 34,
   "metadata": {},
   "outputs": [],
   "source": [
    "syllables = get_syllables(stresses)"
   ]
  },
  {
   "cell_type": "code",
   "execution_count": 35,
   "metadata": {},
   "outputs": [],
   "source": [
    "psyllables = []\n",
    "\n",
    "for s in syllables:\n",
    "    psyllables.append('\\n'.join(s))"
   ]
  },
  {
   "cell_type": "code",
   "execution_count": 36,
   "metadata": {},
   "outputs": [],
   "source": [
    "write_file('stresses.txt', stresses)\n",
    "write_file('syllables.txt', syllables)"
   ]
  },
  {
   "cell_type": "markdown",
   "metadata": {},
   "source": [
    "#### База данных"
   ]
  },
  {
   "cell_type": "code",
   "execution_count": 37,
   "metadata": {},
   "outputs": [
    {
     "data": {
      "text/plain": [
       "<Elasticsearch([{}])>"
      ]
     },
     "execution_count": 37,
     "metadata": {},
     "output_type": "execute_result"
    }
   ],
   "source": [
    "es = Elasticsearch()\n",
    "es"
   ]
  },
  {
   "cell_type": "code",
   "execution_count": 39,
   "metadata": {},
   "outputs": [],
   "source": [
    "poems_json = [{\"url\": url,\n",
    "               \"position\" : position,\n",
    "               \"voters\" : n_voters,\n",
    "               \"total score\" : total_score,\n",
    "               \"average score\" : avg_score,\n",
    "               \"title\": title,\n",
    "               \"author\": author,\n",
    "               \"date\": date,\n",
    "               \"language\": language,\n",
    "               \"text\": text,\n",
    "               \"stresses\": stress,\n",
    "               \"syllables\": syllable,\n",
    "               \"foot\" : foot\n",
    "              } \n",
    "              for url, position, n_voters, total_score, avg_score, title, author, date, language, text, stress, syllable, foot\n",
    "              in zip(urls, positions, voters_num, total_scores, avg_scores, titles, authors, dates, languages, texts, stresses, syllables, feet)]"
   ]
  },
  {
   "cell_type": "code",
   "execution_count": 40,
   "metadata": {},
   "outputs": [],
   "source": [
    "with open('poems.json', 'w') as outfile:\n",
    "    json.dump(poems_json, outfile)"
   ]
  },
  {
   "cell_type": "code",
   "execution_count": 41,
   "metadata": {},
   "outputs": [],
   "source": [
    "# pprint(poems_json[12])"
   ]
  },
  {
   "cell_type": "code",
   "execution_count": 42,
   "metadata": {},
   "outputs": [
    {
     "data": {
      "text/plain": [
       "{'acknowledged': True}"
      ]
     },
     "execution_count": 42,
     "metadata": {},
     "output_type": "execute_result"
    }
   ],
   "source": [
    "es.indices.delete(\"all\")\n",
    "es.indices.delete(\"poems\")\n",
    "es.indices.delete(\"stats\")\n",
    "es.indices.delete(\"analysis\")"
   ]
  },
  {
   "cell_type": "code",
   "execution_count": 43,
   "metadata": {},
   "outputs": [
    {
     "data": {
      "text/plain": [
       "{'acknowledged': True, 'shards_acknowledged': True, 'index': 'all'}"
      ]
     },
     "execution_count": 43,
     "metadata": {},
     "output_type": "execute_result"
    }
   ],
   "source": [
    "# all info\n",
    "es.indices.create(index=\"all\")"
   ]
  },
  {
   "cell_type": "code",
   "execution_count": 44,
   "metadata": {},
   "outputs": [
    {
     "data": {
      "text/plain": [
       "{'acknowledged': True, 'shards_acknowledged': True, 'index': 'poems'}"
      ]
     },
     "execution_count": 44,
     "metadata": {},
     "output_type": "execute_result"
    }
   ],
   "source": [
    "# texts + meta-info + foot\n",
    "es.indices.create(index=\"poems\")"
   ]
  },
  {
   "cell_type": "code",
   "execution_count": 45,
   "metadata": {},
   "outputs": [
    {
     "data": {
      "text/plain": [
       "{'acknowledged': True, 'shards_acknowledged': True, 'index': 'stats'}"
      ]
     },
     "execution_count": 45,
     "metadata": {},
     "output_type": "execute_result"
    }
   ],
   "source": [
    "# stats\n",
    "es.indices.create(index=\"stats\")"
   ]
  },
  {
   "cell_type": "code",
   "execution_count": 46,
   "metadata": {},
   "outputs": [
    {
     "data": {
      "text/plain": [
       "{'acknowledged': True, 'shards_acknowledged': True, 'index': 'analysis'}"
      ]
     },
     "execution_count": 46,
     "metadata": {},
     "output_type": "execute_result"
    }
   ],
   "source": [
    "# analysis\n",
    "es.indices.create(index=\"analysis\")"
   ]
  },
  {
   "cell_type": "code",
   "execution_count": 47,
   "metadata": {},
   "outputs": [
    {
     "data": {
      "text/plain": [
       "{'acknowledged': True}"
      ]
     },
     "execution_count": 47,
     "metadata": {},
     "output_type": "execute_result"
    }
   ],
   "source": [
    "mapit_all = {\"info\" : {\"properties\" : {\"url\" : {\"type\" : \"text\"},\n",
    "                                       \"title\" : {\"type\" : \"text\", \"analyzer\" : \"russian\"},\n",
    "                                       \"author\" : {\"type\" : \"text\", \"analyzer\" : \"russian\"},\n",
    "                                       \"year\" : {\"type\" : \"integer\"},\n",
    "                                       \"language\" : {\"type\" : \"text\", \"analyzer\" : \"russian\"},\n",
    "                                       \"text\" : {\"type\" : \"text\", \"analyzer\" : \"russian\"},\n",
    "                                       \"syllables\" : {\"type\" : \"text\", \"analyzer\" : \"russian\"},\n",
    "                                       \"foot\" : {\"type\" : \"text\", \"analyzer\" : \"russian\"},\n",
    "                                       \"position\" : {\"type\" : \"integer\"},\n",
    "                                       \"voters\" : {\"type\" : \"integer\"},\n",
    "                                       \"avg_score\" : {\"type\" : \"float\"},\n",
    "                                       \"total_score\" : {\"type\" : \"integer\"}}}}\n",
    "\n",
    "es.indices.put_mapping(index=\"all\", doc_type='info', body=mapit_all)"
   ]
  },
  {
   "cell_type": "code",
   "execution_count": 107,
   "metadata": {},
   "outputs": [
    {
     "data": {
      "text/plain": [
       "{'acknowledged': True}"
      ]
     },
     "execution_count": 107,
     "metadata": {},
     "output_type": "execute_result"
    }
   ],
   "source": [
    "mapit_poems = {\"poem\" : {\"properties\" : {\"url\" : {\"type\" : \"text\"},\n",
    "                                         \"title\" : {\"type\" : \"text\", \"analyzer\" : \"russian\"},\n",
    "                                         \"author\" : {\"type\" : \"text\", \"analyzer\" : \"russian\"},\n",
    "                                         \"year\" : {\"type\" : \"integer\"},\n",
    "                                         \"language\" : {\"type\" : \"text\", \"analyzer\" : \"russian\"},\n",
    "                                         \"text\" : {\"type\" : \"text\", \"analyzer\" : \"russian\"},\n",
    "                                         \"syllables\" : {\"type\" : \"text\", \"analyzer\" : \"russian\"},\n",
    "                                         \"foot\" : {\"type\" : \"text\", \"fielddata\": \"true\", \"analyzer\" : \"russian\"}}}}\n",
    "\n",
    "es.indices.put_mapping(index=\"poems\", doc_type='poem', body=mapit_poems)"
   ]
  },
  {
   "cell_type": "code",
   "execution_count": 49,
   "metadata": {},
   "outputs": [
    {
     "data": {
      "text/plain": [
       "{'acknowledged': True}"
      ]
     },
     "execution_count": 49,
     "metadata": {},
     "output_type": "execute_result"
    }
   ],
   "source": [
    "# mapit_stats = {\"statistics\" : {\"properties\" : {\"title\" : {\"type\" : \"text\", \"analyzer\" : \"russian\"},\n",
    "#                                                \"author\": {\"type\" : \"text\", \"analyzer\" : \"russian\"},\n",
    "#                                                \"position\" : {\"type\" : \"integer\"},\n",
    "#                                                \"voters\" : {\"type\" : \"integer\"},\n",
    "#                                                \"avg_score\" : {\"type\" : \"float\"},\n",
    "#                                                \"total_score\" : {\"type\" : \"integer\"}}}}\n",
    "\n",
    "# es.indices.put_mapping(index=\"stats\", doc_type='statistics', body=mapit_stats)"
   ]
  },
  {
   "cell_type": "code",
   "execution_count": 50,
   "metadata": {},
   "outputs": [
    {
     "data": {
      "text/plain": [
       "{'acknowledged': True}"
      ]
     },
     "execution_count": 50,
     "metadata": {},
     "output_type": "execute_result"
    }
   ],
   "source": [
    "# mapit_analysis = {\"ana\" : {\"properties\" : {\"text\" : {\"type\" : \"text\", \"analyzer\" : \"russian\"},\n",
    "#                                            \"stresses\" : {\"type\" : \"text\", \"analyzer\" : \"russian\"},\n",
    "#                                            \"syllables\" : {\"type\" : \"text\", \"analyzer\" : \"russian\"}}}}\n",
    "\n",
    "# es.indices.put_mapping(index=\"analysis\", doc_type='ana', body=mapit_analysis)"
   ]
  },
  {
   "cell_type": "code",
   "execution_count": 51,
   "metadata": {},
   "outputs": [
    {
     "data": {
      "text/plain": [
       "{'analysis': {'aliases': {}},\n",
       " 'poems': {'aliases': {}},\n",
       " 'all': {'aliases': {}},\n",
       " 'stats': {'aliases': {}}}"
      ]
     },
     "execution_count": 51,
     "metadata": {},
     "output_type": "execute_result"
    }
   ],
   "source": [
    "es.indices.get_alias(\"*\")"
   ]
  },
  {
   "cell_type": "code",
   "execution_count": 52,
   "metadata": {},
   "outputs": [
    {
     "data": {
      "text/plain": [
       "{'poems': {'mappings': {'poem': {'properties': {'author': {'type': 'text',\n",
       "      'analyzer': 'russian'},\n",
       "     'foot': {'type': 'text', 'analyzer': 'russian'},\n",
       "     'language': {'type': 'text', 'analyzer': 'russian'},\n",
       "     'syllables': {'type': 'text', 'analyzer': 'russian'},\n",
       "     'text': {'type': 'text', 'analyzer': 'russian'},\n",
       "     'title': {'type': 'text', 'analyzer': 'russian'},\n",
       "     'url': {'type': 'text'},\n",
       "     'year': {'type': 'integer'}}}}}}"
      ]
     },
     "execution_count": 52,
     "metadata": {},
     "output_type": "execute_result"
    }
   ],
   "source": [
    "es.indices.get_mapping(index=\"poems\", doc_type='poem')"
   ]
  },
  {
   "cell_type": "markdown",
   "metadata": {},
   "source": [
    "#### Заполнение базы"
   ]
  },
  {
   "cell_type": "code",
   "execution_count": 53,
   "metadata": {},
   "outputs": [],
   "source": [
    "for i in range(len(poems_json)):\n",
    "    es.index(index=\"all\", doc_type=\"info\", body={\"url\": poems_json[i][\"url\"],\n",
    "                                                 \"title\": poems_json[i][\"title\"],\n",
    "                                                 \"author\": poems_json[i][\"author\"],\n",
    "                                                 \"year\": poems_json[i][\"date\"],\n",
    "                                                 \"language\": poems_json[i][\"language\"],\n",
    "                                                 \"text\": poems_json[i][\"text\"],\n",
    "                                                 \"syllables\": poems_json[i][\"syllables\"],\n",
    "                                                 \"foot\": poems_json[i][\"foot\"],\n",
    "                                                 \"position\": poems_json[i][\"position\"],\n",
    "                                                 \"voters\": poems_json[i][\"voters\"],\n",
    "                                                 \"avg_score\": poems_json[i][\"average score\"],\n",
    "                                                 \"total_score\": poems_json[i][\"total score\"]\n",
    "                                                  })"
   ]
  },
  {
   "cell_type": "code",
   "execution_count": 54,
   "metadata": {},
   "outputs": [],
   "source": [
    "for i in range(len(poems_json)):\n",
    "    es.index(index=\"poems\", doc_type=\"poem\", body={\"url\": poems_json[i][\"url\"],\n",
    "                                                   \"title\": poems_json[i][\"title\"],\n",
    "                                                   \"author\": poems_json[i][\"author\"],\n",
    "                                                   \"year\": poems_json[i][\"date\"],\n",
    "                                                   \"language\": poems_json[i][\"language\"],\n",
    "                                                   \"text\": poems_json[i][\"text\"],\n",
    "                                                   \"syllables\": poems_json[i][\"syllables\"],\n",
    "                                                   \"foot\": poems_json[i][\"foot\"]\n",
    "                                                  })"
   ]
  },
  {
   "cell_type": "code",
   "execution_count": 55,
   "metadata": {},
   "outputs": [],
   "source": [
    "# for i in range(len(poems_json)):\n",
    "#     es.index(index=\"stats\", doc_type=\"statistics\", body={\"title\": poems_json[i][\"title\"],\n",
    "#                                                          \"author\": poems_json[i][\"author\"],\n",
    "#                                                          \"position\": poems_json[i][\"position\"],\n",
    "#                                                          \"voters\": poems_json[i][\"voters\"],\n",
    "#                                                          \"avg_score\": poems_json[i][\"average score\"],\n",
    "#                                                          \"total_score\": poems_json[i][\"total score\"]})"
   ]
  },
  {
   "cell_type": "code",
   "execution_count": 56,
   "metadata": {},
   "outputs": [],
   "source": [
    "# for i in range(len(poems_json)):\n",
    "#     es.index(index=\"analysis\", doc_type=\"ana\", body={\"text\" : poems_json[i][\"text\"],\n",
    "#                                                      \"stresses\" : poems_json[i][\"stresses\"],\n",
    "#                                                      \"syllables\" : poems_json[i][\"syllables\"]})"
   ]
  },
  {
   "cell_type": "markdown",
   "metadata": {},
   "source": [
    "#### Поиск"
   ]
  },
  {
   "cell_type": "markdown",
   "metadata": {},
   "source": [
    "### 1."
   ]
  },
  {
   "cell_type": "code",
   "execution_count": 57,
   "metadata": {},
   "outputs": [
    {
     "data": {
      "text/plain": [
       "{'_index': 'poems',\n",
       " '_type': 'poem',\n",
       " '_id': 'AfalsmkB3Jb2oNdYXVrZ',\n",
       " '_score': 2.8944502,\n",
       " '_source': {'url': 'http://www.100bestpoems.ru/item_info.php?id=7718',\n",
       "  'title': 'Я вас любил: любовь еще, быть может...',\n",
       "  'author': 'Александр Пушкин',\n",
       "  'year': 1829,\n",
       "  'language': 'Русский',\n",
       "  'text': 'Я вас любил: любовь еще, быть может,\\nВ душе моей угасла не совсем;\\nНо пусть она вас больше не тревожит;\\nЯ не хочу печалить вас ничем.\\nЯ вас любил безмолвно, безнадежно,\\nТо робостью, то ревностью томим;\\nЯ вас любил так искренно, так нежно,\\nКак дай вам бог любимой быть другим.',\n",
       "  'syllables': ['Я вАс лю-бИл лю-бОвь е-ще бЫть мО-жет',\n",
       "   'в дУ-ше мо-Ей у-гА-сла нЕ сО-всем',\n",
       "   'нО пУсть о-нА вАс бОль-ше нЕ тре-вО-жит',\n",
       "   'Я нЕ хо-чУ пе-чА-лить вАс ни-чЕм',\n",
       "   'Я вАс лю-бИл бе-змОл-вно бе-зна-дЕ-жно',\n",
       "   'тО рО-бо-стью тО рЕ-вно-стью то-мИм',\n",
       "   'Я вАс лю-бИл тАк И-скре-нно тАк не-жнО',\n",
       "   'кАк дАй вАм бОг лю-бИ-мой бЫть дру-гИм'],\n",
       "  'foot': 'ямб'}}"
      ]
     },
     "execution_count": 57,
     "metadata": {},
     "output_type": "execute_result"
    }
   ],
   "source": [
    "res = es.search(index=\"poems\", body={\"query\": {\"match\": {'title': 'любить'}}})\n",
    "res[\"hits\"][\"hits\"][1]"
   ]
  },
  {
   "cell_type": "code",
   "execution_count": 58,
   "metadata": {},
   "outputs": [
    {
     "name": "stdout",
     "output_type": "stream",
     "text": [
      "Title: 'Мне грустно на тебя смотреть...'\n",
      "Author: Сергей Есенин\n",
      "\n",
      "Мне грустно на тебя смотреть,\n",
      "Какая боль, какая жалость!\n",
      "Знать, только ивовая медь\n",
      "Нам в сентябре с тобой осталась.\n",
      " Чужие губы разнесли\n",
      "Твое тепло и трепет тела.\n",
      "Как будто дождик моросит\n",
      "С души, немного омертвелой.\n",
      " Ну что ж! Я не боюсь его.\n",
      "Иная радость мне открылась.\n",
      "Ведь не осталось ничего,\n",
      "Как только желтый тлен и сырость.\n",
      " Ведь и себя я не сберег\n",
      "Для тихой жизни, для улыбок.\n",
      "Так мало пройдено дорог,\n",
      "Так много сделано ошибок.\n",
      " Смешная жизнь, смешной разлад.\n",
      "Так было и так будет после.\n",
      "Как кладбище, усеян сад\n",
      "В берез изглоданные кости.\n",
      " Вот так же отцветем и мы\n",
      "И отшумим, как гости сада...\n",
      "Коль нет цветов среди зимы,\n",
      "Так и грустить о них не надо.\n",
      "Title: 'Никого не будет в доме'\n",
      "Author: Борис Пастернак\n",
      "\n",
      "Никого не будет в доме, \n",
      "Кроме сумерек. Один \n",
      "Зимний день в сквозном проёме \n",
      "Незадёрнутых гардин. \n",
      " Только белых мокрых комьев \n",
      "Быстрый промельк маховой. \n",
      "Только крыши, снег и, кроме \n",
      "Крыш и снега, — никого. \n",
      " И опять зачертит иней, \n",
      "И опять завертит мной \n",
      "Прошлогоднее унынье \n",
      "И дела зимы иной. \n",
      " И опять кольнут доныне \n",
      "Неотпущенной виной, \n",
      "И окно по крестовине \n",
      "Сдавит голод дровяной. \n",
      " Но нежданно по портьере \n",
      "Пробежит вторженья дрожь. \n",
      "Тишину шагами меря, \n",
      "Ты, как будущность, войдёшь. \n",
      " Ты появишься у двери \n",
      "В чём-то белом, без причуд, \n",
      "В чём-то впрямь из тех материй, \n",
      "Из которых хлопья шьют.\n",
      "Title: 'Диалог у телевизора'\n",
      "Author: Владимир Высоцкий\n",
      "\n",
      "Ой, Вань! Смотри, какие клоуны!\n",
      "Рот - хоть завязочки пришей!\n",
      "А до чего ж, Вань, размалеваны.\n",
      "И голос, как у алкашей.\n",
      "А тот похож, нет, правда, вань,\n",
      "На шурина - такая ж пьянь!\n",
      "Нет, нет, ты глянь, нет, нет,\n",
      "Ты глянь, я вправду, Вань!\n",
      " - Послушай, Зин, не трогай шурина!\n",
      "Какой ни есть, а он - родня!\n",
      "Сама намазана, прокурена...\n",
      "Гляди, дождешься у меня!\n",
      "А чем болтать, взяла бы, Зин,\n",
      "В антракт сгоняла в магазин.\n",
      "Что? Не пойдешь? Ну, я один.\n",
      "Подвинься, зин!\n",
      " Ой, Вань. Гляди какие карлики!\n",
      "В джерси одеты, не в шевиот.\n",
      "На нашей пятой швейной фабрике\n",
      "Такое вряд ли кто пошьет.\n",
      "А у тебя, ей-богу, Вань,\n",
      "Ну все друзья - такая рвань!\n",
      "И пьют всегда в такую рань такую дрянь!\n",
      " - Мои друзья, хоть не в болонии,\n",
      "Зато не тащат из семьи.\n",
      "А гадость пьют из экономии,\n",
      "Хоть поутру, да на свои.\n",
      "А у тебя самой-то, Зин,\n",
      "Приятель был с завода шин,\n",
      "Так тот вобще хлебал бензин.\n",
      "Ты вспомни, Зин!\n",
      " - Ой, Вань, гляди-кось, попугайчики.\n",
      "Нет, я ей-богу закричу!\n",
      "А это кто в короткой маечке?\n",
      "Я, Вань, такую же хочу.\n",
      "В конце квартала, правда, Вань,\n",
      "Ты мне такую же сваргань...\n",
      "Ну, что \"Отстань\"? Опять \"Отстань\"?\n",
      "Обидно, Вань!\n",
      " - Уж ты бы лучше помолчала бы:\n",
      "Накрылась премия в квартал.\n",
      "Кто мне писал на службу жалобы?\n",
      "Не ты? Да я же их читал.\n",
      "К тому же эту майку, Зин,\n",
      "Тебе напяль - позор один.\n",
      "Тебе шитья пойдет аршин.\n",
      "Где деньги, Зин?\n",
      " - Ой, Вань, умру от акробатика.\n",
      "Гляди, как вертится, нахал.\n",
      "Завцеха наш, товарищ Савтюхов,\n",
      "Недавно в клубе так скакал...\n",
      "А ты придешь домой, Иван,\n",
      "Поешь - и сразу на диван.\n",
      "Иль вон кричишь, когда не пьян.\n",
      "Ты что, Иван?\n",
      " - Ты, Зин, на грубость нарываешься,\n",
      "Все, Зин, обидеть норовишь.\n",
      "Тут за день так накувыркаешься,\n",
      "Придешь домой - там ты сидишь...\n",
      "Ну, и меня, конечно, зин,\n",
      "Сейчас же тянет в магазин\n",
      "А там друзья. Ведь я же, зин,\n",
      "Не пью один.\n",
      " - Ого, однако же, гимнасточка.\n",
      "Ой, что творит, хотя в летах.\n",
      "У нас в кафе молочном \"Ласточка\"\n",
      "Официантка может так.\n",
      "А у тебя подруги, Зин,\n",
      "Все вяжут шапочки для зим.\n",
      "От ихних скучных образин\n",
      "Дуреешь, Зин.\n",
      " Как, Вань? А Лилька Федосеева,\n",
      "Кассирша из ЦПКО\n",
      "Ты к ней все лез на новоселье...\n",
      "Она так очень ничего\n",
      "А чем ругаться, лучше, Вань,\n",
      "Поедем в отпуск в Еревань.\n",
      "Ну, что \"Отстань\"? Всегда \"Отстань\".\n",
      "Обидно, вань!\n"
     ]
    }
   ],
   "source": [
    "res = es.search(index=\"poems\", body={\"query\": {\"match\": {'text': 'зима'}}})\n",
    "res[\"hits\"][\"hits\"][1]\n",
    "\n",
    "for doc in res['hits']['hits']:\n",
    "    print(\"Title: '%s'\\nAuthor: %s\\n\\n%s\" % (doc['_source']['title'], doc['_source']['author'], doc['_source']['text']))"
   ]
  },
  {
   "cell_type": "code",
   "execution_count": 59,
   "metadata": {},
   "outputs": [
    {
     "name": "stdout",
     "output_type": "stream",
     "text": [
      "Title: 'Бородино'\n",
      "Author: Михаил Лермонтов\n"
     ]
    }
   ],
   "source": [
    "res = es.search(index=\"all\", body={\"query\": {\"match\": {\"text\": {\"query\":\"скажи дядя\", \"operator\": \"and\"}}}})\n",
    "\n",
    "for doc in res['hits']['hits']:\n",
    "    print(\"Title: '%s'\\nAuthor: %s\" % (doc['_source']['title'], doc['_source']['author']))"
   ]
  },
  {
   "cell_type": "markdown",
   "metadata": {},
   "source": [
    "___"
   ]
  },
  {
   "cell_type": "markdown",
   "metadata": {},
   "source": [
    "### 2."
   ]
  },
  {
   "cell_type": "code",
   "execution_count": 60,
   "metadata": {},
   "outputs": [
    {
     "name": "stdout",
     "output_type": "stream",
     "text": [
      "Title: 'Я обманывать себя не стану'\n",
      "Author: Сергей Есенин\n",
      "Average score: 2.16\n"
     ]
    }
   ],
   "source": [
    "res = es.search(index=\"all\", body={\"query\": {\"range\": {\"avg_score\": {\"gte\": \"2\", \"lt\": \"2.5\"}}}})\n",
    "\n",
    "for doc in res['hits']['hits'][:1]:\n",
    "    print(\"Title: '%s'\\nAuthor: %s\\nAverage score: %s\" % (doc['_source']['title'], \n",
    "                                              doc['_source']['author'], \n",
    "                                              doc['_source']['avg_score']\n",
    "                                             )\n",
    "         )"
   ]
  },
  {
   "cell_type": "markdown",
   "metadata": {},
   "source": [
    "```must, should, must_not```"
   ]
  },
  {
   "cell_type": "code",
   "execution_count": 61,
   "metadata": {},
   "outputs": [],
   "source": [
    "req = {\n",
    "  \"query\": {\n",
    "    \"bool\": {\n",
    "      \"must\": [\n",
    "        { \"match\": { \"text\": \"достаю\" } },\n",
    "        { \"match\": { \"text\": \"паспорт\" } }\n",
    "      ]\n",
    "    }\n",
    "  }\n",
    "}"
   ]
  },
  {
   "cell_type": "code",
   "execution_count": 62,
   "metadata": {},
   "outputs": [
    {
     "name": "stdout",
     "output_type": "stream",
     "text": [
      "Title: 'Стихи о советском паспорте'\n",
      "Author: Владимир Маяковский\n",
      "\n",
      "Я волком бы \n",
      "  выгрыз \n",
      "  бюрократизм. \n",
      "К мандатам \n",
      "  почтения нету. \n",
      "К любым \n",
      "  чертям с матерями \n",
      "  катись \n",
      "любая бумажка. \n",
      "   Но эту… \n",
      "По длинному фронту \n",
      "  купе \n",
      "  и кают \n",
      "чиновник \n",
      "  учтивый \n",
      "  движется. \n",
      "Сдают паспорта, \n",
      "  и я \n",
      "  сдаю \n",
      "   мою \n",
      "  пурпурную книжицу. \n",
      "К одним паспортам — \n",
      "  улыбка у рта. \n",
      "К другим — \n",
      "  отношение плевое. \n",
      "С почтеньем \n",
      "  берут, например, \n",
      "  паспорта \n",
      "с двухспальным \n",
      "   английским левою. \n",
      "Глазами \n",
      "  доброго дядю выев, \n",
      "не переставая \n",
      "  кланяться, \n",
      "берут, \n",
      "  как будто берут чаевые, \n",
      "паспорт \n",
      "  американца. \n",
      "На польский — \n",
      "   глядят, \n",
      "  как в афишу коза. \n",
      "На польский — \n",
      "  выпяливают глаза \n",
      "в тугой \n",
      "  полицейской слоновости — \n",
      "откуда, мол, \n",
      "  и что это за \n",
      " географические новости?\n",
      "И не повернув \n",
      "   головы качан \n",
      "и чувств \n",
      "  никаких \n",
      "  не изведав, \n",
      "берут, \n",
      "  не моргнув, \n",
      "  паспорта датчан \n",
      "и разных \n",
      "  прочих \n",
      "  шведов, \n",
      "   И вдруг, \n",
      "  как будто \n",
      "  ожогом, \n",
      "  рот \n",
      "скривило \n",
      "  господину. \n",
      "Это \n",
      "  господин чиновник \n",
      "  берет \n",
      "мою \n",
      "   краснокожую паспортину. \n",
      "Берет — \n",
      "  как бомбу, \n",
      "  берет — \n",
      "  как ежа, \n",
      "как бритву \n",
      "  обоюдоострую, \n",
      "берет, \n",
      "  как гремучую \n",
      "  в 20 жал \n",
      "   змею \n",
      "  двухметроворостую. \n",
      "Моргнул \n",
      "  многозначаще \n",
      "  глаз носильщика, \n",
      "хоть вещи \n",
      "  снесет задаром вам. \n",
      "Жандарм \n",
      "  вопросительно \n",
      "  смотрит на сыщика, \n",
      "   сыщик \n",
      "  на жандарма. \n",
      "С каким наслажденьем \n",
      "  жандармской кастой \n",
      "я был бы \n",
      "  исхлестан и распят \n",
      "за то, \n",
      "  что в руках у меня \n",
      "  молоткастый, \n",
      "серпастый \n",
      "   советский паспорт. \n",
      "Я волком бы \n",
      "  выгрыз \n",
      "  бюрократизм. \n",
      "К мандатам \n",
      "  почтения нету. \n",
      "К любым \n",
      "  чертям с матерями \n",
      "  катись \n",
      "любая бумажка. \n",
      "      Но эту… \n",
      "Я \n",
      "  достаю \n",
      "  из широких штанин \n",
      "дубликатом \n",
      "  бесценного груза. \n",
      "Читайте, \n",
      "  завидуйте, \n",
      "  я — \n",
      "  гражданин \n",
      "      Советского Союза.\n"
     ]
    }
   ],
   "source": [
    "res = es.search(index=\"poems\", body=req)\n",
    "\n",
    "for doc in res['hits']['hits']:\n",
    "    print(\"Title: '%s'\\nAuthor: %s\\n\\n%s\" % (doc['_source']['title'], doc['_source']['author'], doc['_source']['text']))"
   ]
  },
  {
   "cell_type": "markdown",
   "metadata": {},
   "source": [
    "#### ```MUST + MUST NOT```"
   ]
  },
  {
   "cell_type": "code",
   "execution_count": 63,
   "metadata": {},
   "outputs": [],
   "source": [
    "req = {\n",
    "  \"query\": {\n",
    "    \"bool\": {\n",
    "      \"must\": [\n",
    "        { \"match\": { \"author\": \"Есенин\" } }\n",
    "      ],\n",
    "      \"must_not\": [\n",
    "        { \"match\": { \"foot\": \"хорей\" } },\n",
    "        { \"match\": { \"foot\": \"ямб\" } }\n",
    "      ]\n",
    "    }\n",
    "  }\n",
    "}"
   ]
  },
  {
   "cell_type": "code",
   "execution_count": 64,
   "metadata": {},
   "outputs": [
    {
     "name": "stdout",
     "output_type": "stream",
     "text": [
      "Title: 'Пой же, пой. На проклятой гитаре'\n",
      "Author: Сергей Есенин\n",
      "Foot: анапест\n",
      "\n",
      "Пой же, пой. На проклятой гитаре\n",
      "Пальцы пляшут твои в полукруг.\n",
      "Захлебнуться бы в этом угаре,\n",
      "Мой последний, единственный друг.\n",
      " Не гляди на ее запястья\n",
      "И с плечей ее льющийся шелк.\n",
      "Я искал в этой женщине счастья,\n",
      "А нечаянно гибель нашел.\n",
      " Я не знал, что любовь — зараза,\n",
      "Я не знал, что любовь — чума.\n",
      "Подошла и прищуренным глазом\n",
      "Хулигана свела с ума.\n",
      " Пой, мой друг. Навевай мне снова\n",
      "Нашу прежнюю буйную рань.\n",
      "Пусть целует она другова,\n",
      "Молодая, красивая дрянь.\n",
      " Ах, постой. Я ее не ругаю.\n",
      "Ах, постой. Я ее не кляну.\n",
      "Дай тебе про себя я сыграю\n",
      "Под басовую эту струну.\n",
      " Льется дней моих розовый купол.\n",
      "В сердце снов золотых сума.\n",
      "Много девушек я перещупал,\n",
      "Много женщин в углах прижимал.\n",
      " Да! есть горькая правда земли,\n",
      "Подсмотрел я ребяческим оком:\n",
      "Лижут в очередь кобели\n",
      "Истекающую суку соком.\n",
      " Так чего ж мне ее ревновать.\n",
      "Так чего ж мне болеть такому.\n",
      "Наша жизнь — простыня да кровать.\n",
      "Наша жизнь — поцелуй да в омут.\n",
      " Пой же, пой! В роковом размахе\n",
      "Этих рук роковая беда.\n",
      "Только знаешь, пошли их на хер…\n",
      "Не умру я, мой друг, никогда.\n"
     ]
    }
   ],
   "source": [
    "res = es.search(index=\"poems\", body=req)\n",
    "\n",
    "for doc in res['hits']['hits'][:1]:\n",
    "    print(\"Title: '%s'\\nAuthor: %s\\nFoot: %s\\n\\n%s\" % (doc['_source']['title'], \n",
    "                                            doc['_source']['author'], \n",
    "                                            doc['_source']['foot'],\n",
    "                                            doc['_source']['text']))"
   ]
  },
  {
   "cell_type": "code",
   "execution_count": 65,
   "metadata": {},
   "outputs": [],
   "source": [
    "req = {\n",
    "  \"query\": {\n",
    "    \"bool\": {\n",
    "      \"must\": [\n",
    "        { \"match\": { \"text\": \"солнце\" } },\n",
    "        { \"range\": { \"avg_score\": { \"gte\": \"2\", \"lt\": \"2.5\" } } }\n",
    "      ]\n",
    "    }\n",
    "  }\n",
    "}"
   ]
  },
  {
   "cell_type": "code",
   "execution_count": 66,
   "metadata": {},
   "outputs": [
    {
     "name": "stdout",
     "output_type": "stream",
     "text": [
      "Title: 'Зимнее утро'\n",
      "Author: Александр Пушкин\n",
      "Average score: 2.06\n",
      "\n",
      "Мороз и солнце; день чудесный!\n",
      "Еще ты дремлешь, друг прелестный —\n",
      "Пора, красавица, проснись:\n",
      "Открой сомкнуты негой взоры\n",
      "Навстречу северной Авроры,\n",
      "Звездою севера явись!\n",
      " Вечор, ты помнишь, вьюга злилась,\n",
      "На мутном небе мгла носилась;\n",
      "Луна, как бледное пятно,\n",
      "Сквозь тучи мрачные желтела,\n",
      "И ты печальная сидела —\n",
      "А нынче... погляди в окно:\n",
      " Под голубыми небесами\n",
      "Великолепными коврами,\n",
      "Блестя на солнце, снег лежит;\n",
      "Прозрачный лес один чернеет,\n",
      "И ель сквозь иней зеленеет,\n",
      "И речка подо льдом блестит.\n",
      " Вся комната янтарным блеском\n",
      "Озарена. Веселым треском\n",
      "Трещит затопленная печь.\n",
      "Приятно думать у лежанки.\n",
      "Но знаешь: не велеть ли в санки\n",
      "Кобылку бурую запречь?\n",
      " Скользя по утреннему снегу,\n",
      "Друг милый, предадимся бегу\n",
      "Нетерпеливого коня\n",
      "И навестим поля пустые,\n",
      "Леса, недавно столь густые,\n",
      "И берег, милый для меня.\n",
      "Title: 'Парус'\n",
      "Author: Михаил Лермонтов\n",
      "Average score: 2.06\n",
      "\n",
      "Белеет парус одинокой\n",
      "В тумане моря голубом!..\n",
      "Что ищет он в стране далекой?\n",
      "Что кинул он в краю родном?..\n",
      "Играют волны — ветер свищет,\n",
      "И мачта гнется и скрипит…\n",
      "Увы! он счастия не ищет,\n",
      "И не от счастия бежит!\n",
      "Под ним струя светлей лазури,\n",
      "Над ним луч солнца золотой…\n",
      "А он, мятежный, просит бури,\n",
      "Как будто в бурях есть покой!\n"
     ]
    }
   ],
   "source": [
    "res = es.search(index = \"all\", body = req)\n",
    "for doc in res['hits']['hits'][:2]:\n",
    "    print(\"Title: '%s'\\nAuthor: %s\\nAverage score: %s\\n\\n%s\" % (doc['_source']['title'], \n",
    "                                                    doc['_source']['author'], \n",
    "                                                    doc['_source']['avg_score'],\n",
    "                                                    doc['_source']['text']\n",
    "                                             )\n",
    "         )"
   ]
  },
  {
   "cell_type": "code",
   "execution_count": 67,
   "metadata": {},
   "outputs": [],
   "source": [
    "req = {\n",
    "  \"query\": {\n",
    "    \"bool\": {\n",
    "      \"should\": [\n",
    "        { \"match\": { \"text\": \"мир\" } },\n",
    "        { \"range\": { \"year\": { \"gte\": \"1995\", \"lt\": \"2000\" } } }\n",
    "      ]\n",
    "    }\n",
    "  }\n",
    "}"
   ]
  },
  {
   "cell_type": "code",
   "execution_count": 68,
   "metadata": {},
   "outputs": [
    {
     "name": "stdout",
     "output_type": "stream",
     "text": [
      "Title: 'Лебединая верность'\n",
      "Author: Андрей Дементьев\n",
      "Year: 1975\n",
      "\n",
      "Над землей летели лебеди\n",
      "Солнечным днем.\n",
      "Было им светло и радостно\n",
      "В небе вдвоем,\n",
      "И земля казалась ласковой\n",
      "Им в этот миг..\n",
      "Вдруг по птицам кто-то выстрелил,\n",
      "И вырвался крик:\n",
      " Что с тобой, моя любимая?\n",
      "Отзовись скорей.\n",
      "Без любви твоей\n",
      "Небо все грустней.\n",
      "Где же ты, моя любимая?\n",
      "Возвратись скорей,\n",
      "Красотой своею нежной\n",
      "Сердце мне согрей.\n",
      " В небесах искал подругу он,\n",
      "Звал из гнезда,\n",
      "Но молчанием ответила\n",
      "Птице беда.\n",
      "Улететь в края далекие \n",
      "Лебедь не смог,\n",
      "Потеряв подругу верную,\n",
      "Он стал одинок.\n",
      " Ты прости меня, любимая,\n",
      "За чужое зло,\n",
      "Что мое крыло\n",
      "Счастье не спасло.\n",
      "Ты прости меня, любимая,\n",
      "Что весенним днем\n",
      "В небе голубом, как прежде,\n",
      "Нам не быть вдвоем.\n",
      " И была непоправимою\n",
      "Эта беда,\n",
      "Что с любимою не встретится\n",
      "Он никогда.\n",
      "Лебедь вновь поднялся к облаку,\n",
      "Песню прервал. \n",
      "И, сложив бесстрашно крылья, \n",
      "На землю упал.\n",
      " Я хочу, чтоб жили лебеди,\n",
      "И от белых стай,\n",
      "И от белых стай\n",
      "Мир добрее стал.\n",
      " Пусть летят по небу лебеди\n",
      "Над землей моей,\n",
      "Над судьбой моей летите\n",
      "В светлый мир людей.\n",
      "Title: 'Тихий ветер. Вечер сине-хмурый...'\n",
      "Author: Сергей Есенин\n",
      "Year: 1925\n",
      "\n",
      "Тихий ветер.  Вечер сине-хмурый.\n",
      "Я смотрю широкими глазами.\n",
      "В Персии такие ж точно куры,\n",
      "Как у нас в соломенной Рязани.\n",
      " Тот же месяц, только чуть пошире,\n",
      "Чуть желтее и с другого края.\n",
      "Мы с тобою любим в этом мире\n",
      "Одинаково со всеми, дорогая.\n",
      " Ночи теплые, - не в воле я, не в силах,\n",
      "Не могу не прославлять, не петь их.\n",
      "Так же девушки здесь обнимают милых\n",
      "До вторых до петухов, до третьих.\n",
      " Ах, любовь!  Она ведь всем знакома,\n",
      "Это чувство знают даже кошки,\n",
      "Только я с отчизной и без дома\n",
      "От нее сбираю скромно крошки.\n",
      " Счастья нет.  Но горевать не буду -\n",
      "Есть везде родные сердцу куры,\n",
      "Для меня рассеяны повсюду\n",
      "Молодые чувственные дуры.\n",
      " С ними я все радости приемлю\n",
      "И для них лишь говорю стихами:\n",
      "Оттого, знать, люди любят землю,\n",
      "Что она пропахла петухами.\n"
     ]
    }
   ],
   "source": [
    "res = es.search(index = \"all\", body = req)\n",
    "\n",
    "for doc in res['hits']['hits'][:2]:\n",
    "    print(\"Title: '%s'\\nAuthor: %s\\nYear: %s\\n\\n%s\" % (doc['_source']['title'], \n",
    "                                                    doc['_source']['author'], \n",
    "                                                    doc['_source']['year'],\n",
    "                                                    doc['_source']['text']\n",
    "                                             )\n",
    "         )"
   ]
  },
  {
   "cell_type": "code",
   "execution_count": 69,
   "metadata": {},
   "outputs": [],
   "source": [
    "req = {\n",
    "  \"query\": {\n",
    "    \"bool\": {\n",
    "      \"must\": [\n",
    "        { \"match\": { \"text\": \"любовь\" } },\n",
    "        { \"range\": { \"year\": { \"gte\": \"1970\", \"lt\": \"2000\" } } }\n",
    "      ]\n",
    "    }\n",
    "  }\n",
    "}"
   ]
  },
  {
   "cell_type": "code",
   "execution_count": 70,
   "metadata": {},
   "outputs": [
    {
     "name": "stdout",
     "output_type": "stream",
     "text": [
      "Title: 'Любовь и разлука'\n",
      "Author: Булат Окуджава\n",
      "Year: 1982\n",
      "\n",
      "Ещё он не сшит, твой наряд подвенечный,\n",
      "и хор в нашу честь не споёт...\n",
      "А время торопит - возница беспечный, -\n",
      "и просятся кони в полёт.\n",
      " Ах, только бы тройка не сбилась бы с круга,\n",
      "не смолк бубенец под дугой...\n",
      "Две вечных подруги - любовь и разлука -\n",
      "не ходят одна без другой.\n",
      " Мы сами раскрыли ворота, мы сами\n",
      "счастливую тройку впрягли,\n",
      "и вот уже что-то сияет пред нами,\n",
      "но что-то погасло вдали.\n",
      " Святая наука - расслышать друг друга\n",
      "сквозь ветер, на все времена...\n",
      "Две странницы вечных - любовь и разлука -\n",
      "поделятся с нами сполна.\n",
      " Чем дольше живём мы, тем годы короче,\n",
      "тем слаще друзей голоса.\n",
      "Ах, только б не смолк под дугой колокольчик,\n",
      "глаза бы глядели в глаза.\n",
      " То берег - то море, то солнце - то вьюга,\n",
      "то ангелы - то воронье...\n",
      "Две верных дороги - любовь и разлука -\n",
      "проходят сквозь сердце моё.\n"
     ]
    }
   ],
   "source": [
    "res = es.search(index = \"all\", body = req)\n",
    "for doc in res['hits']['hits']:\n",
    "    print(\"Title: '%s'\\nAuthor: %s\\nYear: %s\\n\\n%s\" % (doc['_source']['title'],\n",
    "                                                       doc['_source']['author'],\n",
    "                                                       doc['_source']['year'],\n",
    "                                                       doc['_source']['text']\n",
    "                                                      )\n",
    "         )"
   ]
  },
  {
   "cell_type": "code",
   "execution_count": 71,
   "metadata": {},
   "outputs": [],
   "source": [
    "req = {\n",
    "  \"query\": { \n",
    "    \"bool\": { \n",
    "      \"must\": [\n",
    "        { \"match\": { \"author\": \"Высоцкий\" }}, \n",
    "        { \"match\": { \"text\": \"яблоко\" }}  \n",
    "      ],\n",
    "      \"filter\": [ \n",
    "        { \"term\":  { \"foot\": \"анапест\" }}, \n",
    "        { \"range\": { \"year\": { \"gte\": \"1970\" }}} \n",
    "      ]\n",
    "    }\n",
    "  }\n",
    "}"
   ]
  },
  {
   "cell_type": "code",
   "execution_count": 72,
   "metadata": {},
   "outputs": [
    {
     "name": "stdout",
     "output_type": "stream",
     "text": [
      "Title: 'Райские яблоки'\n",
      "Author: Владимир Высоцкий\n",
      "Year: 1977\n",
      "Foot: анапест\n",
      "\n",
      "Я когда-то умру - мы когда-то всегда умираем,-\n",
      "Как бы так угадать, чтоб не сам - чтобы в спину ножом:\n",
      "Убиенных щадят, отпевают и балуют раем,-\n",
      "Не скажу про живых, а покойников мы бережем.\n",
      " В грязь ударю лицом, завалюсь покрасивее набок,\n",
      "И ударит душа на ворованных клячах в галоп.\n",
      "В дивных райских садах наберу бледно-розовых яблок.\n",
      "Жаль, сады сторожат и стреляют без промаха в лоб.\n",
      " Прискакали - гляжу - пред очами не райское что-то:\n",
      "Неродящий пустырь и сплошное ничто - беспредел.\n",
      "И среди ничего возвышались литые ворота,\n",
      "И огромный этап - тысяч пять - на коленях сидел.\n",
      " Как ржанет коренной! Я смирил его ласковым словом,\n",
      "Да репьи из мочал еле выдрал и гриву заплел.\n",
      "Седовласый старик слишком долго возился с засовом -\n",
      "И кряхтел и ворчал, и не смог отворить - и ушел.\n",
      " И измученный люд не издал ни единого стона,\n",
      "Лишь на корточки вдруг с онемевших колен пересел.\n",
      "Здесь малина, братва,- нас встречают малиновым звоном!\n",
      "Все вернулось на круг, и распятый над кругом висел.\n",
      " Всем нам блага подай, да и много ли требовал я благ?\n",
      "Мне - чтоб были друзья, да жена - чтобы пала на гроб,-\n",
      "Ну а я уж для них наберу бледно-розовых яблок.\n",
      "Жаль, сады сторожат и стреляют без промаха в лоб.\n",
      " Я узнал старика по слезам на щеках его дряблых:\n",
      "Это Петр Святой - он апостол, а я - остолоп.\n",
      "Вот и кущи-сады, в коих прорва мороженных яблок.\n",
      "Но сады сторожат - и убит я без промаха в лоб.\n",
      " И погнал я коней прочь от мест этих гнилых и зяблых,-\n",
      "Кони просят овсу, но и я закусил удила.\n",
      "Вдоль обрыва с кнутом по-над пропастью пазуху яблок\n",
      "Для тебя привезу: ты меня и из рая ждала!\n"
     ]
    }
   ],
   "source": [
    "res = es.search(index = \"all\", body = req)\n",
    "\n",
    "for doc in res['hits']['hits']:\n",
    "    print(\"Title: '%s'\\nAuthor: %s\\nYear: %s\\nFoot: %s\\n\\n%s\" % (doc['_source']['title'],\n",
    "                                                                 doc['_source']['author'],\n",
    "                                                                 doc['_source']['year'],\n",
    "                                                                 doc['_source']['foot'],\n",
    "                                                                 doc['_source']['text']\n",
    "                                                                  )\n",
    "         )"
   ]
  },
  {
   "cell_type": "code",
   "execution_count": 73,
   "metadata": {},
   "outputs": [],
   "source": [
    "req = {\n",
    "    \"aggs\" : {\n",
    "        \"max_year\" : { \"max\" : { \"field\" : \"year\" } }\n",
    "    }\n",
    "}"
   ]
  },
  {
   "cell_type": "code",
   "execution_count": 74,
   "metadata": {},
   "outputs": [
    {
     "name": "stdout",
     "output_type": "stream",
     "text": [
      "{'max_year': {'value': 2007.0}}\n"
     ]
    }
   ],
   "source": [
    "res = es.search(index=\"all\", body=req)\n",
    "\n",
    "print(res['aggregations'])"
   ]
  },
  {
   "cell_type": "code",
   "execution_count": 97,
   "metadata": {},
   "outputs": [],
   "source": [
    "req = {\n",
    "    \"aggs\" : {\n",
    "        \"min_year\" : { \"min\" : { \"field\" : \"year\" } }\n",
    "    }\n",
    "}"
   ]
  },
  {
   "cell_type": "code",
   "execution_count": 98,
   "metadata": {},
   "outputs": [
    {
     "name": "stdout",
     "output_type": "stream",
     "text": [
      "{'min_year': {'value': 1818.0}}\n"
     ]
    }
   ],
   "source": [
    "res = es.search(index=\"all\", body=req)\n",
    "\n",
    "print(res['aggregations'])"
   ]
  },
  {
   "cell_type": "code",
   "execution_count": 99,
   "metadata": {},
   "outputs": [],
   "source": [
    "req = {\n",
    "    \"aggs\" : {\n",
    "        \"sum_voters\" : { \"sum\" : { \"field\" : \"voters\" } }\n",
    "    }\n",
    "}"
   ]
  },
  {
   "cell_type": "code",
   "execution_count": 100,
   "metadata": {},
   "outputs": [
    {
     "name": "stdout",
     "output_type": "stream",
     "text": [
      "{'sum_voters': {'value': 115577.0}}\n"
     ]
    }
   ],
   "source": [
    "res = es.search(index=\"all\", body=req)\n",
    "\n",
    "print(res['aggregations'])"
   ]
  },
  {
   "cell_type": "code",
   "execution_count": 94,
   "metadata": {},
   "outputs": [],
   "source": [
    "# req = {\n",
    "#     \"aggs\" : {\n",
    "#         \"all\" : {\n",
    "#             \"filter\" : { \"term\": { \"author\": \"Сергей Есенин\" } },\n",
    "#             \"aggs\" : {\n",
    "#                 \"max_year\" : { \"max\" : { \"field\" : \"year\" } }\n",
    "#             }\n",
    "#         }\n",
    "#     }\n",
    "# }"
   ]
  },
  {
   "cell_type": "code",
   "execution_count": 96,
   "metadata": {},
   "outputs": [
    {
     "name": "stdout",
     "output_type": "stream",
     "text": [
      "{'all': {'doc_count': 0, 'max_year': {'value': None}}}\n"
     ]
    }
   ],
   "source": [
    "# res = es.search(index=\"all\", body=req)\n",
    "\n",
    "# print(res['aggregations'])"
   ]
  },
  {
   "cell_type": "code",
   "execution_count": 90,
   "metadata": {},
   "outputs": [],
   "source": [
    "res = es.search(index='all', body={\n",
    "        \"aggs\": {\n",
    "            \"all_years\": {\n",
    "            \"terms\": { \"field\": \"year\" }\n",
    "            }\n",
    "        }\n",
    "    })"
   ]
  },
  {
   "cell_type": "code",
   "execution_count": 93,
   "metadata": {},
   "outputs": [
    {
     "name": "stdout",
     "output_type": "stream",
     "text": [
      "{'all_years': {'doc_count_error_upper_bound': 0, 'sum_other_doc_count': 55, 'buckets': [{'key': 1925, 'doc_count': 11}, {'key': 1923, 'doc_count': 7}, {'key': 1924, 'doc_count': 6}, {'key': 1977, 'doc_count': 5}, {'key': 1975, 'doc_count': 4}, {'key': 1837, 'doc_count': 3}, {'key': 1922, 'doc_count': 3}, {'key': 1822, 'doc_count': 2}, {'key': 1825, 'doc_count': 2}, {'key': 1826, 'doc_count': 2}]}}\n"
     ]
    }
   ],
   "source": [
    "print(res['aggregations'])"
   ]
  },
  {
   "cell_type": "code",
   "execution_count": 109,
   "metadata": {},
   "outputs": [],
   "source": [
    "req = {\n",
    "    \"aggs\" : {\n",
    "        \"feet\" : {\n",
    "            \"terms\" : { \"field\" : \"foot\"}\n",
    "        }\n",
    "    }\n",
    "}"
   ]
  },
  {
   "cell_type": "code",
   "execution_count": 111,
   "metadata": {},
   "outputs": [
    {
     "name": "stdout",
     "output_type": "stream",
     "text": [
      "{'feet': {'doc_count_error_upper_bound': 0, 'sum_other_doc_count': 0, 'buckets': [{'key': 'ямб', 'doc_count': 37}, {'key': 'хор', 'doc_count': 28}, {'key': 'анапест', 'doc_count': 19}, {'key': 'дольник3', 'doc_count': 9}, {'key': 'амфибрах', 'doc_count': 5}, {'key': 'дактил', 'doc_count': 2}]}}\n"
     ]
    }
   ],
   "source": [
    "res = es.search(index='poems', body=req)\n",
    "print(res['aggregations'])"
   ]
  },
  {
   "cell_type": "code",
   "execution_count": null,
   "metadata": {},
   "outputs": [],
   "source": []
  }
 ],
 "metadata": {
  "kernelspec": {
   "display_name": "Python 3",
   "language": "python",
   "name": "python3"
  },
  "language_info": {
   "codemirror_mode": {
    "name": "ipython",
    "version": 3
   },
   "file_extension": ".py",
   "mimetype": "text/x-python",
   "name": "python",
   "nbconvert_exporter": "python",
   "pygments_lexer": "ipython3",
   "version": "3.7.2"
  }
 },
 "nbformat": 4,
 "nbformat_minor": 2
}
